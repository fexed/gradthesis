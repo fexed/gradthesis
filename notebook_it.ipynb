{
 "cells": [
  {
   "cell_type": "markdown",
   "metadata": {},
   "source": [
    "# Appunti di lavoro sulla tesi\n",
    "\n",
    "#### 14 Giugno 2021\n",
    "Inizio oggi a scrivere questi appunti perché... mi è venuto in mente solo ora.\n",
    "Lunedì scorso i prof. __Lomonaco__ e __Gallicchio__ mi hanno passato due libri e due paper. I libri sono _Hands-On Machine Learning with Scikit-Learn, Keras, and TensorFlow, 2nd Edition_ di Géron e _Deep Learning with Python_ di Chobet, mentre i paper sono _Incremental Federated Learning_ e _RNN for HSM_.\n",
    "Ho subito letto i paper, per inquadrare i dataset necessari, e ho proposto di utilizzare i dataset __WESAD__ e __ASCERTAIN__: in particolare quest'ultimo include dati facciali, che per l'analisi dello stress e delle emozioni possono essere molto utili.\n",
    "\n",
    "Nei giorni successivi, Martedì-Venerdì, ho studiato i capitoli 1-4, 10-12 e 15 del libro di Géron e appuntato i concetti importanti su regressione, classificazione e reti neurali. Ho poi passato Venerdì e Sabato a studiare con gli esempi il capitolo 12, su TensorFlow 2, e ripercorrere col codice gli esempi degli scorsi capitoli, in particolare sui dataset Housing e MNIST.\n",
    "\n",
    "Ieri, Domenica, ho iniziato a creare qualcosa da zero.\n",
    "Ho scaricato il dataset __WESAD__ da _https://ubicomp.eti.uni-siegen.de/home/datasets/icmi18/_ (2.8Gb di zip, che decompressi diventano di un interessantissimo 16,3Gb di peso). Li ho un po' studiati, grazie alla descrizione in PDF inclusa, e ho affrontato uno dietro l'altro i seguenti problemi."
   ]
  },
  {
   "cell_type": "markdown",
   "metadata": {},
   "source": [
    "##### Dati sparsi\n",
    "Il primo approccio era di raccogliere tutti i dati di tutti i soggetti in un unico dataset. Ho abbandonato l'idea, poiché gli script prendevano troppa RAM e non terminavano l'esecuzione, ma il primo passaggio è rimasto quello di allora: raccogliere tutti i _pickle_ dei soggetti in un unico dataset: `totalwesad.pkl`. Di seguito il codice (`wesad_data.py`)"
   ]
  },
  {
   "cell_type": "code",
   "execution_count": null,
   "metadata": {},
   "outputs": [],
   "source": [
    "import pickle\n",
    "from copy import deepcopy\n",
    "\n",
    "dataset = []\n",
    "subjectdata = {\n",
    "\t\"name\" : \"\",\n",
    "\t\"data\" : [],\n",
    "\t\"labels\" : []\n",
    "}\n",
    "\n",
    "for S in [\"S2\", \"S3\", \"S4\", \"S5\", \"S6\", \"S7\", \"S8\", \"S9\", \"S10\", \"S11\", \"S13\", \"S14\", \"S15\", \"S16\", \"S17\"]:\n",
    "\tprint(\"Soggetto \" + S)\n",
    "\tf = open(\"../datasets/WESAD/\" + S + \"/\" + S + \".pkl\", \"rb\")\n",
    "\tdata = pickle.load(f, encoding=\"latin1\")\n",
    "\tsubjectdata[\"name\"] = S\n",
    "\tsubjectdata[\"data\"] = data[\"signal\"]\n",
    "\tsubjectdata[\"labels\"] = data[\"label\"]\n",
    "\tf.close()\n",
    "    # deepcopy, altrimenti copio il riferimento e il dataset avrà 15 S17 poiché è l'ultimo\n",
    "\tdataset.append(deepcopy(subjectdata))\n",
    "\n",
    "with open('totalwesad.pkl', 'wb') as handle:\n",
    "    pickle.dump(dataset, handle, protocol=pickle.HIGHEST_PROTOCOL)"
   ]
  },
  {
   "cell_type": "markdown",
   "metadata": {},
   "source": [
    "##### Frequenza di campionamento\n",
    "I dati sono stati raccolti da due dispositivi, uno al petto (_chest_) e uno al polso (_wrist_). Nel file _pickle_ i dati sono già sincronizzati sulla base di un doppio tocco dato con la mano con il _wrist_ sul _chest_.\n",
    "_Chest_ ha raccolto dati con una frequenza di 700Hz, mentre _wrist_ ha raccolto, rispettivamente, a 32Hz, 8Hz, 4Hz e 4Hz. Avendo le etichette anch'esse a 700Hz, ho deciso di _upscalare_ i dati di _wrist_ a 700Hz usando il seguente codice (`wesad_resample.py`)"
   ]
  },
  {
   "cell_type": "code",
   "execution_count": null,
   "metadata": {},
   "outputs": [],
   "source": [
    "import pickle\n",
    "from scipy import signal\n",
    "\n",
    "f = open(\"totalwesad.pkl\", \"rb\")\n",
    "data = pickle.load(f, encoding=\"latin1\")\n",
    "\n",
    "# resample a 700hz\n",
    "for i in range(len(data)):\n",
    "\t# tutto a 700Mhz per corrispondere alle label\n",
    "\tdata[i][\"data\"][\"wrist\"][\"ACC\"] = signal.resample(data[i][\"data\"][\"wrist\"][\"ACC\"], len(data[i][\"labels\"]))\n",
    "\tdata[i][\"data\"][\"wrist\"][\"BVP\"] = signal.resample(data[i][\"data\"][\"wrist\"][\"BVP\"], len(data[i][\"labels\"]))\n",
    "\tdata[i][\"data\"][\"wrist\"][\"EDA\"] = signal.resample(data[i][\"data\"][\"wrist\"][\"EDA\"], len(data[i][\"labels\"]))\n",
    "\tdata[i][\"data\"][\"wrist\"][\"TEMP\"] = signal.resample(data[i][\"data\"][\"wrist\"][\"TEMP\"], len(data[i][\"labels\"]))\n",
    "\n",
    "for subject in data:\n",
    "\twith open('subjects/' + subject[\"name\"] + '_resampled.pkl', 'wb') as handle:\n",
    "\t    pickle.dump(subject, handle, protocol=pickle.HIGHEST_PROTOCOL)"
   ]
  },
  {
   "cell_type": "markdown",
   "metadata": {},
   "source": [
    "Così ho prodotto un file `Sx_resampled.pkl` per ogni soggetto, dal peso medio di 450Mb (per un totale di circa 6.5Gb!)"
   ]
  },
  {
   "cell_type": "markdown",
   "metadata": {},
   "source": [
    "##### Etichette non usate\n",
    "Nel PDF si specifica che le etichette 5, 6 e 7 dovrebbero essere ignorate in questo dataset. Un po' per avventurarmi ancor di più nel preprocessing e un po' nella speranza di ridurre il peso di questi dati, ho quindi prodotto un altro script che ripulisce i dati corrispondenti a quelle etichette (`wesad_clean.py`)"
   ]
  },
  {
   "cell_type": "code",
   "execution_count": null,
   "metadata": {},
   "outputs": [],
   "source": [
    "import pickle\n",
    "import numpy as np\n",
    "\n",
    "for S in [\"S2\", \"S3\", \"S4\", \"S5\", \"S6\", \"S7\", \"S8\", \"S9\", \"S10\", \"S11\", \"S13\", \"S14\", \"S15\", \"S16\", \"S17\"]:\n",
    "\tX, y = [], []\n",
    "\tf = open('subjects/' + S + '_resampled.pkl', \"rb\")\n",
    "\tsubject = pickle.load(f, encoding=\"latin1\")\n",
    "\tidx = np.where(subject[\"labels\"] > 4)[0].tolist()\n",
    "\tsubject[\"labels\"] = np.delete(subject[\"labels\"], idx)\n",
    "\tfor key in subject[\"data\"].keys():\n",
    "\t\tfor k in subject[\"data\"][key].keys():\n",
    "\t\t\tsubject[\"data\"][key][k] = np.delete(subject[\"data\"][key][k], idx, axis=0)\n",
    "\twith open('subjects/' + subject[\"name\"] + '_cleaned.pkl', 'wb') as handle:\n",
    "\t    pickle.dump(subject, handle, protocol=pickle.HIGHEST_PROTOCOL)\n",
    "\n",
    "\tfor cACC, cECG, cEMG, cEDA, cTemp, cResp, wACC, wBVP, wEDA, wTEMP, label in zip(subject[\"data\"][\"chest\"][\"ACC\"], subject[\"data\"][\"chest\"][\"ECG\"], subject[\"data\"][\"chest\"][\"EMG\"], subject[\"data\"][\"chest\"][\"EDA\"], subject[\"data\"][\"chest\"][\"Temp\"], subject[\"data\"][\"chest\"][\"Resp\"], subject[\"data\"][\"wrist\"][\"ACC\"], subject[\"data\"][\"wrist\"][\"BVP\"], subject[\"data\"][\"wrist\"][\"EDA\"], subject[\"data\"][\"wrist\"][\"TEMP\"], subject[\"labels\"]):\n",
    "\t\tX.append([cACC, cECG, cEMG, cEDA, cTemp, cResp, wACC, wBVP, wEDA, wTEMP])\n",
    "\t\ty.append(label)\n",
    "\twith open('subjects/' + subject[\"name\"] + '_X.pkl', 'wb') as handle:\n",
    "\t    pickle.dump(X, handle, protocol=pickle.HIGHEST_PROTOCOL)\n",
    "\tdel X\n",
    "\twith open('subjects/' + subject[\"name\"] + '_y.pkl', 'wb') as handle:\n",
    "\t    pickle.dump(y, handle, protocol=pickle.HIGHEST_PROTOCOL)\n",
    "\tdel y\n"
   ]
  },
  {
   "cell_type": "markdown",
   "metadata": {},
   "source": [
    "Questo è stato il primo ostacolo: la versione qui sopra è quella funzionante, dopo diverse iterazioni (e un intero pomeriggio) passate tra \"`Killed`\" (perché ucciso dal gestore della memoria del S. O.), approcci vari (confluiti nella versione di `wesad_resample.py` qua sopra, poiché in origine produceva anch'esso un file unico `totalwesad_resampled.py` da circa 6.5Gb)... è stato un ottimo allenamento, e ho anche imparato qualcosa di Python che fa sempre bene.\n",
    "Ad esempio, che iterare con indice nei `for` è lento e usare costrutti del tipo `for element in list` è parecchio più veloce, e nel parsare diversi Gb di dati il cambio di velocità si sente. Ho anche notato che convertendo in array di `numpy` aumentava ulteriormente la velocità e riduceva il peso dei file. Ho abbandonato l'approccio durante i tentavi di risoluzione dei problemi che seguono, ma dovrei rimplementarlo con `numpy`."
   ]
  },
  {
   "cell_type": "markdown",
   "metadata": {},
   "source": [
    "#### Rete Neurale\n",
    "Arrivato a questo punto, ieri sera ho iniziato già a pensare alla rete neurale quando ancora non riuscivo a comprendere totalmente il dataset. Pessima consigliera, la fretta.\n",
    "Anche qua il primo approccio era il dataset completo in memoria, ma per i motivi di cui sopra ho abbandonato l'idea e scelto di processare soggetto per soggetto. Ho quindi preso un soggetto a caso, S13 (l'applicazione di `sklearn.model_selection.train_test_split` alla lista dei soggetti con `random_state=42` lo dava come primo elemento del training set), e ho usato i suoi dati per tutti e tre i set (training, validazione e test)."
   ]
  },
  {
   "cell_type": "code",
   "execution_count": null,
   "metadata": {},
   "outputs": [],
   "source": [
    "print(\"Loading...\")\n",
    "f = open('subjects/S13_cleaned.pkl', \"rb\")\n",
    "subject = pickle.load(f, encoding=\"latin1\")\n",
    "f.close\n",
    "\n",
    "print(\"Creating X and y\")\n",
    "i = 0\n",
    "X, y = [], []\n",
    "for cACC, cECG, cEMG, cEDA, cTemp, cResp, wACC, wBVP, wEDA, wTEMP, label in zip(subject[\"data\"][\"chest\"][\"ACC\"], subject[\"data\"][\"chest\"][\"ECG\"], subject[\"data\"][\"chest\"][\"EMG\"], subject[\"data\"][\"chest\"][\"EDA\"], subject[\"data\"][\"chest\"][\"Temp\"], subject[\"data\"][\"chest\"][\"Resp\"], subject[\"data\"][\"wrist\"][\"ACC\"], subject[\"data\"][\"wrist\"][\"BVP\"], subject[\"data\"][\"wrist\"][\"EDA\"], subject[\"data\"][\"wrist\"][\"TEMP\"], subject[\"labels\"]):\n",
    "    i += 1\n",
    "    X.append(tf.constant([cACC[0], cACC[1], cACC[2], cECG[0], cEMG[0], cEDA[0], cTemp[0], cResp[0], wACC[0], wACC[1], wACC[2], wBVP[0], wEDA[0], wTEMP[0]]))\n",
    "    labels = np.zeros([5])\n",
    "    labels[label] = 1\n",
    "    y.append(tf.constant(labels))\n",
    "del subject"
   ]
  },
  {
   "cell_type": "markdown",
   "metadata": {},
   "source": [
    "Ho quindi creato una lista di tensori da 14 elementi. Perché questo approccio? È la soluzione che ho trovato oggi pomeriggio: ho semplicemente __appiattito__ (_a mano_) __le features delle istanze__: ogni istanza, circa 1,3M per S13, ha 14 features e una classe. Anche le classi da un intero 0-4 le ho trasformate in un __one-hot vector__ da 5 posizioni.\n",
    "Così la rete neurale avrà 14 input e 5 output mutualmente esclusivi: un solo _1_, e gli altri _0_. Questo permette di usare la loss __Categorical Cross Entropy__, usata dai modelli che devono decidere a quale classe esclusiva appartiene un input."
   ]
  },
  {
   "cell_type": "markdown",
   "metadata": {},
   "source": [
    "La prima rete, di test, l'ho fatta di 2 layer nascosti da 300 e 100 neuroni rispettivamente, con _ReLU_ come funzione di attivazione e _softmax_ per l'output layer (poiché è un task di classificazione, che in questo caso genera un output di 5 valori tra 0 e 1 a somma 1)."
   ]
  },
  {
   "cell_type": "code",
   "execution_count": null,
   "metadata": {},
   "outputs": [],
   "source": [
    "model = keras.models.Sequential([\n",
    "    keras.layers.Dense(300, activation=\"relu\", input_shape=tf.shape(X_tr[0])),\n",
    "    keras.layers.Dense(100, activation=\"relu\"),\n",
    "    keras.layers.Dense(5, activation=\"softmax\")\n",
    "])\n",
    "model.compile(loss=tf.keras.losses.CategoricalCrossentropy(), optimizer=\"sgd\", metrics=[\"accuracy\"])\n",
    "model.fit(np.asarray(X_tr), np.asarray(y_tr), epochs=30, validation_data=(np.asarray(X_vl), np.asarray(y_vl)), callbacks=[checkpoint_cb, early_stopping_cb, tensorboard_cb])"
   ]
  },
  {
   "cell_type": "markdown",
   "metadata": {},
   "source": [
    "Con le seguenti callback (ovviamente definite prima)"
   ]
  },
  {
   "cell_type": "code",
   "execution_count": null,
   "metadata": {},
   "outputs": [],
   "source": [
    "checkpoint_cb = keras.callbacks.ModelCheckpoint(\"wesad_nn.h5\", save_best_only=True, save_weights_only=True)\n",
    "early_stopping_cb = keras.callbacks.EarlyStopping(patience=10, restore_best_weights=True)\n",
    "tensorboard_cb = keras.callbacks.TensorBoard(log_dir=get_run_logdir(label=\"test\"), write_graph=True)"
   ]
  },
  {
   "cell_type": "markdown",
   "metadata": {},
   "source": [
    "Ho ottenuto un modello, salvato in `wesad_nn.h5`, con un'accuratezza di circa il 98% sul validation test (fatto sui primi 10k dati di S13, quindi sicuramente non significativi sulle classi).\n",
    "Temendo l'overfitting, e soprattutto dubitando _fortemente_ della bontà di una rete neurale concepita fondamentalmente a caso, ho implementato un Randomized Search sugli iperparametri _numero di neuroni_, _numero di layer nascoste_ e _learning rate dello Stochastic Gradient Descent_. Tutto grazie a Géron."
   ]
  },
  {
   "cell_type": "code",
   "execution_count": null,
   "metadata": {},
   "outputs": [],
   "source": [
    "def build_model(n_hidden=1, n_neurons=30, lr=3e-3, input_shape=[14]):\n",
    "    model = keras.models.Sequential()\n",
    "    model.add(keras.layers.InputLayer(input_shape=input_shape))\n",
    "    for layer in range(n_hidden):\n",
    "        model.add(keras.layers.Dense(n_neurons, activation=\"relu\"))\n",
    "    model.add(keras.layers.Dense(5, activation=\"softmax\"))\n",
    "    optimizer = keras.optimizers.SGD(learning_rate=lr)\n",
    "    model.compile(loss=tf.keras.losses.CategoricalCrossentropy(), optimizer=optimizer, metrics=[\"accuracy\"])\n",
    "    return model\n",
    "\n",
    "\n",
    "param_distribs = {\n",
    "    \"n_hidden\": [1, 2, 3],\n",
    "    \"n_neurons\": np.arange(1, 101, 5),\n",
    "    \"lr\": reciprocal(3e-4, 3e-2),\n",
    "}\n",
    "\n",
    "keras_clf = keras.wrappers.scikit_learn.KerasClassifier(build_model, input_shape=[14])\n",
    "rndsearch = RandomizedSearchCV(keras_clf, param_distribs, n_iter=10, cv=3, refit=True)\n",
    "rndsearch.fit(np.asarray(X_tr), np.asarray(y_tr), epochs=30, validation_data=(np.asarray(X_vl), np.asarray(y_vl)), callbacks=[checkpoint_cb, early_stopping_cb, tensorboard_cb])"
   ]
  },
  {
   "cell_type": "markdown",
   "metadata": {},
   "source": [
    "Sta ancora trainando, l'ultimo modello salvato è delle 18.46 e sono le 20.45, mentre l'ho fatto partire intorno alle 17.45. Questo training lo sto eseguendo su una parte maggiore dei dati di S13, divisi in questo modo."
   ]
  },
  {
   "cell_type": "code",
   "execution_count": null,
   "metadata": {},
   "outputs": [],
   "source": [
    "X_tr, X_ts, y_tr, y_ts = train_test_split(X, y, test_size=0.2, random_state=42)\n",
    "X_tr, X_vl, y_tr, y_vl = train_test_split(X_tr, y_tr, test_size=0.2, random_state=42)\n",
    "\n",
    "X_tr, A, y_tr, B = train_test_split(X_tr, y_tr, test_size=0.5, random_state=42)  # A e B ignorati\n",
    "X_vl, A, y_vl, B = train_test_split(X_vl, y_vl, test_size=0.2, random_state=42)  # A e B ignorati"
   ]
  },
  {
   "cell_type": "markdown",
   "metadata": {},
   "source": [
    "Dando, stando al numero di step di 25294 con batch default di 32 elementi, 809408 elementi. Ci vorrà un po'."
   ]
  },
  {
   "cell_type": "markdown",
   "metadata": {},
   "source": [
    "#### 15 Giugno 2021\n",
    "Ho rilanciato poco fa la randomized search. Oggi ho intenzione di scrivere una callback che, a fine training, copia la cartella dei log di TensorBoard in un'altra (per evitare sovrascritture). Ancora meglio se riesco a copiare solo la \"migliore\" fin'ora, ma dubito.\n",
    "Ho inoltre intenzione di sistemare il preprocessing e farlo sottoforma di pipeline automatizzata, così da passare allo script direttamente i _pickle_ dei soggetti originali."
   ]
  },
  {
   "cell_type": "markdown",
   "metadata": {},
   "source": [
    "##### Preprocessing\n",
    "Sono partito con questo, ma le Pipeline forse non sono ciò che cerco. Richiedono oggetti propri di Scikit, quindi ho preferito mettere _momentaneamente_ gli algoritmi di `wesad_data.py`, `wesad_resample.py` e `wesad_clean.py` all'interno di `wesad_nn.py`.\n",
    "Ho anche aggiunto il parametro `--dataset` per specificare da CLI quale _pickle_ prendere.\n",
    "\n",
    "Non sto a copiare il codice, perché tanto ho copiaincollato i pezzi dagli script precedenti già indicati e sistemato qualche output."
   ]
  },
  {
   "cell_type": "markdown",
   "metadata": {},
   "source": [
    "##### Supporto GPU\n",
    "Ho riprovato ad attivare il supporto GPU ma non riesco a scaricare le versioni insider di Windows 10 quindi per ora abbandono l'idea. Mi interfaccerò con i prof. appena li sento."
   ]
  },
  {
   "cell_type": "markdown",
   "metadata": {},
   "source": [
    "##### Log separati\n",
    "L'ho realizzato con una callback semplice semplice."
   ]
  },
  {
   "cell_type": "code",
   "execution_count": null,
   "metadata": {},
   "outputs": [],
   "source": [
    "logdir = get_run_logdir(label=\"test\")\n",
    "tensorboard_cb = keras.callbacks.TensorBoard(log_dir=logdir, write_graph=True)\n",
    "class CopyBestModelLogsCallback(keras.callbacks.Callback):\n",
    "    def on_train_end(self, logs=None):\n",
    "        os.rename(logdir, logdir + \"_\" + str(logs[\"val_accuracy\"]))"
   ]
  },
  {
   "cell_type": "markdown",
   "metadata": {},
   "source": [
    "Potrei trovare il modo di mettere in `logs` anche il numero di iterazione del RandomSearchCV, ma ormai ho lanciato il training."
   ]
  },
  {
   "cell_type": "markdown",
   "metadata": {},
   "source": [
    "##### Training\n",
    "Ho lanciato il training \"_definitivo_\" per vedere che modello sputa fuori. Ho aggiunto qualche riga di output e tolto la generazione del grafico finale, preferendo invece la stampa dei parametri migliori trovati e il salvataggio del relativo modello in `rndsearchcv_best_wesad_nn.h5`. Subito dopo lo rialleno sull'intero training set e lo valuto sul test set. Non si dovrebbe, perché questo sarebbe il modello di partenza da cui fare fine-tuning a mano, però giusto per vedere cosa succede.\n",
    "\n",
    "Anche perché ci vorranno ore, e ho iniziato a leggere il libro di Chobet."
   ]
  },
  {
   "cell_type": "markdown",
   "metadata": {},
   "source": [
    "Aggiornamento: da domani mi concentrerò sui rimanenti tutorial di TensorFlow, in particolare su RNN e LSTM come suggerito dal prof. Lomonaco. Proseguirò la lettura di Chobet. Ma come prima cosa domattina leggerò i materiali allegati alla mail."
   ]
  },
  {
   "cell_type": "markdown",
   "metadata": {},
   "source": [
    "#### 16 Giugno 2021\n",
    "Ho appena fatto l'accesso al GitLab di TEACHING 2020. Ora leggerò gli allegati che dovrebbero descrivere il lavoro, dopodiché esplorerò un po' il codice e mi metterò a proseguire i tutorial.\n",
    "\n",
    "Intanto, il training di ieri (che ho interrotto) ha prodotto un modello dalle seguenti caratteristiche:"
   ]
  },
  {
   "cell_type": "code",
   "execution_count": null,
   "metadata": {},
   "outputs": [],
   "source": [
    ">>> model.summary()\n",
    "Model: \"sequential_10\"\n",
    "_________________________________________________________________\n",
    "Layer (type)                 Output Shape              Param #\n",
    "=================================================================\n",
    "dense_35 (Dense)             (None, 35)                525\n",
    "_________________________________________________________________\n",
    "dense_36 (Dense)             (None, 35)                1260\n",
    "_________________________________________________________________\n",
    "dense_37 (Dense)             (None, 35)                1260\n",
    "_________________________________________________________________\n",
    "dense_38 (Dense)             (None, 35)                1260\n",
    "_________________________________________________________________\n",
    "dense_39 (Dense)             (None, 5)                 180\n",
    "=================================================================\n",
    "Total params: 4,485\n",
    "Trainable params: 4,485\n",
    "Non-trainable params: 0\n",
    "_________________________________________________________________"
   ]
  },
  {
   "cell_type": "markdown",
   "metadata": {},
   "source": [
    "##### Chobet: loss\n",
    "- Classificazione binaria (due classi) -> `binary crossentropy`\n",
    "- Classificazione multiclasse -> `categorical crossentropy`\n",
    "- Regressione -> `mean squared error`\n",
    "- Sequence-learning problem -> `connectionist temporal classification`\n",
    "- ...and so on"
   ]
  },
  {
   "cell_type": "markdown",
   "metadata": {},
   "source": [
    "##### GPU\n",
    "Dopo aver compiuto __l'insano gesto__ (_installare Windows Dev beta_), ho finalmente fatto riconoscere la GPU a TensorFlow.\n",
    "Su `shakespeare.py` siamo passati da 15m per epoca a circa 30s per epoca."
   ]
  },
  {
   "cell_type": "markdown",
   "metadata": {},
   "source": [
    "##### RNN\n",
    "Come suggerito da Lomonaco, ho seguito qualche tutorial di TensorFlow sulle Recurrent Neural Network (in particolare <a href=\"https://www.tensorflow.org/text/tutorials/text_classification_rnn\">questa</a>) e creato una RNN che prende in input un dataset contenente versi di Shakespeare per poi produrre frasi _attribuibili a lui_.\n",
    "Un risultato è il seguente:"
   ]
  },
  {
   "cell_type": "markdown",
   "metadata": {},
   "source": [
    "ROMEO:\n",
    "What say'st thou, Marcius? took you not?\n",
    "\n",
    "First Lady:\n",
    "March on, marry, sir, now\n",
    "Whats crave your spirits of the house of York\n",
    "Is as fulf this dream-turn blood.\n",
    "\n",
    "QUEEN ELIZABETH:\n",
    "O, that learn sweet mulder drops of the city\n",
    "I'll draw them from the dead blow of king.\n",
    "\n",
    "DORCAS:\n",
    "If they have made a servant may I mean my back;\n",
    "For happy all, as if the lie deepless hard too.\n",
    "\n",
    "MENENIUS:\n",
    "Hear me, O, he is.\n",
    "\n",
    "CLIFFORD:\n",
    "Who is it?\n",
    "\n",
    "Third Lend:\n",
    "I will avoid lament!' which once shall ha't!\n",
    "Abame when good this shall be dead enough, when he says, that's so quench a\n",
    "prey-person most miserable.\n",
    "\n",
    "Bolizen:\n",
    "I am sorry that be setrity\n",
    "and so shall necest vein closely metaille,\n",
    "When at forsworn authority, which I phose his villany:\n",
    "They are as varian. Look, and Saguar!\n",
    "\n",
    "KATHARINA:\n",
    "I will bring him to our ancient. The most\n",
    "Obed impose him by the charmer,\n",
    "craves a doys were near'd a traitor and a man\n",
    "That westmores shall not answer me, if any\n",
    "other brows strange me again upon themselves;\n",
    "and mocking her ther"
   ]
  },
  {
   "cell_type": "markdown",
   "metadata": {},
   "source": [
    "Fondamentalmente, la RNN è stata creata esplicitamente con tre layers:\n",
    "- un layer _Embedding_, una lookup table trainabile che mappa gli id dei caratteri a vettori di _n_ dimensioni.\n",
    "- un layer _GRU_, cioè una RNN simile ad una LSTM con meno parametri e operazioni\n",
    "- un layer denso con output il vocabolario utilizzato\n",
    "\n",
    "Innanzitutto, ogni carattere univoco è mappato in un id"
   ]
  },
  {
   "cell_type": "code",
   "execution_count": null,
   "metadata": {},
   "outputs": [],
   "source": [
    "from tensorflow.keras.layers.experimental import preprocessing\n",
    "\n",
    "ids_from_chars = preprocessing.StringLookup(vocabulary=list(unique_char), mask_token=None)"
   ]
  },
  {
   "cell_type": "markdown",
   "metadata": {},
   "source": [
    "Ma, siccome voglio generare testo leggibile, ho anche la funzione inversa"
   ]
  },
  {
   "cell_type": "code",
   "execution_count": null,
   "metadata": {
    "scrolled": true
   },
   "outputs": [],
   "source": [
    "chars_from_ids = tf.keras.layers.experimental.preprocessing.StringLookup(vocabulary=ids_from_chars.get_vocabulary(), invert=True, mask_token=None)"
   ]
  },
  {
   "cell_type": "markdown",
   "metadata": {},
   "source": [
    "Poi si converte il testo in ids"
   ]
  },
  {
   "cell_type": "code",
   "execution_count": null,
   "metadata": {},
   "outputs": [],
   "source": [
    "all_ids = ids_from_chars(tf.strings.unicode_split(dataset_text, 'UTF-8'))\n",
    "ids_dataset = tf.data.Dataset.from_tensor_slices(all_ids)"
   ]
  },
  {
   "cell_type": "markdown",
   "metadata": {},
   "source": [
    "Si crea il modello"
   ]
  },
  {
   "cell_type": "code",
   "execution_count": null,
   "metadata": {},
   "outputs": [],
   "source": [
    "class ShakespeareModel(tf.keras.Model):\n",
    "    def __init__(self, vocab_size, embedding_dim, rnn_units):\n",
    "        super().__init__(self)\n",
    "        self.embedding = tf.keras.layers.Embedding(vocab_size, embedding_dim)\n",
    "        self.gru = tf.keras.layers.GRU(rnn_units, return_sequences=True, return_state=True)\n",
    "        self.dense = tf.keras.layers.Dense(vocab_size)\n",
    "\n",
    "    def call(self, inputs, states=None, return_state=False, training=False):\n",
    "        x = inputs\n",
    "        x = self.embedding(x, training=training)\n",
    "        if states is None:\n",
    "            states = self.gru.get_initial_state(x)\n",
    "        x, states = self.gru(x, initial_state=states, training=training)\n",
    "        x = self.dense(x, training=training)\n",
    "\n",
    "        if return_state:\n",
    "            return x, states\n",
    "        else:\n",
    "            return x"
   ]
  },
  {
   "cell_type": "markdown",
   "metadata": {},
   "source": [
    "E come loss si usa la Sparse Categorical Crossentropy: abbiamo categorie numerate (gli id, come output) da logit (distribuzioni non normalizzate di probabilità)"
   ]
  },
  {
   "cell_type": "code",
   "execution_count": null,
   "metadata": {},
   "outputs": [],
   "source": [
    "loss = tf.losses.SparseCategoricalCrossentropy(from_logits=True)"
   ]
  },
  {
   "cell_type": "markdown",
   "metadata": {},
   "source": [
    "Per la generazione, si genera il testo carattere per carattere chiamando il modello più volte in sequenza."
   ]
  },
  {
   "cell_type": "code",
   "execution_count": null,
   "metadata": {},
   "outputs": [],
   "source": [
    "class OneStep(tf.keras.Model):\n",
    "    def __init__(self, model, chars_from_ids, ids_from_chars, temperature=1.0):\n",
    "        super().__init__()\n",
    "        self.temperature = temperature\n",
    "        self.model = model\n",
    "        self.chars_from_ids = chars_from_ids\n",
    "        self.ids_from_chars = ids_from_chars\n",
    "\n",
    "        # Create a mask to prevent \"[UNK]\" from being generated.\n",
    "        skip_ids = self.ids_from_chars(['[UNK]'])[:, None]\n",
    "        sparse_mask = tf.SparseTensor(\n",
    "        # Put a -inf at each bad index.\n",
    "            values=[-float('inf')]*len(skip_ids),\n",
    "            indices=skip_ids,\n",
    "            # Match the shape to the vocabulary\n",
    "            dense_shape=[len(ids_from_chars.get_vocabulary())])\n",
    "        self.prediction_mask = tf.sparse.to_dense(sparse_mask)\n",
    "\n",
    "    @tf.function\n",
    "    def generate_one_step(self, inputs, states=None):\n",
    "        # Convert strings to token IDs.\n",
    "        input_chars = tf.strings.unicode_split(inputs, 'UTF-8')\n",
    "        input_ids = self.ids_from_chars(input_chars).to_tensor()\n",
    "\n",
    "        # Run the model.\n",
    "        # predicted_logits.shape is [batch, char, next_char_logits]\n",
    "        predicted_logits, states = self.model(inputs=input_ids, states=states, return_state=True)\n",
    "        # Only use the last prediction.\n",
    "        predicted_logits = predicted_logits[:, -1, :]\n",
    "        predicted_logits = predicted_logits/self.temperature\n",
    "        # Apply the prediction mask: prevent \"[UNK]\" from being generated.\n",
    "        predicted_logits = predicted_logits + self.prediction_mask\n",
    "\n",
    "        # Sample the output logits to generate token IDs.\n",
    "        predicted_ids = tf.random.categorical(predicted_logits, num_samples=1)\n",
    "        predicted_ids = tf.squeeze(predicted_ids, axis=-1)\n",
    "\n",
    "        # Convert from token ids to characters\n",
    "        predicted_chars = self.chars_from_ids(predicted_ids)\n",
    "\n",
    "# Return the characters and model state.\n",
    "return predicted_chars, states\n",
    "\n",
    "one_step_model = OneStep(model, chars_from_ids, ids_from_chars)\n",
    "next_char = tf.constant(['ROMEO:'])\n",
    "result = [next_char]\n",
    "\n",
    "for n in range(1000):\n",
    "    next_char, states = one_step_model.generate_one_step(next_char, states=states)\n",
    "    result.append(next_char)"
   ]
  },
  {
   "cell_type": "markdown",
   "metadata": {},
   "source": [
    "Salvo il modello mantenendo tutta la struttura e il training"
   ]
  },
  {
   "cell_type": "code",
   "execution_count": null,
   "metadata": {},
   "outputs": [],
   "source": [
    "tf.saved_model.save(one_step_model, '/home/fexed/ML/models/shakespeare')"
   ]
  },
  {
   "cell_type": "markdown",
   "metadata": {},
   "source": [
    "Lo posso caricare e usarlo per generare con uno script a parte anche su un dispositivo diverso"
   ]
  },
  {
   "cell_type": "code",
   "execution_count": null,
   "metadata": {},
   "outputs": [],
   "source": [
    "import os\n",
    "os.environ['TF_CPP_MIN_LOG_LEVEL'] = '3'\n",
    "import tensorflow as tf\n",
    "\n",
    "model = tf.saved_model.load('/home/fexed/ML/models/shakespeare')\n",
    "\n",
    "states = None\n",
    "next_char = tf.constant(['ROMEO:'])\n",
    "result = [next_char]\n",
    "\n",
    "for n in range(1000):\n",
    "    next_char, states = model.generate_one_step(next_char, states=states)\n",
    "    result.append(next_char)\n",
    "\n",
    "print(tf.strings.join(result)[0].numpy().decode(\"utf-8\"))"
   ]
  },
  {
   "cell_type": "markdown",
   "metadata": {},
   "source": [
    "##### Esperimento serale\n",
    "Voglio provare a esplorare e usare questo dataset: _<a href=\"https://www.tensorflow.org/datasets/catalog/goemotions?hl=en\">goemotions</a>_\n",
    "Sono 58k commenti presi da Reddit catalogati su 28 emozioni: neutrale, ammirazione, rabbia, gioia, ottimismo, rimorso...\n",
    "\n",
    "Perfetto, intanto installo `tensorflow-datasets`"
   ]
  },
  {
   "cell_type": "code",
   "execution_count": null,
   "metadata": {},
   "outputs": [],
   "source": [
    "pip3 install tensorflow-datasets"
   ]
  },
  {
   "cell_type": "markdown",
   "metadata": {},
   "source": [
    "Carico il dataset"
   ]
  },
  {
   "cell_type": "code",
   "execution_count": null,
   "metadata": {},
   "outputs": [],
   "source": [
    "import tensorflow as tf\n",
    "import tensorflow_datasets as tfds\n",
    "\n",
    "dataset = tfds.load('goemotions')"
   ]
  },
  {
   "cell_type": "markdown",
   "metadata": {},
   "source": [
    "Che è già suddiviso"
   ]
  },
  {
   "cell_type": "code",
   "execution_count": null,
   "metadata": {},
   "outputs": [],
   "source": [
    "list(dataset)\n",
    "# >>> [Split('train'), Split('validation'), Split('test')]"
   ]
  },
  {
   "cell_type": "markdown",
   "metadata": {},
   "source": [
    "Quindi suddivido i vari set e verificando sono della lunghezza specificata sul sito"
   ]
  },
  {
   "cell_type": "code",
   "execution_count": null,
   "metadata": {},
   "outputs": [],
   "source": [
    "trset, vlset, tsset = list(ds[\"train\"]), list(ds[\"validation\"]), list(ds[\"test\"])\n",
    "print(str(len(trset)) + \" \" + str(len(vlset)) + \" \" + str(len(tsset)))\n",
    "# 43410 5426 5427"
   ]
  },
  {
   "cell_type": "markdown",
   "metadata": {},
   "source": [
    "#### 17 Giugno 2021\n",
    "Ieri sera ho ragequittato per disperazione per infiniti problemi e lentezza di divisione feature-labels.\n",
    "Sono giunto a questo codice:"
   ]
  },
  {
   "cell_type": "code",
   "execution_count": null,
   "metadata": {},
   "outputs": [],
   "source": [
    "@tf.function\n",
    "def to_hot_vector(item):\n",
    "    return tf.convert_to_tensor([\n",
    "        tf.cond(tf.equal(item[\"admiration\"], tf.constant(True)), lambda: 1, lambda: 0),\n",
    "        # ...\n",
    "        tf.cond(tf.equal(item[\"surprise\"], tf.constant(True)), lambda: 1, lambda: 0)\n",
    "    ])\n",
    "\n",
    "\n",
    "def split_texts_labels(list):\n",
    "    texts = []\n",
    "    labels = []\n",
    "    for item in list:\n",
    "        texts.append(item[\"comment_text\"])\n",
    "        labels.append(to_hot_vector(item))\n",
    "    return texts, labels"
   ]
  },
  {
   "cell_type": "markdown",
   "metadata": {},
   "source": [
    "Ma con la GPU sembra molto più lento il processo. Posso forzare la CPU per un pezzo di codice con:"
   ]
  },
  {
   "cell_type": "code",
   "execution_count": null,
   "metadata": {},
   "outputs": [],
   "source": [
    "with tf.device('/CPU:0'):\n",
    "    # codice su CPU\n",
    "\n",
    "# codice su GPU (o dispositivo scelto automaticamente)"
   ]
  },
  {
   "cell_type": "markdown",
   "metadata": {},
   "source": [
    "Ma su `wesad_nn.py` non cambia effettivamente molto, a livello di tempistiche. Dovrei parallelizzare."
   ]
  },
  {
   "cell_type": "code",
   "execution_count": null,
   "metadata": {},
   "outputs": [],
   "source": [
    "def split_texts_labels(list):\n",
    "    texts = []\n",
    "    labels = []\n",
    "    for item in list:\n",
    "        texts.append(item[\"comment_text\"])\n",
    "        labels.append(to_hot_vector(item))\n",
    "    return texts, labels\n",
    "\n",
    "Xtr, ytr, Xvl, yvl, Xts, yts = [], [], [], [], [], []\n",
    "\n",
    "def trsplit():\n",
    "    global Xtr, ytr\n",
    "    Xtr, ytr = split_texts_labels(dataset[\"train\"])\n",
    "\n",
    "def vlsplit():\n",
    "    global Xvl, yvl\n",
    "    Xvl, yvl = split_texts_labels(dataset[\"validation\"])\n",
    "\n",
    "def tssplit():\n",
    "    global Xts, yts\n",
    "    Xts, yts = split_texts_labels(dataset[\"test\"])\n",
    "\n",
    "tr = threading.Thread(target=trsplit)\n",
    "vl = threading.Thread(target=vlsplit)\n",
    "ts = threading.Thread(target=tssplit)\n",
    "tr.start()\n",
    "vl.start()\n",
    "ts.start()"
   ]
  },
  {
   "cell_type": "markdown",
   "metadata": {},
   "source": [
    "Però continuo ad avere problemi. Mi concentro su altro per adesso."
   ]
  },
  {
   "cell_type": "markdown",
   "metadata": {},
   "source": [
    "##### WESAD\n",
    "Ho approfittato della GPU per allenarmi: la RandomSearchCV ha prodotto un modello con:\n",
    "- learning rate = 0.006679\n",
    "- layer nascosti = 2\n",
    "- neuroni per layer = 45\n",
    "\n",
    "Ora ne faccio un altra, restringendo la ricerca a 1, 2 o 3 layer nascosti da [34, 55, 1] neuroni con learning rate tra 0.003 e 0.007"
   ]
  },
  {
   "cell_type": "markdown",
   "metadata": {},
   "source": [
    "Con un'accortezza (resample a 4Hz invece di 700Hz) sono riuscito a costruire i tre set con tutti i soggetti"
   ]
  },
  {
   "cell_type": "code",
   "execution_count": null,
   "metadata": {},
   "outputs": [],
   "source": [
    "Xtr: 115092 instances of tf.Tensor(14, shape=(), dtype=int32) features,  y_tr: 115092 labels of tf.Tensor(5, shape=(), dtype=int32)\n",
    "Xvl: 28773 instances of tf.Tensor(14, shape=(), dtype=int32) features,  y_vl: 28773 labels of tf.Tensor(5, shape=(), dtype=int32)\n",
    "Xts: 35967 instances of tf.Tensor(14, shape=(), dtype=int32) features,  y_ts: 35967 labels of tf.Tensor(5, shape=(), dtype=int32)"
   ]
  },
  {
   "cell_type": "markdown",
   "metadata": {},
   "source": [
    "Ho modificato la generazione del modello, aggiungendo un regolarizzatore, dropout e cambiando l'ottimizzatore da SGD a Nadam"
   ]
  },
  {
   "cell_type": "code",
   "execution_count": null,
   "metadata": {},
   "outputs": [],
   "source": [
    "def build_model(n_hidden=1, n_neurons=30, lr=3e-3, reg_rate=0.001, drop_rate=0.25, input_shape=[8]):\n",
    "    model = keras.models.Sequential()\n",
    "    model.add(keras.layers.InputLayer(input_shape=input_shape, kernel_regularizer=keras.regularizers.l2(reg_rate)))\n",
    "    model.add(keras.layers.Dropout(drop_rate))\n",
    "    for layer in range(n_hidden):\n",
    "        model.add(keras.layers.Dense(n_neurons, activation=\"relu\", kernel_regularizer=keras.regularizers.l2(reg_rate)))\n",
    "        model.add(keras.layers.Dropout(drop_rate))\n",
    "    model.add(keras.layers.Dense(5, activation=\"softmax\"))\n",
    "    optimizer = keras.optimizers.Nadam(learning_rate=lr)\n",
    "    model.compile(loss=tf.keras.losses.CategoricalCrossentropy(), optimizer=optimizer, metrics=[\"accuracy\"])\n",
    "    return model"
   ]
  },
  {
   "cell_type": "markdown",
   "metadata": {},
   "source": [
    "##### Chobet: activations and losses\n",
    "- __Binary Classification__, _last-layer activation_=sigmoid, _loss function_=binary_crossentropy\n",
    "- __Multiclass Single-Label Classification__, _last-layer activation_=softmax, _loss function_=categorical_crossentropy\n",
    "- __Multiclass Multi-Label Classification__, _last-layer activation_=sigmoid, _loss function_=binary_crossentropy\n",
    "- __Regressione su valori arbitrari__, _last-layer activation_=_nessuna_, _loss function_=mse\n",
    "- __Regressione tra 0 e 1__, _last-layer activation_=sigmoid, _loss function_=mse oppure binary_crossentropy"
   ]
  },
  {
   "cell_type": "markdown",
   "metadata": {},
   "source": [
    "##### Per il resto...\n",
    "Ho praticamente finito Chobet, insieme a Géron sono ottimi testi di riferimento. Devo leggere l'ultimo capitolo, domani, che è conlusivo e tira le somme.\n",
    "Ho iniziato a capire, penso, gli errori fatti nei giorni scorsi. Domani mi piacerebbe riprendere da zero un dataset e riprovare, magari con __goemotions__, a fare diverse reti:\n",
    "- una DNN classica sequenziale\n",
    "- una RNN con LSTM\n",
    "- una RNN con GRU\n",
    "\n",
    "così faccio pratica di _preprocessing_, _tokenization_ e altri lavori sul testo anche se non mi saranno utilissimi per la tesi.\n",
    "Intanto aspetto notizie dai prof., al limite sollecito Domenica.\n",
    "Gli ultimi giorni sono stati moltissimo istruttivi: da zero ora riesco a fare un modello mentale di una NN, so in linea di principio come impostare i dati, conosco i concetti teorici necessari a produrre una rete funzionante.\n",
    "Devo mettere in pratica, seguendo per bene delle linee guida dai vari testi di riferimento. Stasera pausa, però."
   ]
  },
  {
   "cell_type": "markdown",
   "metadata": {},
   "source": [
    "#### 18 Giugno 2021\n",
    "##### Goemotions\n",
    "Alla fine ci sono riuscito. In un'oretta, anche grazie allo studio del dataset dell'altra volta, ho prodotto questo.\n",
    "\n",
    "Anzitutto prendo il dataset e tokenizzo:"
   ]
  },
  {
   "cell_type": "code",
   "execution_count": null,
   "metadata": {},
   "outputs": [],
   "source": [
    "import tensorflow as tf\n",
    "import tensorflow_datasets as tfds\n",
    "\n",
    "\n",
    "print(\"Loading dataset\")\n",
    "dataset = tfds.load('goemotions')\n",
    "trset, vlset, tsset = dataset[\"train\"], dataset[\"validation\"], dataset[\"test\"]\n",
    "tokenizer = Tokenizer(2000)\n",
    "txt = []\n",
    "for item in trset:\n",
    "    txt.append(item[\"comment_text\"].numpy().decode('utf-8'))\n",
    "tokenizer.fit_on_texts(txt)\n",
    "word_index = tokenizer.word_index\n",
    "print(\"Found \" +  str(len(word_index)) + \" unique words\")"
   ]
  },
  {
   "cell_type": "markdown",
   "metadata": {},
   "source": [
    "Ho poi costruito i __generatori__ che ritornano batch di 32 elementi:"
   ]
  },
  {
   "cell_type": "code",
   "execution_count": null,
   "metadata": {},
   "outputs": [],
   "source": [
    "def generator(set):\n",
    "    i = 0\n",
    "    txts = []\n",
    "    lbls = []\n",
    "    for item in set:\n",
    "        i += 1\n",
    "        txts.append(tf.constant(tokenizer.texts_to_matrix([item[\"comment_text\"].numpy().decode('utf-8')], mode=\"binary\")[0]))\n",
    "        lbls.append(to_hot_vector(item))\n",
    "\n",
    "        if i % 32 == 0:  # 32 alla volta\n",
    "            yield np.array(txts), np.array(lbls)\n",
    "            txts = []\n",
    "            lbls = []\n",
    "            \n",
    "\n",
    "trgenerator = generator(trset)\n",
    "vlgenerator = generator(vlset)\n",
    "tsgenerator = generator(tsset)"
   ]
  },
  {
   "cell_type": "markdown",
   "metadata": {},
   "source": [
    "Poi da qui è semplicemente costruire la rete neurale e provarla, test."
   ]
  },
  {
   "cell_type": "code",
   "execution_count": null,
   "metadata": {},
   "outputs": [],
   "source": [
    "# NN: multiclass, single-label, 2000 tokens input and 28 class output\n",
    "model = tf.keras.models.Sequential([\n",
    "    tf.keras.layers.Dense(300, activation=\"relu\", input_shape=[2000]),\n",
    "    tf.keras.layers.Dense(100, activation=\"relu\"),\n",
    "    tf.keras.layers.Dense(28, activation=\"softmax\")\n",
    "])\n",
    "model.compile(loss=tf.keras.losses.CategoricalCrossentropy(), optimizer=\"rmsprop\", metrics=[\"accuracy\"])\n",
    "checkpoint_cb = tf.keras.callbacks.ModelCheckpoint(\"/home/fexed/ML/models/goemotions_nn.h5\", save_best_only=True)\n",
    "early_stopping_cb = tf.keras.callbacks.EarlyStopping(patience=10, restore_best_weights=True)\n",
    "tensorboard_cb = tf.keras.callbacks.TensorBoard(log_dir=get_run_logdir(label=\"nn\"))\n",
    "model.fit(trgenerator, epochs=30, batch_size=None, validation_data=vlgenerator, callbacks=[checkpoint_cb, early_stopping_cb, tensorboard_cb])"
   ]
  },
  {
   "cell_type": "markdown",
   "metadata": {},
   "source": [
    "Solo che il training è molto lento, 500ms a step circa.\n",
    "Posso provare così, generandoli interamente in memoria:"
   ]
  },
  {
   "cell_type": "code",
   "execution_count": null,
   "metadata": {},
   "outputs": [],
   "source": [
    "def generate(set):\n",
    "    txts = []\n",
    "    lbls = []\n",
    "    for item in set:\n",
    "        txts.append(tf.constant(tokenizer.texts_to_matrix([item[\"comment_text\"].numpy().decode('utf-8')], mode=\"binary\")[0]))\n",
    "        lbls.append(to_hot_vector(item))\n",
    "    return np.array(txts), np.array(lbls)\n",
    "\n",
    "\n",
    "def trsplit():\n",
    "    global X_tr, y_tr\n",
    "    X_tr, y_tr = generate(trset)\n",
    "\n",
    "\n",
    "def vlsplit():\n",
    "    global X_vl, y_vl\n",
    "    X_vl, y_vl = generate(vlset)\n",
    "\n",
    "\n",
    "def tssplit():\n",
    "    global X_ts, y_ts\n",
    "    X_ts, y_ts = generate(tsset)\n",
    "\n",
    "    \n",
    "X_tr, y_tr, X_vl, y_vl, X_ts, y_ts = [], [], [], [], [], []\n",
    "tr = threading.Thread(target=trsplit)\n",
    "vl = threading.Thread(target=vlsplit)\n",
    "ts = threading.Thread(target=tssplit)\n",
    "tr.start()\n",
    "vl.start()\n",
    "ts.start()\n",
    "\n",
    "tr.join()\n",
    "vl.join()\n",
    "ts.join()"
   ]
  },
  {
   "cell_type": "markdown",
   "metadata": {},
   "source": [
    "Come proof of concept, con una LSTM verrebbe così"
   ]
  },
  {
   "cell_type": "code",
   "execution_count": null,
   "metadata": {},
   "outputs": [],
   "source": [
    "def GoEmotionsModel(vocab_size, embedding_dim, rnn_units):\n",
    "    model = tf.keras.models.Sequential()\n",
    "    model.add(tf.keras.layers.Embedding(vocab_size, embedding_dim , input_shape=[2000]))\n",
    "    model.add(tf.keras.layers.LSTM(rnn_units, activation=\"relu\"))\n",
    "    model.add(tf.keras.layers.Dense(28, activation=\"softmax\"))\n",
    "    model.compile(loss=tf.keras.losses.CategoricalCrossentropy(), optimizer=\"rmsprop\", metrics=[\"accuracy\"])\n",
    "    return model\n",
    "\n",
    "model = GoEmotionsModel(28207, 128, 100)  # goemotions ha 28207 parole uniche"
   ]
  },
  {
   "cell_type": "markdown",
   "metadata": {},
   "source": [
    "Ma non ci provo nemmeno a trainare, 10h ad epoch siamo matti."
   ]
  },
  {
   "cell_type": "markdown",
   "metadata": {},
   "source": [
    "##### Shakespeare\n",
    "Per fare altra pratica, ho passato il resto del pomeriggio a trasformare _shakespeare_ da character-based a word-based.\n",
    "\n",
    "Ho anche provato con 2 hidden layer GRU"
   ]
  },
  {
   "cell_type": "markdown",
   "metadata": {},
   "source": [
    "##### Somme\n",
    "Oggi mi sono imbattuto in altri problemi, li ho affrontati e risolti.\n",
    "Ho per esempio capito altri trucchi di preprocessing, scritto da zero un modello con la __Functional API__ e in generale mi sento più navigato con TensorFlow e le NN in generale. Sto anche continuando a seguire grafici e fare scelte di model selection sugli iperparametri, riuscendo a spingere le metriche nelle direzioni che voglio.\n",
    "\n",
    "Stamani Lomonaco mi ha mandato il codice su WESAD di un altro tesista. L'ho esplorato e sono stato piacevolmente colpito dal scoprire che ha adoperato le mie stesse scelte sull'impostazione del problema e sul preprocessing dei dati. Domani le esploro più a fondo, anche se sento di aver capito scelte e direzioni, e scriverò a Lomonaco su come procedere (use case, call per consigli ecc.)\n",
    "\n",
    "Ora finisco Chobet, poi per oggi basta."
   ]
  },
  {
   "cell_type": "markdown",
   "metadata": {},
   "source": [
    "#### 19 Giugno 2021\n",
    "##### Chobet\n",
    "Finito. Nell'ultimo capitolo c'è un'ottima reference per funzioni d'attivazione, layer ecc."
   ]
  },
  {
   "cell_type": "markdown",
   "metadata": {},
   "source": [
    "##### Continual Learning\n",
    "_As seen <a href=\"https://youtu.be/k0kMx4BFLmI\">here</a>_\n",
    "\n",
    "Elastic Weight Consolidation, pesi non sono punti nello spazio dei parametri ma distribuzioni di probabilità (Bayesian Machine Learning). Approcci di regolarizzazione\n",
    "\n",
    "Gradient Episodic Memory, lavora con buffer di esempi per ogni task"
   ]
  },
  {
   "cell_type": "markdown",
   "metadata": {},
   "source": [
    "#### 20 Giugno 2021\n",
    "##### Continual Learning\n",
    "_As read <a href=\"https://www.sciencedirect.com/science/article/pii/S0893608019300231\">here</a>_\n",
    "- __Catastrophic Forgetting__ quando nuova informazione interferisce con l'allenamento eseguito in precedenza. Porta a diminuzione performance o sovrascrittura precedente conoscenza.\n",
    "- __Stability-Plasticity Dilemma__\n",
    " - __Stability__ quando la nuova conoscenza quando disponibile non interferisce con la conoscenza precedente\n",
    " - __Plasticity__ quando la nuova conoscenza migliora la conoscenza precedente e viceversa\n",
    "\n",
    "__Metodi di regolarizzazione__ per mitigare il catastrophic forgetting, attraverso vincoli sugli aggiornamenti dei pesi neurali:\n",
    "- __Learning without Forgetting__ (_LwF_): varie CNN dove la rete con le predizioni di task già appresi è vincolata ad essere simile alla rete del task corrente usando __knowledge distillation__ (trasferimento di conoscenza da un modello grande e altamente regolarizzato ad un modello più piccolo). Fondamentalmente, i nuovi parametri non devono differire troppo dai vecchi.\n",
    "- __Elastic Weight Consolidation__ (_EWC_): penalità quadratica sulla differenza tra i parametri del vecchio e del nuovo task, rallenta l'apprendimento di pesi relativi al task su conoscenza relativa a task già appresi.\n",
    "- __AR1__: per single-incremental-task, dove combina strategie architetturali e regolarizzanti. Approcci di regolarizzazione tendono a ridurre progressivamente i cambi di peso, con la maggior parte dei cambiamenti che avvengono sui layer superiori. In AR1 i layer intermedi sono adattati senza impatto negativo sul forgetting.\n",
    "\n",
    "__Metodi ensemble__, attraverso i quali si allenano classificatori multipli e li si combina per generare le predizioni. Rischio di occupazione elevata di memoria, mitigata con varie tecniche. Ad esempio combinando sottomodelli dopo fase di training, o MLP con una Fixed Expansion Layer (FEL) che incorpora un layer nascosto sparso per mitigare gli effetti delle rappresentazioni già apprese. Insiemi di FEL tengono minima l'occupazione di memoria ma incrementano livelli di plasticità. Ma anche PathNet, algoritmi genetici per trovare percorso ottimale in una NN di dimensione fissa per replicarla e mutarla: trova parti della rete che possono essere riusate per apprendere nuovi task e freeza quelle rilevanti per i task appresi.\n",
    "\n",
    "__Architetture dinamiche__, con cui si cambiano proprietà architetturali in risposta a nuove informazioni. Ad esempio, allocando sotto-reti di capacità fissa da addestrare con nuove informazioni.\n",
    "- __Progressive Networks__, mantengono un modello pre-alleanto per ogni task e le connessioni laterali con i task esistenti sono apprese).\n",
    "- __Denoising Autoencoder__, dove si aggiungono neuori per istanze con loss alto e si uniscono questi neuroni con gli esistenti per prevenire ridondanza\n",
    "- __Neurogenesis Deep Learning__ (_NDL_) aggiunge unità neurali all'autoencoder e intrinsic replay (pseudo-reharsal con un modello generativo) per preservare i pesi necessari a mantenere le informazioni precedenti\n",
    "- __Dynamic Expanding Network__, dove si allena selettivamente, espanendo la capacità della rete usando group sparse regularization per decidere quanti neuroni aggiungere ad ogni layer\n",
    "- __Reti ricorrenti auto-organizzanti che allocano automaticamente neuroni__: inizializzate con due neuroni, ogni neurone ha un parametro che indica quanto frequentemente si è attivato, se questo valore scende sotto una certa soglia si aggiunge un neurone. Ha anche un fattore modulante che descresce nel tempo riducendo il tasso di apprendimento per preservare la conoscenza precedente.\n",
    "\n",
    "__Memory Replay__ e __Complementary Learning Systems__ (_CLS_): simulano l'interplay tra l'ippocampo e la neocorteccia. L'interplay tra memoria episodica (esperienza specifica) e memoria semantica (conoscenza generale strutturata) fornisce intuizioni importanti nel meccanismo di consolidazione della memoria in assenza di input sensoriale\n",
    "- __Dual-Memory Learning Systems__ si ispirano alla CLS, ad esempio ogni connessione neurale ha un peso plastico che cambia lentamente per la memoria a lungo termine e uno che cambia velocemente per la memoria temporanea. Altrimenti due modelli, uno per early processing e uno per lungo termine, trasferendo memorie con pseudo-reharsal tra i due centri. (Pseudo-Reharsal: esempi non memorizzati ma generati da uno spazio probabilistico) \n",
    "- __GeppNet__ (una __self-organizing map__ (_SOM_)) e __GeppNet+STM__ (SOM estesa con una __short-term memory__ (_STM_)): la prima usa il feedback rilevante al task di una regression layer per decidere se nella self-organizing hidden layer dev'esserci apprendimento, la seconda usa la STM per memorizzare la nuova mmeoria che viene occasionalmente ripetuta alla GeppNet durante le fasi di sonno. La STM ha capacità limitata, quindi imparare cose nuove può sovrascrivere le vecchie. In entrambi i casi, l'apprendimento è diviso in due fasi: uno per l'inizializzazione e uno per l'effettivo learning incrementale.\n",
    "- __Deep Generative Model e Task Solver__: dati training dei task precedenti già appresi possono essere inframezzati con informazioni dai nuovi task. Simile ai precedenti dove si generano esempi da rilasciare insieme alle info dei nuovi task.\n",
    "- __Macchine di Turing Evolvibile__ (_ENTM_), che memorizza memorie a lungo termine allocando componenti di memoria esterni. La struttura ottimale è trovata partendo da una configurazione iniziale minima ed evolvendo la struttura e i pesi della rete.\n",
    "- __Gradient Episodic Memory__ (_GEM_), dove una memoria episodica memorizza un sottonsieme degli esempi visti per un dato task. Mentre minimizza la loss su un task, usa le loss sulle memorie episodiche dei task precedenti come vincoli di iniquità (consente loro di diminuire ma non di aumentare). Richiede una memoria episodica per task.\n",
    "- __FearNet__: una rete ippocampale che può immediatamente fare recall dei nuovi esempi, una rete PFC per memorie a lungo termine e una terza rete neurale ispirata all'amigdala basolaterale per determinare se usare la prima o la seconda rete per un particolare esempio. Consolida la info dalla rete ippocampale alla PFC durante le fasi di sonno. Il modello PFC è una rete neurale generativa che crea pseudoesempi che vengono poi mischiati a esempi osservati recentemente presi dalla rete ippocampale.\n",
    "\n",
    "__Metriche__. Purtroppo non c'è consenso sui dataset benchmark e sulle metriche. Si può valutare l'accuratezza oltre all'abilità di trasferire conoscenza tra task: può avvenire forward o backward. Forward quando imparare un task A ha influenza su un futuro task B, backward è l'influenza di un attuale task B su un precedente task A. Il tasferimento è positivo quando imparare A migliora la performace su B (forward o backward), negativo altrimenti.\n",
    "Altri approcci sono sperimentali:\n",
    "- data permutation: training sul dataset e training su una permutazione del dataset, che testa l'abilità del modello di imparare nuove informazioni incrementalmente con rappresentazioni simili. Ci si aspetta il modello eviti il catastrophic forgetting dei dati originali durante il learning sulla permutazione.\n",
    "- incremental class learning: la performance del modello riflette l'abilità di mantenere informazioni apprese precedentemente apprendendo una classe alla volta\n",
    "- multimodal learning: stesso modello allenato sequenzialmente su dataset di modalità differenti, testando l'abilità del modello di imparare incrementalmente informazioni nuove come rappresentazioni delle features molto differenti (es. prima immagini e dopo audio)\n",
    "\n",
    "__Dataset__: Caltech-UCSD Birds-200, AudioSet, CORe50\n",
    "\n",
    "__Scenari__\n",
    "- new instances (_NI_): tutte le classi mostrate nel primo batch, istanze di classi conosciute disponibili nel tempo\n",
    "- new classes (_NC_): in ogni batch appaiono nuove classi (così da doverle imparare senza dimenticare le precedenti)\n",
    "- new instances and clases (_NIC_): sia nuove classi che nuove istanze in ogni batch\n",
    "\n",
    "_As read <a href=\"http://proceedings.mlr.press/v78/lomonaco17a.html\">here</a>_\n",
    "\n",
    "__CORe50__: dataset e benchmark proposto per _continuous object recogniction_ e approccio baseline per diversi scenari di continuous learning. Dataset esistenti non considerano la presenza di più vedute degli stessi oggetti con diverse caratteristiche (sfondo diverso, luce diversa, posa, occlusioni...). Tre scenari:\n",
    "- NI, nuove istanze delle solite classe disponibili in batch successivi con nuove pose e condizioni. Un modello dovrebbe consolidare incrementalmente la propria conoscenza sulle classi già note.\n",
    "- NC, le nuove istanze sono di classi differenti. Il modello dovrebbe imparare le nuove classi senza perdere in accuratezza sulle precedenti\n",
    "- NIC, le nuove istanze sono sia di classi differenti che di classi già note. Un buon modello dovrebbe consolidare la conoscenza delle classi note e impararne di nuove.\n",
    "\n",
    "__C__ontinuous __O__bject __Re__cognition: 50 oggetti in 10 categorie, riconoscibili a livello di oggetto (50 classi) o di categoria (10 classi)."
   ]
  },
  {
   "cell_type": "markdown",
   "metadata": {},
   "source": [
    "#### 21 Giugno 2021\n",
    "##### Federated Learning\n",
    "_As read <a href=\"https://www.sciencedirect.com/science/article/pii/S266729522100009X\">here</a>_\n",
    "\n",
    "Cloud computing inadatto a richieste di bassa latenza -> __edge computing__, dove non si manda tutto a server centralizzato ma si scambiano dati tra dispositivi \"on the edge\". Se il server edge ha bisogno di più potenza si connette al server cloud. Fornisce anche maggior sicurezza: i dati viaggiano meno e su più canali diversi, rendendone più difficile l'intercettazione. Non si ha un __single point of failure__. Principi:\n",
    "- __Mobilità__: i dispositivi edge devono poter agire con elementi in costante movimento (es: veicoli a guida autonoma, con dispositivi edge a bordo strada)\n",
    "- __Prossimità__: per poter minimizzare la latenza, i dispositivi edge devono essere posizionati il più vicino possibile all'utente finale\n",
    "- __Copertura__: deve essere estesa per poter avere edge computing ovunque e garantire un'ottima ux.\n",
    "\n",
    "__Federated learning__ è un framework di machine learning collaborativo che consente a dispositivi con risorse diverse e dataset privati diversi di lavorare insieme per studiare e allenare un modello globale: mette in collaborazione le risorse computazionali di diversi dispositivi preservandone al contempo la privacy. La rete neurale globale è memorizzata in un server centrale, mentre i dati usati per allenarla sono memorizzati nei vari dispositivi. Il modello è allenato sull'edge, e gli aggiornamenti di ogni nodo vengono mandati al server centrale che aggrega le informazioni. Il modello globale è poi replicato sui nodi. Non tutti i nodi sono richiesti per eseguire il training: vengono scelti a caso.\n",
    "\n",
    "Ogni nodo $nodo_i$ di $n$ nodi ha il proprio dataset $\\chi_i$. Ponendo $f$ come funzione di loss, in una sincronizzazione $nodo_i$ calcola il peso aggiornato basandosi sul peso attuale $w_t^i$ al tempo $t$, con passo $\\gamma_t$:\n",
    "$$w_{t+1}^i = w_t - \\gamma_t\\cdot\\frac{\\partial\\:f(w_t,\\chi_i)}{\\partial\\:w}\\:\\:(i = 1, 2, \\ldots, n)$$\n",
    "Il server usa una funzione di aggregazione $A$ per aggregare i pesi caricati e aggiornare i pesi per il prossimo round. I pesi al tempo $t + 1$ sono:\n",
    "$$w_{t+1} = A(w_t^1, w_t^2, \\ldots, w_t^n)$$\n",
    "Solitamente, $A$ è semplicemente la media.\n",
    "\n",
    "A differenza del __distributed learning__, dove i dataset sono partizioni di un dataset centrale quindi con caratteristiche simili, nel federated learning non si fanno assunzioni sui dataset dei nodi. Ci sono una serie di vantaggi:\n",
    "- Tempo di training ridotto, poiché dispositivi multipli calcolano gradienti in parallelo\n",
    "- Tempo di inferenza ridotto, poiché ogni dispositivo ha la propria copia locale del modello e non deve \"chiedere\" al server centrale\n",
    "- Privacy garantita, poiché non si scambiano i dataset sulla rete quindi le informazioni sensibili rimangono sul dispositivo edge\n",
    "- __Collaborative learning__ più facile, poiché invece di raccogliere un dataset massivo per allenare un modello, il federated learning consente di fare \"crowdsourcing\" e permettere di collezionare dati ed etichettare più facilmente sia in termini di tempo che di sforzo.\n",
    "\n",
    "Il futuro promettente è l'__edge federated learning__. Un'applicazione potrà essere la rete veicolare: i dati generati dal dispositivo, come posizione, orientamento, immagini, pressione ecc., sono utili per i produttori per fornire sistemi di navigazione intelligente e avvisi tempestivi. Il computer a bordo raccoglie i dati e li manda al sistem di __Vehicle Edge Computing__ (_VEC_) per allenare il modello locale. L'edge federated learning sul VEC può realizzare i bisogni degli utenti prendendo decisioni riguardo i veicoli: ad esempio, prevedendo la richiesta di corrente elettrica per ricaricare i veicoli elettrici. Inoltre anche l'image classification è un task tipico nelle reti veicolari. Un approccio di aggregazione potrebbe essere selezionare un modello solo se le immagini di training sono di alta qualità e il nodo ha sufficiente potenza computazionale. Infine, la guida autonoma.\n",
    "- __Cross-device Edge Federated Learning__: i nodi attivi per il training sono nell'ordine dei milioni e ogni nodo ha relativamente pochi dati e poca potenza computazionale (come sensori). Sfide maggiori: costi di comunicazione molto alti quando il server sincronizza i modelli e spedisce il nuovo modello globale, oltre alla difficoltà di gestire efficientemente un alto numero di nodi e gestire problemi di rete\n",
    "- __Cross-silo Edge Federated Learning__: il numero di nodi è relativamente piccolo, ma ogni nodo deve avere sufficiente potenza computazionale da processare grandi quantità di dati su ogni edge server. La sfida è distribuire il calcolo agli edge server, mantenendo i vincoli di budget computazionali e privacy.\n",
    "\n",
    "In entrambi i casi, gli approcci efficienti possono essere rovinati dall'eterogeneità di sistema (hardware differente, configurazioni di rete, potenza elettrica...) e dall'eterogeneità statistica (cioè la diversa distribuzione dei dati nei dataset dei nodi)\n",
    "\n",
    "Il classico SGD non è sempre ottimo per il federated learning: non avendo dataset ugualmente distribuiti il gradiente non è affidabile. Diversi metodi comuni per alleggerire le comunicazioni:\n",
    "- __Gradient Quantization__: usando SGD o altro gradiente del primo ordine come ottimizzatore, si quantizza il gradiente al suo valore di bassa precisione.\n",
    "- __Gradient Sparsification__: si ignorano le coordinate del vettore di gradiente meno interessanti. Le DNN sono solitamente sovra-parametrizzate con molti parametri vicini a zero. Si ignorano i parametri con valore sotto una certa soglia. Purtroppo ignorare quei parametri può far degenerare la convergenza e la performance. Inoltre scegliere la soglia staticamente è impraticabile per le DNN, e delle volte nemmeno convergono. Sono quindi state proposte tecniche miste da Quantization e Sparsification.\n",
    "\n",
    "Metodi per alleggerire i calcoli:\n",
    "- __Network Quantization__: metodi che usano pesi e attivazioni quantizzate, usando una combinazione lineare dei pesi o la loss del modello.\n",
    "- __Network Pruning__: ignorare continuativamente i pesi piccoli e trovare una sottostruttura ottimale della rete originale.\n",
    "\n",
    "Attacchi:\n",
    "- __Byzantine Attack__: l'intero sistema distribuito cade se un nodo viene compromesso, finendo per non calcolare o aggiornare i pesi correttamente. Un attaccante bizantino può prendere controllo dell'intero risultato di aggregazione (se $A$ è una funzione di media) e portare ad un training sbagliato. Si può attaccare generando rumore gaussiano come gradienti d'attacco (__gaussian attack__), caricare un gradiente che ha come direzione la somma delle direzioni degli altri nodi onesti (__omniscent attack__) o scambiare qualche bit del gradiente d'attacco (__flip bit attack__).\n",
    "- __Data Poisoning__: si modificano gli input, ad esempio scambiando randomicamente le labels.\n",
    "- __Model Poisoning__: manipolare il modello locale per iniettare backdoor o attacchi malevoli nel modello globale.\n",
    "\n",
    "Difese contro i Bizantyne Attack, tutte della stessa struttura (il server deve distinguere le informazioni oneste da quelle attaccanti):\n",
    "- __Score-based methods__: si assegna una metrica di punteggio ad ogni peso caricato e si sceglie quello con il punteggio maggiore. Ad esempio, la somma delle norme L2 dei $n - f - 2$ gradienti più vicini e prendere il punteggio maggiore, ma scegliendo un solo peso si riduce di molto la velocità di convergenza.\n",
    "- __Median-based methods__: si usa la media geometrica e varianti, ma essendo un metodo ricorsivo aumenta la complessità in tempo.\n",
    "- __Distance-based methods__: si usa la distanza nello spazio euclideo.\n",
    "\n",
    "Attacchi contro la privacy, in generale estrapolano informazioni sul dataset privato dai pesi che viaggiano in rete:\n",
    "- __Membership inference attacks__ per determinare se un record appartiene o medo al training set di un nodo. Se il dataset è sensibile, può far ottenere molte informazioni utili\n",
    "- __Data inference attacks__ per ottenere un dato o la classe di un dato dalle informazioni di un nodo.\n",
    "\n",
    "Difese:\n",
    "- __Soluzioni algorithm-based__: __differential privacy__, aggiungere rumore mantenendo performance accettabile\n",
    "- __Soluzioni encryption-based__: in architetture a basso livello, dove si crittano le comunicazioni\n",
    "\n",
    "Scheduling, importante per gestire le risorse dei nodi. Nel federated learning, una iterazione sincrona richiede che tutti i partecipanti finiscano le proprie computazioni e carichino i dati, quindi la velocità di training è limitata dal nodo più lento in termini di potenza computazionale e banda di rete. La maggior parte delle soluzione seguono queste quattro direzioni:\n",
    "- __Participant selection__: il server sceglie randomicamente i nodi che calcoleranno.\n",
    "- __Resource optimizatiom__: i nodi più \"potenti\" calcoleranno di più, in accordo all'eterogeneità dei nodi.\n",
    "- __Asynchronous training__: può migliorare molto l'efficienza rispetto al training sincrono in sistemi eterogenei.\n",
    "- __Incentive mechanism__: compensazione per spingere a usare più risorse per il lavoro collaborativo, anche attirando più partecipanti\n",
    "\n",
    "__Federated Averaging algorithm__, <a href=\"https://arxiv.org/pdf/1602.05629.pdf\">Google</a>. Usa i processori degli smartphone per calcolare aggiornamenti di maggiore qualità rispetto a semplici passi di gradiente. Il training usa così meno banda e converge più rapidamente rispetto SGD. Privacy ulteriormente garantita con il __secure aggregation protocol__, che usa tecniche crittografiche che permettono al server di procedere alla media solo quando centinaia o migliaia di utenti hanno partecipato, rendendo quindi impossibile ispezionare una singola update prima della media. Federated Averagin ha bisogno solo della media degli aggiornamenti, che consente di usare il protocollo secure aggregation.\n",
    "\n",
    "##### Tipologie di Federated Learning\n",
    "_As read <a href=\"https://arxiv.org/pdf/1902.04885.pdf\">here</a>_\n",
    "\n",
    "- __Horizontal Federated Learning__ o sample-based: i dataset hanno lo stesso feature space ma differenti sample.\n",
    "- __Vertical Federated Learning__ o feature-based: i dataset hanno soliti sample ma con diverse feature.\n",
    "- __Federated Transfer Learning__: i dataset differiscono sia nelle feature che nei sample.\n",
    "\n",
    "__Meccanismi di incentivo__ e piattaforme leali necessarie per potere commercializzare il concetto di federated learning."
   ]
  },
  {
   "cell_type": "markdown",
   "metadata": {},
   "source": [
    "##### Continual Learning\n",
    "As read <a href=\"https://arxiv.org/pdf/1706.08840.pdf\">here</a>\n",
    "\n",
    "##### Metriche\n",
    "Per evitare il catastrophic forgetting servono metriche per valutare l'apprendimento su un flusso di dati che misurino anche il trasferimento di conoscenza fra i task. Considerato un ambiente naturale dove ci sono tanti task, pochi esempi per task visitabili una sola volta con metriche che misurano sia il transfer learning che il forgetting.\n",
    "\n",
    "##### Gradient Episodic Memory\n",
    "Una memoria episodica $M_t$ memorizza un sottoinsieme degli esempi per il task $t$. L'obiettivo è anche minimizzare l'impatto negativo del backward transfer (cioè il catastrophic forgetting).\n",
    "\n",
    "Si allocano $m$ memorie per ogni task con gli ultimi $m$ esempi visti (ma esistono tecniche migliori, come individuare un coreset per ogni task).\n",
    "\n",
    "##### Elastic Weight Consolidation\n",
    "As read <a href=\"https://www.pnas.org/content/pnas/114/13/3521.full.pdf\">here</a>\n",
    "\n",
    "Il principio è rallentare il learning sui pesi relativi a precedenti task. I parametri relativi ad un task sono modificati rimanendo all'interno di un'area di basso errore sul precedente task. Il vincolo è implementato come penalità quadratica ma non è forte uguale su tutti i parametri: è più forte tanto più un parametro è legato al task precedente. Per implementarlo, si considerano i pesi come probabilità: ottimizzare un parametro è trovare il suo valore più probabile rispetto a un dato $p(\\theta\\:|\\:D)$.\n",
    "\n",
    "Il vincolo è applicato a partire dalla loss del nuovo task con un vincolo normalizzatore che misura la distanza dai parametri del task già appreso."
   ]
  },
  {
   "cell_type": "markdown",
   "metadata": {},
   "source": [
    "#### 22 Giugno 2021\n",
    "##### GoEmotions\n",
    "Ho ritoccato un po' il codice, ma rimango sempre sulle ~2-3h di training. Diciamo che abbandono l'idea, è un dataset troppo grosso per il mio PC. Dovrei provarlo su quello di mio padre.\n",
    "\n",
    "##### TensorFlow Extended\n",
    "_As read <a href=\"https://dl.acm.org/doi/pdf/10.1145/3097983.3098021\">here</a>_\n",
    "\n",
    "Per pipeline di produzione, non interessante al momento.\n",
    "\n",
    "##### Scenari\n",
    "_As read <a href=\"https://arxiv.org/pdf/1904.07734v1.pdf\">here</a>_\n",
    "\n",
    "Considerata una NN che deve imparare sequenzialmente una serie di task. Durante il training solo i dati del task corrente sono disponibili e i task sono assunti come chiaramente separati. Una differenza fondamentale è se, a tempo di test, è fornita informazione riguardo la task identity e, se non disponibile, se il modello deve o meno identificare la task identity.\n",
    "- __Task-IL__: risolvere i task fin'ora con task-ID fornita. Il modello sa sempre quale task risolvere. Possibile addestrare modelli con componenti specifici ai task. Tipicamente, output multi-head, input separato per task e potenzialmente rete condivisa tra task.\n",
    "- __Domain-IL__: risolvere i task fin'ora, senza fornire task-ID. Il task non è fornito ma non serve inferirlo, bisogna solo risolverlo. Tipici esempi quando struttura dei task è simile, come sopravvivere in diversi ambienti senza esplicitamente identificare ambiente.\n",
    "- __Class-IL__: tisolvere i task fin'ora e inferire il task-ID. Modello deve risolvere il task e inferire quale task è. Include problemi come imparare incrementalmente nuove classi di oggetti.\n",
    "\n",
    "Un layout multi-headed richiede la conoscenza del task-identity, mentre un single-headed no. Esempio con MNIST:\n",
    "- Task 1: identificare tra classe 0 e classe 1\n",
    "- Task 2: identificare tra classe 2 e classe 3\n",
    "- Task 3: identificare tra classe 4 e classe 5\n",
    "- Task 4: identificare tra classe 6 e classe 7\n",
    "- Task 5: identificare tra classe 8 e classe 9\n",
    "\n",
    "Diventando:\n",
    "- __Task-IL__: dato il task, è la prima o la seconda classe? Es. 0 o 1\n",
    "- __Domain-IL__: senza sapere il task, è la prima o la seconda classe? Es. $\\in$ [0, 2, 4, 6, 8] o $\\in$ [1, 3, 5, 7, 9]\n",
    "- __Class-IL__: senza sapere il task, che cifra è? Es. scelta da 0 a 9\n",
    "\n",
    "##### GRU e LSTM\n",
    "_As read... online_\n",
    "\n",
    "__GRU__ più veloci delle __LSTM__ del 29.29%, e ha performance migliori su testi e dataset piccoli. __LSTM__ migliore negli altri scenari."
   ]
  },
  {
   "cell_type": "code",
   "execution_count": null,
   "metadata": {},
   "outputs": [],
   "source": [
    "# LSTM singola\n",
    "LSTMmodel = tf.keras.models.Sequential()\n",
    "LSTMmodel.add(tf.keras.layers.LSTM(1, input_shape=(10,1)))\n",
    "LSTMmodel.compile(optimizer='adam', loss='mse')\n",
    "\n",
    "# LSTM doppia\n",
    "LSTMmodel = tf.keras.models.Sequential()\n",
    "LSTMmodel.add(tf.keras.layers.LSTM(1, input_shape=(10,1), return_sequences=True))\n",
    "LSTMmodel.add(tf.keras.layers.LSTM(1))\n",
    "LSTMmodel.compile(optimizer='adam', loss='mse')\n",
    "\n",
    "# LSTM tripla\n",
    "LSTMmodel = tf.keras.models.Sequential()\n",
    "LSTMmodel.add(tf.keras.layers.LSTM(1, input_shape=(10,1), return_sequences=True))\n",
    "LSTMmodel.add(tf.keras.layers.LSTM(1, return_sequences=True))\n",
    "LSTMmodel.add(tf.keras.layers.LSTM(1))\n",
    "LSTMmodel.compile(optimizer='adam', loss='mse')\n",
    "\n",
    "# Dense e LSTM doppia\n",
    "LSTMmodel = tf.keras.models.Sequential()\n",
    "LSTMmodel.add(tf.keras.layers.Dense(1, input_shape=(10,1)))\n",
    "LSTMmodel.add(tf.keras.layers.LSTM(1, return_sequences=True))\n",
    "LSTMmodel.add(tf.keras.layers.LSTM(1))\n",
    "LSTMmodel.compile(optimizer='adam', loss='mse')"
   ]
  },
  {
   "cell_type": "code",
   "execution_count": null,
   "metadata": {},
   "outputs": [],
   "source": [
    "# GRU singolo\n",
    "GRUmodel = tf.keras.models.Sequential()\n",
    "GRUmodel.add(tf.keras.layers.GRU(1, input_shape=(10,1)))\n",
    "GRUmodel.compile(optimizer='adam', loss='mse')\n",
    "\n",
    "# GRU doppia\n",
    "GRUmodel = tf.keras.models.Sequential()\n",
    "GRUmodel.add(tf.keras.layers.GRU(1, input_shape=(10,1), ))\n",
    "GRUmodel.add(tf.keras.layers.GRU(1))\n",
    "GRUmodel.compile(optimizer='adam', loss='mse')\n",
    "\n",
    "# GRU tripla\n",
    "GRUmodel = tf.keras.models.Sequential()\n",
    "GRUmodel.add(tf.keras.layers.GRU(1, input_shape=(10,1), return_sequences=True))\n",
    "GRUmodel.add(tf.keras.layers.GRU(1, return_sequences=True))\n",
    "GRUmodel.add(tf.keras.layers.GRU(1))\n",
    "GRUmodel.compile(optimizer='adam', loss='mse')\n",
    "\n",
    "# Dense e GRU doppia\n",
    "GRUmodel = tf.keras.models.Sequential()\n",
    "GRUmodel.add(tf.keras.layers.Dense(1, input_shape=(10,1)))\n",
    "GRUmodel.add(tf.keras.layers.GRU(1, return_sequences=True))\n",
    "GRUmodel.add(tf.keras.layers.GRU(1))\n",
    "GRUmodel.compile(optimizer='adam', loss='mse')"
   ]
  },
  {
   "cell_type": "markdown",
   "metadata": {},
   "source": [
    "Ho riprovato WESAD, con il codice di _Disarli_. Dataset (copiaincollato):"
   ]
  },
  {
   "cell_type": "code",
   "execution_count": null,
   "metadata": {},
   "outputs": [],
   "source": [
    "import pickle\n",
    "import numpy as np\n",
    "import scipy.signal\n",
    "import tensorflow.keras as keras\n",
    "\n",
    "#Loading subjects\n",
    "ds = {\n",
    "    \"S2\": pickle.load(open(\"/home/fexed/ML/datasets/WESAD/S2/S2.pkl\", 'rb'), encoding='latin1'),\n",
    "    \"S3\": pickle.load(open(\"/home/fexed/ML/datasets/WESAD/S3/S3.pkl\", 'rb'), encoding='latin1'),\n",
    "    \"S4\": pickle.load(open(\"/home/fexed/ML/datasets/WESAD/S4/S4.pkl\", 'rb'), encoding='latin1'),\n",
    "    \"S5\": pickle.load(open(\"/home/fexed/ML/datasets/WESAD/S5/S5.pkl\", 'rb'), encoding='latin1'),\n",
    "    \"S6\": pickle.load(open(\"/home/fexed/ML/datasets/WESAD/S6/S6.pkl\", 'rb'), encoding='latin1'),\n",
    "    \"S7\": pickle.load(open(\"/home/fexed/ML/datasets/WESAD/S7/S7.pkl\", 'rb'), encoding='latin1'),\n",
    "    \"S8\": pickle.load(open(\"/home/fexed/ML/datasets/WESAD/S8/S8.pkl\", 'rb'), encoding='latin1'),\n",
    "    \"S9\": pickle.load(open(\"/home/fexed/ML/datasets/WESAD/S9/S9.pkl\", 'rb'), encoding='latin1'),\n",
    "    \"S10\": pickle.load(open(\"/home/fexed/ML/datasets/WESAD/S10/S10.pkl\", 'rb'), encoding='latin1'),\n",
    "    \"S11\": pickle.load(open(\"/home/fexed/ML/datasets/WESAD/S11/S11.pkl\", 'rb'), encoding='latin1'),\n",
    "    \"S13\": pickle.load(open(\"/home/fexed/ML/datasets/WESAD/S13/S13.pkl\", 'rb'), encoding='latin1'),\n",
    "    \"S14\": pickle.load(open(\"/home/fexed/ML/datasets/WESAD/S14/S14.pkl\", 'rb'), encoding='latin1'),\n",
    "    \"S15\": pickle.load(open(\"/home/fexed/ML/datasets/WESAD/S15/S15.pkl\", 'rb'), encoding='latin1'),\n",
    "    \"S16\": pickle.load(open(\"/home/fexed/ML/datasets/WESAD/S16/S16.pkl\", 'rb'), encoding='latin1'),\n",
    "    \"S17\": pickle.load(open(\"/home/fexed/ML/datasets/WESAD/S17/S17.pkl\", 'rb'), encoding='latin1')\n",
    "}\n",
    "print(\"Subjects loaded\")\n",
    "\n",
    "#Resample subjects data to 32 Hz and concatenating features on y axis\n",
    "X = {}\n",
    "for s in ds.keys():\n",
    "    X[s] = np.concatenate([\n",
    "        scipy.signal.resample(ds[s]['signal']['chest']['ACC'], len(ds[s]['signal']['wrist']['ACC'])),\n",
    "        scipy.signal.resample(ds[s]['signal']['chest']['EDA'], len(ds[s]['signal']['wrist']['ACC'])),\n",
    "        scipy.signal.resample(ds[s]['signal']['chest']['EMG'], len(ds[s]['signal']['wrist']['ACC'])),\n",
    "        scipy.signal.resample(ds[s]['signal']['chest']['ECG'], len(ds[s]['signal']['wrist']['ACC'])),\n",
    "        scipy.signal.resample(ds[s]['signal']['chest']['Resp'], len(ds[s]['signal']['wrist']['ACC'])),\n",
    "        scipy.signal.resample(ds[s]['signal']['chest']['Temp'], len(ds[s]['signal']['wrist']['ACC'])),\n",
    "        scipy.signal.resample(ds[s]['signal']['wrist']['ACC'], len(ds[s]['signal']['wrist']['ACC'])),\n",
    "        scipy.signal.resample(ds[s]['signal']['wrist']['BVP'], len(ds[s]['signal']['wrist']['ACC'])),\n",
    "        scipy.signal.resample(ds[s]['signal']['wrist']['EDA'], len(ds[s]['signal']['wrist']['ACC'])),\n",
    "        scipy.signal.resample(ds[s]['signal']['wrist']['TEMP'], len(ds[s]['signal']['wrist']['ACC']))\n",
    "        ], axis = 1)\n",
    "    print(s, \"Resampled\")\n",
    "print(\"Resampling ok\")\n",
    "\n",
    "#Now merge all the subjects\n",
    "X = np.concatenate([X[s] for s in ds.keys()], axis = 0)\n",
    "#Standardization\n",
    "X = (X - X.mean(axis = 0)) / X.std(axis = 0)\n",
    "print(\"X concatenated\")\n",
    "\n",
    "#Resample subjects targets and merging subjects labels\n",
    "Y = np.concatenate([scipy.signal.resample(ds[s]['label'], len(ds[s]['signal']['wrist']['ACC'])) for s in ds.keys()], axis = 0)\n",
    "Y = np.around(Y)\n",
    "Y = abs(Y.astype(np.int32))\n",
    "print(\"Y concatenated\")\n",
    "\n",
    "print(\"Shape of X:\", X.shape)\n",
    "print(\"Shape of Y:\", Y.shape)\n",
    "\n",
    "#Removing targets 0, 5, 6, 7\n",
    "X = X[(Y>0) & (Y<5)]\n",
    "Y = Y[(Y>0) & (Y<5)]\n",
    "\n",
    "print(\"Shape of X:\", X.shape)\n",
    "print(\"Shape of Y:\", Y.shape)\n",
    "\n",
    "assert len(X) == len(Y)\n",
    "\n",
    "#Calculate length of each subsequence\n",
    "count = 0\n",
    "prev = Y[0]\n",
    "LenSubsequences = []\n",
    "for elem in Y:\n",
    "    if(elem != prev):\n",
    "        LenSubsequences.append(count)\n",
    "        count = 0\n",
    "    count += 1\n",
    "    prev = elem\n",
    "\n",
    "#Creating X and Y list of subsequences, length = 100 (3 seconds)\n",
    "#Taking only a prefix of each subsequence (labels in equal number), length prefix = 1600\n",
    "#Label 4 appears twice for each subject, so we take half the subsequence\n",
    "SubsequencesX = []\n",
    "SubsequencesY = []\n",
    "i = 0\n",
    "for elem in LenSubsequences:\n",
    "    if(elem > 1600):\n",
    "        lim = 1600\n",
    "        if(Y[i+1] == 4):\n",
    "            lim = 800\n",
    "        for j in range(0, lim, 100):\n",
    "            if(j+100 <= lim):\n",
    "                SubsequencesX.append(X[i+j:i+j+100])\n",
    "                SubsequencesY.append(Y[i+j+50])\n",
    "    i += elem\n",
    "\n",
    "#Reshaping data\n",
    "X_WES = (np.array(SubsequencesX, dtype = np.float64)).reshape(-1, 100, 14)\n",
    "\n",
    "#Now targets go from 0 to 3 (instead of 1-4)\n",
    "Y = np.array(SubsequencesY, dtype = np.float32) - 1\n",
    "y_WES = keras.utils.to_categorical(Y, num_classes = 4)\n",
    "\n",
    "print(\"Shape of X:\", X_WES.shape)\n",
    "print(\"Shape of y:\", y_WES.shape)\n",
    "\n",
    "with open(\"/home/fexed/ML/datasets/WESAD/splitted/X_disarli.pkl\", 'wb') as handle:\n",
    "    pickle.dump(X_WES, handle, protocol=pickle.HIGHEST_PROTOCOL)\n",
    "with open(\"/home/fexed/ML/datasets/WESAD/splitted/y_disarli.pkl\", 'wb') as handle:\n",
    "    pickle.dump(y_WES, handle, protocol=pickle.HIGHEST_PROTOCOL)\n"
   ]
  },
  {
   "cell_type": "markdown",
   "metadata": {},
   "source": [
    "Ho provato diversi tipi di reti"
   ]
  },
  {
   "cell_type": "code",
   "execution_count": null,
   "metadata": {},
   "outputs": [],
   "source": [
    "# LSTM, circa 135ms a step\n",
    "model = tf.keras.models.Sequential()\n",
    "model.add(tf.keras.layers.LSTM(16, return_sequences = True))\n",
    "model.add(tf.keras.layers.LSTM(16))\n",
    "model.add(tf.keras.layers.Dense(4, activation = 'softmax',\n",
    "                  kernel_regularizer = tf.keras.regularizers.l1_l2(l1 = 1e-5, l2 = 1e-5),\n",
    "                  bias_regularizer = tf.keras.regularizers.l1_l2(l1 = 1e-4, l2 = 1e-4),\n",
    "                  activity_regularizer = tf.keras.regularizers.l1_l2(l1 = 1e-5, l2 = 1e-5)))\n",
    "opt = tf.keras.optimizers.Adam(learning_rate = 0.01, beta_1 = 0.85, beta_2 = 0.98)\n",
    "model.compile(loss = 'categorical_crossentropy', optimizer = opt, metrics = ['accuracy'])\n",
    "\n",
    "logdir = get_run_logdir(label=\"GRU\")\n",
    "es = tf.keras.callbacks.EarlyStopping(monitor = 'val_loss', mode = 'min', patience = 10, verbose = 1, restore_best_weights = True)\n",
    "tb = tf.keras.callbacks.TensorBoard(log_dir=logdir, write_graph=True)\n",
    "graph = model.fit(X_trainWES, y_trainWES, epochs = 100, validation_data = (X_valWES, y_valWES), callbacks = [es, tb])"
   ]
  },
  {
   "cell_type": "code",
   "execution_count": null,
   "metadata": {},
   "outputs": [],
   "source": [
    "# GRU, circa 135ms a step\n",
    "model = tf.keras.models.Sequential()\n",
    "model.add(tf.keras.layers.GRU(16, return_sequences = True))\n",
    "model.add(tf.keras.layers.GRU(16))\n",
    "model.add(tf.keras.layers.Dense(4, activation = 'softmax',\n",
    "                  kernel_regularizer = tf.keras.regularizers.l1_l2(l1 = 1e-5, l2 = 1e-5),\n",
    "                  bias_regularizer = tf.keras.regularizers.l1_l2(l1 = 1e-4, l2 = 1e-4),\n",
    "                  activity_regularizer = tf.keras.regularizers.l1_l2(l1 = 1e-5, l2 = 1e-5)))\n",
    "opt = tf.keras.optimizers.Adam(learning_rate = 0.01, beta_1 = 0.85, beta_2 = 0.98)\n",
    "model.compile(loss = 'categorical_crossentropy', optimizer = opt, metrics = ['accuracy'])\n",
    "\n",
    "logdir = get_run_logdir(label=\"GRU\")\n",
    "es = tf.keras.callbacks.EarlyStopping(monitor = 'val_loss', mode = 'min', patience = 10, verbose = 1, restore_best_weights = True)\n",
    "tb = tf.keras.callbacks.TensorBoard(log_dir=logdir, write_graph=True)\n",
    "graph = model.fit(X_trainWES, y_trainWES, epochs = 100, validation_data = (X_valWES, y_valWES), callbacks = [es, tb])"
   ]
  },
  {
   "cell_type": "code",
   "execution_count": null,
   "metadata": {},
   "outputs": [],
   "source": [
    "# SimpleRNN, circa 1s a step\n",
    "model = tf.keras.models.Sequential()\n",
    "model.add(tf.keras.layers.SimpleRNN(16, return_sequences = True))\n",
    "model.add(tf.keras.layers.SimpleRNN(16))\n",
    "model.add(tf.keras.layers.Dense(4, activation = 'softmax',\n",
    "                  kernel_regularizer = tf.keras.regularizers.l1_l2(l1 = 1e-5, l2 = 1e-5),\n",
    "                  bias_regularizer = tf.keras.regularizers.l1_l2(l1 = 1e-4, l2 = 1e-4),\n",
    "                  activity_regularizer = tf.keras.regularizers.l1_l2(l1 = 1e-5, l2 = 1e-5)))\n",
    "opt = tf.keras.optimizers.Adam(learning_rate = 0.01, beta_1 = 0.85, beta_2 = 0.98)\n",
    "model.compile(loss = 'categorical_crossentropy', optimizer = opt, metrics = ['accuracy'])\n",
    "\n",
    "logdir = get_run_logdir(label=\"SimpleRNN\")\n",
    "es = tf.keras.callbacks.EarlyStopping(monitor = 'val_loss', mode = 'min', patience = 10, verbose = 1, restore_best_weights = True)\n",
    "tb = tf.keras.callbacks.TensorBoard(log_dir=logdir, write_graph=True)\n",
    "graph = model.fit(X_trainWES, y_trainWES, epochs = 100, validation_data = (X_valWES, y_valWES), callbacks = [es, tb])"
   ]
  },
  {
   "cell_type": "markdown",
   "metadata": {},
   "source": [
    "#### 23 Giugno 2021\n",
    "##### Call w/ Lomonaco, Bacciu, Gallicchio\n",
    "\n",
    "- Debugger per esplorare tensori a runtime\n",
    "- WESAD classificare per sottosequenze\n",
    "- Passare a __continual learning__, leggere paper\n",
    "- Tecniche di replay\n",
    "- WESAD diviso in soggetti o gruppi di soggetti (7 gruppi da 2 soggetti)\n",
    "    - baseline: tr su primi due e test, tr su solo successivi due e test e così via\n",
    "    - baseline: cumulativa (sommando i set)\n",
    "- gridsearch o simile\n",
    "\n"
   ]
  },
  {
   "cell_type": "markdown",
   "metadata": {},
   "source": [
    "#### 24 Giugno 2021\n",
    "Ho preparato i dataset elaborati da Disarli e divisi per soggetto, il codice in `\\home\\fexed\\ML\\scripts\\continual\\data.py`\n",
    "\n",
    "Ho poi fatto il continual training come suggerito (a blocchi di due soggetti)\n",
    "\n",
    "Usando questa rete"
   ]
  },
  {
   "cell_type": "code",
   "execution_count": null,
   "metadata": {},
   "outputs": [],
   "source": [
    "model = tf.keras.models.Sequential()\n",
    "model.add(tf.keras.layers.GRU(29, input_shape=(100, 14)))\n",
    "model.add(tf.keras.layers.Dense(4, activation = 'softmax',\n",
    "                  kernel_regularizer = tf.keras.regularizers.l1_l2(l1 = 1e-5, l2 = 1e-5),\n",
    "                  bias_regularizer = tf.keras.regularizers.l1_l2(l1 = 1e-5, l2 = 1e-5),\n",
    "                  activity_regularizer = tf.keras.regularizers.l1_l2(l1 = 1e-6, l2 = 1e-6)))\n",
    "opt = tf.keras.optimizers.Adam(learning_rate = 0.005, beta_1 = 0.85, beta_2 = 0.999)\n",
    "model.compile(loss = 'categorical_crossentropy', optimizer = opt, metrics = ['accuracy'])"
   ]
  },
  {
   "cell_type": "markdown",
   "metadata": {},
   "source": [
    "Il training eseguito sul dataset completo (cioè tutti i soggetti insieme), usando S17 come test set, ha dato questi risultati:\n",
    "\n",
    "`Media numero epoche: 17.0\n",
    "Deviazione standard numero epoche: 0.0\n",
    "Media tempo di addestramento: 12.04 s\n",
    "Media accuracy: 28.57 %\n",
    "Deviazione standard accuracy: 0.0 %`\n",
    "\n",
    "Mentre con il continual learning a blocchi di due soggetti, sempre usando S17 come test set, ha dato i seguenti:\n",
    "\n",
    "`Media numero epoche: 60.0\n",
    "Deviazione standard numero epoche: 0.0\n",
    "Media tempo di addestramento: 32.34 s\n",
    "Media accuracy: 45.15 %\n",
    "Deviazione standard accuracy: 16.33 %`\n",
    "\n",
    "Con un learning cumulativo, cioè mantenendo i dataset già allenati e sommando gli \"ultimi\" due soggetti:\n",
    "\n",
    "`Media numero epoche: 66.29\n",
    "Deviazione standard numero epoche: 36.79\n",
    "Media tempo di addestramento: 112.46 s\n",
    "Media accuracy: 39.54 %\n",
    "Deviazione standard accuracy: 12.46 %`\n",
    "\n",
    "Mentre sommando i dataset man mano\n",
    "\n",
    "`Media numero epoche: 52.71\n",
    "Deviazione standard numero epoche: 35.07\n",
    "Media tempo di addestramento: 119.7 s\n",
    "Media accuracy: 36.22 %\n",
    "Deviazione standard accuracy: 12.29 %`"
   ]
  },
  {
   "cell_type": "markdown",
   "metadata": {},
   "source": [
    "#### 25 Giugno 2021\n",
    "\n",
    "Sto facendo il gridsearch per i parametri, per ora sul modello \"totale\". Tre ore di search hanno fruttato: `Best: 0.955056 using {'units': 30, 'layers': 2, 'kernel_regularizer': 1e-06, 'bias_regularizer': 0.0001, 'activity_regularizer': 0.0001}`\n",
    "\n",
    "Ho quindi cambiato il modello nello script `totaltrain.py`:"
   ]
  },
  {
   "cell_type": "code",
   "execution_count": null,
   "metadata": {},
   "outputs": [],
   "source": [
    "model = tf.keras.models.Sequential()\n",
    "model.add(tf.keras.layers.GRU(30, return_sequences = True, input_shape=(100, 14)))\n",
    "model.add(tf.keras.layers.GRU(30))\n",
    "model.add(tf.keras.layers.Dense(4, activation = 'softmax',\n",
    "                  kernel_regularizer = tf.keras.regularizers.l1_l2(l1 = 1e-6, l2 = 1e-6),\n",
    "                  bias_regularizer = tf.keras.regularizers.l1_l2(l1 = 1e-4, l2 = 1e-4),\n",
    "                  activity_regularizer = tf.keras.regularizers.l1_l2(l1 = 1e-4, l2 = 1e-4)))\n",
    "opt = tf.keras.optimizers.Adam(learning_rate = 0.005, beta_1 = 0.85, beta_2 = 0.999)\n",
    "model.compile(loss = 'categorical_crossentropy', optimizer = opt, metrics = ['accuracy'])"
   ]
  },
  {
   "cell_type": "markdown",
   "metadata": {},
   "source": [
    "Dando come risultato:\n",
    "\n",
    "`Media numero epoche: 100.0\n",
    "Media tempo di addestramento: 70.72 s\n",
    "Media accuracy: 30.36 %`\n",
    "\n",
    "Sicuramente migliore del 28.57% precedente, ma overfitting quasi certo avendo un'accuracy del 100% su training e validation set."
   ]
  },
  {
   "cell_type": "markdown",
   "metadata": {},
   "source": [
    "#### 26 Giugno 2021\n",
    "\n",
    "Continual training\n",
    "\n",
    "`Best: 1.000000 using {'layers': 2, 'kernel_regularizer': 1e-06, 'bias_regularizer': 0.0001, 'activity_regularizer': 0.0001}`\n",
    "\n",
    "Però\n",
    "\n",
    "`Media numero epoche: 100.0\n",
    "Deviazione standard numero epoche: 0.0\n",
    "Media tempo di addestramento: 87.37 s\n",
    "Accuracy: [0.3928571343421936, 0.4107142984867096, 0.5535714030265808, 0.3571428656578064, 0.2857142984867096, 0.6607142686843872, 0.5714285969734192] %\n",
    "Media accuracy: 46.17 %\n",
    "Deviazione standard accuracy: 12.5 %`\n",
    "\n",
    "Continuando a fare esperimenti mi nasce il dubbio, fortemente fondato, che ogni modello vada in overfitting. Spiegherebbe i risultati pessimi sul test set (S17). Ho cambiato la generazione dei dati, ora prende tutte le sottosequenze invece di limitarle a 1600 datapoint:"
   ]
  },
  {
   "cell_type": "code",
   "execution_count": null,
   "metadata": {},
   "outputs": [],
   "source": [
    "count = 0\n",
    "prev = Y[0]\n",
    "LenSubsequences = []\n",
    "for elem in Y:\n",
    "    if(elem != prev):\n",
    "        LenSubsequences.append(count)\n",
    "        count = 0\n",
    "    count += 1\n",
    "    prev = elem\n",
    "    \n",
    "SubsequencesX = []\n",
    "SubsequencesY = []\n",
    "i = 0\n",
    "for elem in LenSubsequences:\n",
    "    for j in range(0, elem, 100):\n",
    "        if(j+100 <= elem):\n",
    "            SubsequencesX.append(X[i+j:i+j+100])\n",
    "            SubsequencesY.append(Y[i+j+50])\n",
    "    i += elem"
   ]
  },
  {
   "cell_type": "markdown",
   "metadata": {},
   "source": [
    "Il __continual train__ fornisce un risultato migliore\n",
    "\n",
    "`Media numero epoche: 79.29\n",
    "Deviazione standard numero epoche: 35.11\n",
    "Media tempo di addestramento: 843.52 s\n",
    "Accuracy: [0.7949640154838562, 0.5299760103225708, 0.5611510872840881, 0.5527577996253967, 0.4316546618938446, 0.597122311592102, 0.2925659418106079] %\n",
    "Media accuracy: 53.72 %\n",
    "Deviazione standard accuracy: 14.24 %`\n",
    "\n",
    "Pure il __total train__ è migliorato\n",
    "\n",
    "`Media numero epoche: 9.0\n",
    "Media tempo di addestramento: 188.68 s\n",
    "Accuracy: 56.24 %`\n",
    "\n",
    "Quindi prendendo semplicemente più dati ho migliorato l'accuratezza sul test set del ~10%\n",
    "\n",
    "Proviamo la stessa architettura ma sostituendo LSTM alle GRU"
   ]
  },
  {
   "cell_type": "code",
   "execution_count": null,
   "metadata": {},
   "outputs": [],
   "source": [
    "print(\"Creating model\")\n",
    "model = tf.keras.models.Sequential()\n",
    "model.add(tf.keras.layers.LSTM(30, return_sequences = True, input_shape=(100, 14)))\n",
    "model.add(tf.keras.layers.LSTM(30))\n",
    "model.add(tf.keras.layers.Dense(4, activation = 'softmax',\n",
    "                  kernel_regularizer = tf.keras.regularizers.l1_l2(l1 = 1e-6, l2 = 1e-6),\n",
    "                  bias_regularizer = tf.keras.regularizers.l1_l2(l1 = 1e-4, l2 = 1e-4),\n",
    "                  activity_regularizer = tf.keras.regularizers.l1_l2(l1 = 1e-4, l2 = 1e-4)))\n",
    "opt = tf.keras.optimizers.Adam(learning_rate = 0.005, beta_1 = 0.85, beta_2 = 0.999)\n",
    "model.compile(loss = 'categorical_crossentropy', optimizer = opt, metrics = ['accuracy'])"
   ]
  },
  {
   "cell_type": "markdown",
   "metadata": {},
   "source": [
    "Ottenendo, su __total train__\n",
    "\n",
    "`Media numero epoche: 11.0\n",
    "Media tempo di addestramento: 223.13 s\n",
    "Accuracy: 59.589999999999996 %`\n",
    "\n",
    "Mentre su __continual train__\n",
    "\n",
    "`Media numero epoche: 58.29\n",
    "Deviazione standard numero epoche: 48.17\n",
    "Media tempo di addestramento: 650.26 s\n",
    "Accuracy: [0.564748227596283, 0.47122302651405334, 0.3956834673881531, 0.5503597259521484, 0.4316546618938446, 0.6558753252029419, 0.47961631417274475] %\n",
    "Media accuracy: 50.7 %\n",
    "Deviazione standard accuracy: 8.24 %`\n",
    "\n",
    "__Sum train__ ha dato un risultato che conferma la teoria\n",
    "\n",
    "`Media numero epoche: 26.43\n",
    "Deviazione standard numero epoche: 32.2\n",
    "Media tempo di addestramento: 950.42 s\n",
    "Accuracy: [0.5395683646202087, 0.5611510872840881, 0.5623500943183899, 0.5851318836212158, 0.6642686128616333, 0.7206234931945801, 0.7649880051612854] %\n",
    "Media accuracy: 62.83 %\n",
    "Deviazione standard accuracy: 8.200000000000001 %`\n",
    "\n",
    "dimostrando che in effetti il \"replay\" garantisce una mitigazione del catastrophic forgetting. L'accuracy è stabilmente incrementale, raggiungendo addirittura il 76.5%. Inoltre, a differenza degli altri due approcci, non raggiunge il 100% di accuracy sul validation set, dimostrando una buona regolarità e attenzione all'overfitting dei dati."
   ]
  },
  {
   "cell_type": "markdown",
   "metadata": {},
   "source": [
    "#### 27 Giugno 2021\n",
    "Provo un replay che mantiene ogni volta il 25% degli elementi già addestrati."
   ]
  },
  {
   "cell_type": "code",
   "execution_count": null,
   "metadata": {},
   "outputs": [],
   "source": [
    "X, _, y, _ = train_test_split(X, y, test_size = 0.75, train_size = 0.25, random_state=42)"
   ]
  },
  {
   "cell_type": "markdown",
   "metadata": {},
   "source": [
    "Ottenendo\n",
    "\n",
    "`Media numero epoche: 26.71\n",
    "Deviazione standard numero epoche: 31.67\n",
    "Media tempo di addestramento: 426.0 s\n",
    "Accuracy: [0.6223021745681763, 0.568345308303833, 0.5791366696357727, 0.6378896832466125, 0.5707433819770813, 0.49520382285118103, 0.44364508986473083] %\n",
    "Media accuracy: 55.96 %\n",
    "Deviazione standard accuracy: 6.35 %`\n",
    "\n",
    "Quindi un decremento costante dell'accuracy. Anche prendendo solo dal training set"
   ]
  },
  {
   "cell_type": "code",
   "execution_count": null,
   "metadata": {},
   "outputs": [],
   "source": [
    "X, _, y, _ = train_test_split(Xtr, ytr, test_size = 0.75, train_size = 0.25, random_state=42)"
   ]
  },
  {
   "cell_type": "markdown",
   "metadata": {},
   "source": [
    "Ottengo un risultato non molto migliore\n",
    "\n",
    "`Media numero epoche: 17.43\n",
    "Deviazione standard numero epoche: 11.32\n",
    "Media tempo di addestramento: 361.39 s\n",
    "Accuracy: [0.6294963955879211, 0.555155873298645, 0.5959232449531555, 0.5695443749427795, 0.6666666865348816, 0.6870503425598145, 0.5707433819770813] %\n",
    "Media accuracy: 61.07 %\n",
    "Deviazione standard accuracy: 4.77 %`\n",
    "\n",
    "Tornando ad un solo layer LSTM con 30 neuroni\n",
    "\n",
    "`Media numero epoche: 11.71\n",
    "Deviazione standard numero epoche: 6.13\n",
    "Media tempo di addestramento: 162.86 s\n",
    "Accuracy: [0.9640287756919861, 0.6942446231842041, 0.6139088869094849, 0.7326139211654663, 0.7374100685119629, 0.6450839042663574, 0.5539568066596985] %\n",
    "Media accuracy: 70.59 %\n",
    "Deviazione standard accuracy: 12.17 %`\n",
    "\n",
    "Portando i neuroni a 15:\n",
    "\n",
    "`Media numero epoche: 28.14\n",
    "Deviazione standard numero epoche: 24.03\n",
    "Media tempo di addestramento: 305.09 s\n",
    "Accuracy: [0.5911270976066589, 0.6582733988761902, 0.6390887498855591, 0.5839328765869141, 0.5863309502601624, 0.5839328765869141, 0.5491606593132019] %\n",
    "Media accuracy: 59.88 %\n",
    "Deviazione standard accuracy: 3.44 %`\n",
    "\n",
    "A 25:\n",
    "\n",
    "`Media numero epoche: 21.0\n",
    "Deviazione standard numero epoche: 8.59\n",
    "Media tempo di addestramento: 234.06 s\n",
    "Accuracy: [0.5227817893028259, 0.6187050342559814, 0.6366906762123108, 0.5983213186264038, 0.5767385959625244, 0.623501181602478, 0.5335731506347656] %\n",
    "Media accuracy: 58.720000000000006 %\n",
    "Deviazione standard accuracy: 4.14 %`\n",
    "\n",
    "29:\n",
    "\n",
    "`Media numero epoche: 12.0\n",
    "Deviazione standard numero epoche: 10.0\n",
    "Media tempo di addestramento: 159.09 s\n",
    "Accuracy: [0.6342925429344177, 0.43884891271591187, 0.5203837156295776, 0.5719424486160278, 0.5383692979812622, 0.4640287756919861, 0.49520382285118103] %\n",
    "Media accuracy: 52.33 %\n",
    "Deviazione standard accuracy: 6.140000000000001 %`\n",
    "\n",
    "Rimaniamo con 30 neuroni.\n",
    "\n",
    "Senza normalizzazione di kernel, bias e activity:\n",
    "\n",
    "`Media numero epoche: 41.29\n",
    "Deviazione standard numero epoche: 39.31\n",
    "Media tempo di addestramento: 309.08 s\n",
    "Accuracy: [0.5203837156295776, 0.6990407705307007, 0.5455635786056519, 0.5743405222892761, 0.6031175255775452, 0.577937662601471, 0.5731415152549744] %\n",
    "Media accuracy: 58.48 %\n",
    "Deviazione standard accuracy: 5.26 %`\n",
    "\n",
    "Sum normalizzato ma con un solo layer\n",
    "\n",
    "`Media numero epoche: 24.14\n",
    "Deviazione standard numero epoche: 23.87\n",
    "Media tempo di addestramento: 584.36 s\n",
    "Accuracy: [0.6378896832466125, 0.7997601628303528, 0.6474820375442505, 0.6031175255775452, 0.7877697944641113, 0.6426858305931091, 0.6187050342559814] %\n",
    "Media accuracy: 67.67999999999999 %\n",
    "Deviazione standard accuracy: 7.539999999999999 %`"
   ]
  },
  {
   "cell_type": "markdown",
   "metadata": {},
   "source": [
    "#### 28 Giugno 2021\n",
    "\n",
    "Ho prodotto dei grafici dei test degli scorsi giorni. Ora ho lanciato `continualreplaytrain.py` con un singolo layer GRU da 30 neuroni.\n",
    "\n",
    "`Media numero epoche: 49.29\n",
    "Deviazione standard numero epoche: 43.05\n",
    "Media tempo di addestramento: 435.53 s\n",
    "Accuracy: [0.6522781848907471, 0.5539568066596985, 0.5503597259521484, 0.6019184589385986, 0.6570743322372437, 0.5911270976066589, 0.5791366696357727] %\n",
    "Media accuracy: 59.8 %\n",
    "Deviazione standard accuracy: 3.9800000000000004 %`\n",
    "\n",
    "2 GRU, 30 neuroni\n",
    "\n",
    "`Media numero epoche: 45.0\n",
    "Deviazione standard numero epoche: 39.44\n",
    "Media tempo di addestramento: 647.01 s\n",
    "Accuracy: [0.6175059676170349, 0.5827338099479675, 0.5707433819770813, 0.555155873298645, 0.5899280309677124, 0.5467625856399536, 0.5071942210197449] %\n",
    "Media accuracy: 56.71000000000001 %\n",
    "Deviazione standard accuracy: 3.27 %`\n",
    "\n",
    "Quindi in generale suppongo che un singolo layer GRU da 30 neuroni dia la performance migliore. Faccio un test approfondito sui vari scenari, automatizzato:\n",
    "- total training: soggetti S2-S16 insieme, test su S17\n",
    "- continual training: soggetti S2-S3, test su S17, riprendo training con S4-S5, test e così via\n",
    "- continual sum training: soggett S2-S3, test su S17, aggiungo S4-S5 al tr set, test su S17 e così via\n",
    "- replay training: soggetti S2-S3, test su S17, mantengo il 25% del tr set e aggiungo S4-S5, test e così via\n",
    "\n",
    "Di seguito lo script, nel file `continual_autotest.py`:"
   ]
  },
  {
   "cell_type": "code",
   "execution_count": null,
   "metadata": {},
   "outputs": [],
   "source": [
    "import os\n",
    "os.environ['TF_CPP_MIN_LOG_LEVEL'] = '3'\n",
    "import pickle\n",
    "import numpy as np\n",
    "import tensorflow as tf\n",
    "from sklearn.model_selection import train_test_split\n",
    "import time\n",
    "import matplotlib.pyplot as plt\n",
    "import copy\n",
    "\n",
    "\n",
    "# Log directory\n",
    "def get_run_logdir(label=\"\"):\n",
    "    import time\n",
    "    run_id = time.strftime(\"autotest_%Y%m%d%H%M%S\")\n",
    "    return os.path.join(\"/home/fexed/ML/tensorboard_logs\", run_id + \"_\" + label)\n",
    "\n",
    "fig, ax = plt.subplots()\n",
    "print(\"WESAD\\tloading...\", end=\"\\r\")\n",
    "DSX, DSy = {}, {}\n",
    "for S in [\"S2\", \"S3\", \"S4\", \"S5\", \"S6\", \"S7\", \"S8\", \"S9\", \"S10\", \"S11\", \"S13\", \"S14\", \"S15\", \"S16\"]:\n",
    "    DSX[S] = pickle.load(open(\"/home/fexed/ML/datasets/WESAD/splitted/X\" + S + \"_disarli.pkl\", 'rb'), encoding='latin1')\n",
    "    DSy[S] = pickle.load(open(\"/home/fexed/ML/datasets/WESAD/splitted/y\" + S + \"_disarli.pkl\", 'rb'), encoding='latin1')\n",
    "print(\"WESAD\\tloaded    \")\n",
    "print(\"Test set\\topening...\", end=\"\\r\")\n",
    "Xts = pickle.load(open(\"/home/fexed/ML/datasets/WESAD/splitted/XS17_disarli.pkl\", 'rb'), encoding='latin1')\n",
    "yts = pickle.load(open(\"/home/fexed/ML/datasets/WESAD/splitted/yS17_disarli.pkl\", 'rb'), encoding='latin1')\n",
    "print(\"Test set\\topened    \")\n",
    "\n",
    "print(\"\\n\\nTOTAL TRAINING\")\n",
    "print(\"Model\\tcreating...\", end=\"\\r\")\n",
    "model = tf.keras.models.Sequential()\n",
    "model.add(tf.keras.layers.GRU(30, input_shape=(100, 14)))\n",
    "model.add(tf.keras.layers.Dense(4, activation = 'softmax',\n",
    "                  kernel_regularizer = tf.keras.regularizers.l1_l2(l1 = 1e-6, l2 = 1e-6),\n",
    "                  bias_regularizer = tf.keras.regularizers.l1_l2(l1 = 1e-4, l2 = 1e-4),\n",
    "                  activity_regularizer = tf.keras.regularizers.l1_l2(l1 = 1e-4, l2 = 1e-4)))\n",
    "opt = tf.keras.optimizers.Adam(learning_rate = 0.005, beta_1 = 0.85, beta_2 = 0.999)\n",
    "model.compile(loss = 'categorical_crossentropy', optimizer = opt, metrics = ['accuracy'])\n",
    "print(\"Model\\tcreated    \")\n",
    "modeltime = 0\n",
    "epochs = []\n",
    "scores = []\n",
    "print(\"Dataset\\tloading...\", end=\"\\r\")\n",
    "X, y = None, None\n",
    "for S in [\"S2\", \"S3\", \"S4\", \"S5\", \"S6\", \"S7\", \"S8\", \"S9\", \"S10\", \"S11\", \"S13\", \"S14\", \"S15\", \"S16\"]:\n",
    "    if (X is None):\n",
    "        X = copy.deepcopy(DSX[S])\n",
    "        y = copy.deepcopy(DSy[S])\n",
    "    else:\n",
    "        X = np.concatenate([X, DSX[S]], axis = 0)\n",
    "        y = np.concatenate([y, DSy[S]], axis = 0)\n",
    "print(\"Dataset\\tloaded    \")\n",
    "print(\"Dataset\\tsplitting...\", end=\"\\r\")\n",
    "Xtr, Xvl, ytr, yvl = train_test_split(X, y, test_size = 0.1, train_size = 0.9, random_state=42)\n",
    "print(\"Dataset\\tsplitted    \")\n",
    "print(\"Training\\tprogressing...\", end=\"\\r\")\n",
    "logdir = get_run_logdir(\"test\")\n",
    "es = tf.keras.callbacks.EarlyStopping(monitor = 'val_loss', mode = 'min', patience = 10, verbose = 0, restore_best_weights = True)\n",
    "tb = tf.keras.callbacks.TensorBoard(log_dir=logdir, write_graph=True)\n",
    "start = time.time()\n",
    "graph = model.fit(Xtr, ytr, epochs = 100, validation_data = (Xvl, yvl), callbacks = [es, tb], verbose = 0)\n",
    "end = time.time()\n",
    "print(\"Training\\tended         \")\n",
    "modeltime += (end - start)\n",
    "history = model.history.history['val_loss']\n",
    "epochs.append(np.argmin(history) + 1)\n",
    "scores.append(model.evaluate(Xts, yts)[1])\n",
    "print('Numero epoche:', np.around(np.mean(epochs), 2))\n",
    "print('Media tempo di addestramento:', np.around(modeltime/5, 2), 's')\n",
    "print('Accuracy:', np.around(np.mean(scores), 4)*100, '%')\n",
    "print(\"Model\\tsaving...\", end=\"\\r\")\n",
    "model.save('/home/fexed//total')\n",
    "print(\"Model\\tsaved    \")\n",
    "ax.bar(1, np.around(np.mean(scores), 4)*100)\n",
    "\n",
    "del X\n",
    "del y\n",
    "\n",
    "print(\"\\n\\nCONTINUAL TRAINING\")\n",
    "print(\"Model\\tcreating...\", end=\"\\r\")\n",
    "model = tf.keras.models.Sequential()\n",
    "model.add(tf.keras.layers.GRU(30, input_shape=(100, 14)))\n",
    "model.add(tf.keras.layers.Dense(4, activation = 'softmax',\n",
    "                  kernel_regularizer = tf.keras.regularizers.l1_l2(l1 = 1e-6, l2 = 1e-6),\n",
    "                  bias_regularizer = tf.keras.regularizers.l1_l2(l1 = 1e-4, l2 = 1e-4),\n",
    "                  activity_regularizer = tf.keras.regularizers.l1_l2(l1 = 1e-4, l2 = 1e-4)))\n",
    "opt = tf.keras.optimizers.Adam(learning_rate = 0.005, beta_1 = 0.85, beta_2 = 0.999)\n",
    "model.compile(loss = 'categorical_crossentropy', optimizer = opt, metrics = ['accuracy'])\n",
    "print(\"Model\\tcreated    \")\n",
    "\n",
    "modeltime = 0\n",
    "epochs = []\n",
    "scores = []\n",
    "\n",
    "print(\"Training\\tstarted\")\n",
    "for S in [(\"S2\", \"S3\"), (\"S4\", \"S5\"), (\"S6\", \"S7\"), (\"S8\", \"S9\"), (\"S10\", \"S11\"), (\"S13\", \"S14\"), (\"S15\", \"S16\")]:\n",
    "    print(\"Subjects\\t\" + S[0] + \" \" + S[1], end=\"\\r\")\n",
    "    Xa = pickle.load(open(\"/home/fexed/ML/datasets/WESAD/splitted/X\" + S[0] + \"_disarli.pkl\", 'rb'), encoding='latin1')\n",
    "    ya = pickle.load(open(\"/home/fexed/ML/datasets/WESAD/splitted/y\" + S[0] + \"_disarli.pkl\", 'rb'), encoding='latin1')\n",
    "    Xb = pickle.load(open(\"/home/fexed/ML/datasets/WESAD/splitted/X\" + S[1] + \"_disarli.pkl\", 'rb'), encoding='latin1')\n",
    "    yb = pickle.load(open(\"/home/fexed/ML/datasets/WESAD/splitted/y\" + S[1] + \"_disarli.pkl\", 'rb'), encoding='latin1')\n",
    "\n",
    "    X = np.concatenate([Xa, Xb], axis = 0)\n",
    "    y = np.concatenate([ya, yb], axis = 0)\n",
    "    del Xa\n",
    "    del Xb\n",
    "    del ya\n",
    "    del yb\n",
    "\n",
    "    Xtr, Xvl, ytr, yvl = train_test_split(X, y, test_size = 0.1, train_size = 0.9, random_state=42)\n",
    "    logdir = get_run_logdir(S[0] + S[1] + \"_continual\")\n",
    "    es = tf.keras.callbacks.EarlyStopping(monitor = 'val_loss', mode = 'min', patience = 10, verbose = 0, restore_best_weights = True)\n",
    "    tb = tf.keras.callbacks.TensorBoard(log_dir=logdir, write_graph=True)\n",
    "    start = time.time()\n",
    "    graph = model.fit(Xtr, ytr, epochs = 100, validation_data = (Xvl, yvl), callbacks = [es, tb], verbose = 0)\n",
    "    end = time.time()\n",
    "    modeltime += (end - start)\n",
    "    history = model.history.history['val_loss']\n",
    "    epochs.append(np.argmin(history) + 1)\n",
    "    scores.append(model.evaluate(Xts, yts)[1])\n",
    "\n",
    "print(\"Training\\tended\")\n",
    "print('Media numero epoche:', np.around(np.mean(epochs), 2))\n",
    "print('Deviazione standard numero epoche:', np.around(np.std(epochs), 2))\n",
    "print('Media tempo di addestramento:', np.around(modeltime/5, 2), 's')\n",
    "print('Accuracy:', str(list(scores)), '%')\n",
    "print('Media accuracy:', np.around(np.mean(scores), 4)*100, '%')\n",
    "print('Deviazione standard accuracy:', np.around(np.std(scores), 4)*100, '%')\n",
    "print(\"Model\\tsaving...\", end=\"\\r\")\n",
    "model.save('/home/fexed/ML/models/continual')\n",
    "print(\"Model\\tsaved    \")\n",
    "ax.bar(2, np.around(np.mean(scores), 4)*100)\n",
    "del X\n",
    "del y\n",
    "del Xtr\n",
    "del Xvl\n",
    "del ytr\n",
    "del yvl\n",
    "\n",
    "print(\"\\n\\nSUM TRAINING\")\n",
    "print(\"Model\\tcreating...\", end=\"\\r\")\n",
    "model = tf.keras.models.Sequential()\n",
    "model.add(tf.keras.layers.GRU(30, input_shape=(100, 14)))\n",
    "model.add(tf.keras.layers.Dense(4, activation = 'softmax',\n",
    "                  kernel_regularizer = tf.keras.regularizers.l1_l2(l1 = 1e-6, l2 = 1e-6),\n",
    "                  bias_regularizer = tf.keras.regularizers.l1_l2(l1 = 1e-4, l2 = 1e-4),\n",
    "                  activity_regularizer = tf.keras.regularizers.l1_l2(l1 = 1e-4, l2 = 1e-4)))\n",
    "opt = tf.keras.optimizers.Adam(learning_rate = 0.005, beta_1 = 0.85, beta_2 = 0.999)\n",
    "model.compile(loss = 'categorical_crossentropy', optimizer = opt, metrics = ['accuracy'])\n",
    "print(\"Model\\tcreated    \")\n",
    "\n",
    "modeltime = 0\n",
    "epochs = []\n",
    "scores = []\n",
    "X, y = None, None\n",
    "\n",
    "print(\"Training\\tstarted\")\n",
    "for S in [(\"S2\", \"S3\"), (\"S4\", \"S5\"), (\"S6\", \"S7\"), (\"S8\", \"S9\"), (\"S10\", \"S11\"), (\"S13\", \"S14\"), (\"S15\", \"S16\")]:\n",
    "    print(\"Subjects\\t\" + S[0] + \" \" + S[1], end=\"\\r\")\n",
    "    Xa = pickle.load(open(\"/home/fexed/ML/datasets/WESAD/splitted/X\" + S[0] + \"_disarli.pkl\", 'rb'), encoding='latin1')\n",
    "    ya = pickle.load(open(\"/home/fexed/ML/datasets/WESAD/splitted/y\" + S[0] + \"_disarli.pkl\", 'rb'), encoding='latin1')\n",
    "    Xb = pickle.load(open(\"/home/fexed/ML/datasets/WESAD/splitted/X\" + S[1] + \"_disarli.pkl\", 'rb'), encoding='latin1')\n",
    "    yb = pickle.load(open(\"/home/fexed/ML/datasets/WESAD/splitted/y\" + S[1] + \"_disarli.pkl\", 'rb'), encoding='latin1')\n",
    "\n",
    "    if (X is None):\n",
    "        X = np.concatenate([Xa, Xb], axis = 0)\n",
    "        y = np.concatenate([ya, yb], axis = 0)\n",
    "    else:\n",
    "        X = np.concatenate([X, Xa, Xb], axis = 0)\n",
    "        y = np.concatenate([y, ya, yb], axis = 0)\n",
    "    del Xa\n",
    "    del Xb\n",
    "    del ya\n",
    "    del yb\n",
    "\n",
    "    Xtr, Xvl, ytr, yvl = train_test_split(X, y, test_size = 0.1, train_size = 0.9, random_state=42)\n",
    "    logdir = get_run_logdir(S[0] + S[1] + \"_sum\")\n",
    "    es = tf.keras.callbacks.EarlyStopping(monitor = 'val_loss', mode = 'min', patience = 10, verbose = 0, restore_best_weights = True)\n",
    "    tb = tf.keras.callbacks.TensorBoard(log_dir=logdir, write_graph=True)\n",
    "    start = time.time()\n",
    "    graph = model.fit(Xtr, ytr, epochs = 100, validation_data = (Xvl, yvl), callbacks = [es, tb], verbose = 0)\n",
    "    end = time.time()\n",
    "    modeltime += (end - start)\n",
    "    history = model.history.history['val_loss']\n",
    "    epochs.append(np.argmin(history) + 1)\n",
    "    scores.append(model.evaluate(Xts, yts)[1])\n",
    "\n",
    "print(\"Training\\tended\")\n",
    "print('Media numero epoche:', np.around(np.mean(epochs), 2))\n",
    "print('Deviazione standard numero epoche:', np.around(np.std(epochs), 2))\n",
    "print('Media tempo di addestramento:', np.around(modeltime/5, 2), 's')\n",
    "print('Accuracy:', str(list(scores)), '%')\n",
    "print('Media accuracy:', np.around(np.mean(scores), 4)*100, '%')\n",
    "print('Deviazione standard accuracy:', np.around(np.std(scores), 4)*100, '%')\n",
    "print(\"Model\\tsaving...\", end=\"\\r\")\n",
    "model.save('/home/fexed/ML/models/sum')\n",
    "print(\"Model\\tsaved    \")\n",
    "ax.bar(3, np.around(np.mean(scores), 4)*100)\n",
    "del X\n",
    "del y\n",
    "del Xtr\n",
    "del Xvl\n",
    "del ytr\n",
    "\n",
    "print(\"\\n\\nREPLAY TRAINING\")\n",
    "print(\"Model\\tcreating...\", end=\"\\r\")\n",
    "model = tf.keras.models.Sequential()\n",
    "model.add(tf.keras.layers.GRU(30, input_shape=(100, 14)))\n",
    "model.add(tf.keras.layers.Dense(4, activation = 'softmax',\n",
    "                  kernel_regularizer = tf.keras.regularizers.l1_l2(l1 = 1e-6, l2 = 1e-6),\n",
    "                  bias_regularizer = tf.keras.regularizers.l1_l2(l1 = 1e-4, l2 = 1e-4),\n",
    "                  activity_regularizer = tf.keras.regularizers.l1_l2(l1 = 1e-4, l2 = 1e-4)))\n",
    "opt = tf.keras.optimizers.Adam(learning_rate = 0.005, beta_1 = 0.85, beta_2 = 0.999)\n",
    "model.compile(loss = 'categorical_crossentropy', optimizer = opt, metrics = ['accuracy'])\n",
    "print(\"Model\\tcreated    \")\n",
    "\n",
    "modeltime = 0\n",
    "epochs = []\n",
    "scores = []\n",
    "X, y = None, None\n",
    "\n",
    "print(\"Training\\tstarted\")\n",
    "for S in [(\"S2\", \"S3\"), (\"S4\", \"S5\"), (\"S6\", \"S7\"), (\"S8\", \"S9\"), (\"S10\", \"S11\"), (\"S13\", \"S14\"), (\"S15\", \"S16\")]:\n",
    "    print(\"Subjects\\t\" + S[0] + \" \" + S[1], end=\"\\r\")\n",
    "    Xa = pickle.load(open(\"/home/fexed/ML/datasets/WESAD/splitted/X\" + S[0] + \"_disarli.pkl\", 'rb'), encoding='latin1')\n",
    "    ya = pickle.load(open(\"/home/fexed/ML/datasets/WESAD/splitted/y\" + S[0] + \"_disarli.pkl\", 'rb'), encoding='latin1')\n",
    "    Xb = pickle.load(open(\"/home/fexed/ML/datasets/WESAD/splitted/X\" + S[1] + \"_disarli.pkl\", 'rb'), encoding='latin1')\n",
    "    yb = pickle.load(open(\"/home/fexed/ML/datasets/WESAD/splitted/y\" + S[1] + \"_disarli.pkl\", 'rb'), encoding='latin1')\n",
    "\n",
    "    if (X is None):\n",
    "        X = np.concatenate([Xa, Xb], axis = 0)\n",
    "        y = np.concatenate([ya, yb], axis = 0)\n",
    "    else:\n",
    "        X = np.concatenate([X, Xa, Xb], axis = 0)\n",
    "        y = np.concatenate([y, ya, yb], axis = 0)\n",
    "\n",
    "    del Xa\n",
    "    del Xb\n",
    "    del ya\n",
    "    del yb\n",
    "\n",
    "    Xtr, Xvl, ytr, yvl = train_test_split(X, y, test_size = 0.1, train_size = 0.9, random_state=42)\n",
    "    logdir = get_run_logdir(S[0] + S[1] + \"_replay\")\n",
    "    es = tf.keras.callbacks.EarlyStopping(monitor = 'val_loss', mode = 'min', patience = 10, verbose = 0, restore_best_weights = True)\n",
    "    tb = tf.keras.callbacks.TensorBoard(log_dir=logdir, write_graph=True)\n",
    "    start = time.time()\n",
    "    graph = model.fit(Xtr, ytr, epochs = 100, validation_data = (Xvl, yvl), callbacks = [es, tb], verbose = 0)\n",
    "    end = time.time()\n",
    "    modeltime += (end - start)\n",
    "    history = model.history.history['val_loss']\n",
    "    epochs.append(np.argmin(history) + 1)\n",
    "    scores.append(model.evaluate(Xts, yts)[1])\n",
    "    X, _, y, _ = train_test_split(Xtr, ytr, test_size = 0.75, train_size = 0.25, random_state=42)\n",
    "\n",
    "print(\"Training\\tended\")\n",
    "print('Media numero epoche:', np.around(np.mean(epochs), 2))\n",
    "print('Deviazione standard numero epoche:', np.around(np.std(epochs), 2))\n",
    "print('Media tempo di addestramento:', np.around(modeltime/5, 2), 's')\n",
    "print('Accuracy:', str(list(scores)), '%')\n",
    "print('Media accuracy:', np.around(np.mean(scores), 4)*100, '%')\n",
    "print('Deviazione standard accuracy:', np.around(np.std(scores), 4)*100, '%')\n",
    "print(\"Model\\tsaving...\", end=\"\\r\")\n",
    "model.save('/home/fexed/ML/models/replay')\n",
    "print(\"Model\\tsaved    \")\n",
    "ax.bar(4, np.around(np.mean(scores), 4)*100)\n",
    "\n",
    "print(\"Plot\\tcreating...\", end=\"\\r\")\n",
    "ax.set_xticks([1, 2, 3, 4])\n",
    "ax.set_xticklabels(['Totale', 'Continual', 'Sum', 'Replay'])\n",
    "ax.set_ylabel(\"Accuracy\")\n",
    "ax.set_ylim([0, 100])\n",
    "plt.savefig(\"plots/autotest.png\")\n",
    "print(\"Plot\\tdone       \")\n"
   ]
  },
  {
   "cell_type": "markdown",
   "metadata": {},
   "source": [
    "Circa due ore dopo, ho questi risultati:\n",
    "\n",
    "`TOTAL TRAINING\n",
    "Numero epoche: 14.0\n",
    "Media tempo di addestramento: 140.13 s\n",
    "Accuracy: 65.35 %`\n",
    "\n",
    "`CONTINUAL TRAINING\n",
    "Media numero epoche: 72.29\n",
    "Deviazione standard numero epoche: 43.83\n",
    "Media tempo di addestramento: 438.2 s\n",
    "Accuracy: [0.6522781848907471, 0.43045562505722046, 0.564748227596283, 0.5671463012695312, 0.5527577996253967, 0.5335731506347656, 0.37889689207077026] %\n",
    "Media accuracy: 52.57 %\n",
    "Deviazione standard accuracy: 8.51 %`\n",
    "\n",
    "`SUM TRAINING\n",
    "Media numero epoche: 18.71\n",
    "Deviazione standard numero epoche: 33.32\n",
    "Media tempo di addestramento: 406.67 s\n",
    "Accuracy: [0.6031175255775452, 0.623501181602478, 0.564748227596283, 0.6187050342559814, 0.5827338099479675, 0.5707433819770813, 0.5791366696357727] %\n",
    "Media accuracy: 59.18 %\n",
    "Deviazione standard accuracy: 2.16 %`\n",
    "\n",
    "`REPLAY TRAINING\n",
    "Media numero epoche: 35.71\n",
    "Deviazione standard numero epoche: 41.13\n",
    "Media tempo di addestramento: 286.55 s\n",
    "Accuracy: [0.6306954622268677, 0.8345323801040649, 0.7026379108428955, 0.5743405222892761, 0.6474820375442505, 0.6163069605827332, 0.5527577996253967] %\n",
    "Media accuracy: 65.13 %\n",
    "Deviazione standard accuracy: 8.74 %`"
   ]
  },
  {
   "attachments": {
    "autotest.png": {
     "image/png": "[encoded data removed]"
    }
   },
   "cell_type": "markdown",
   "metadata": {},
   "source": [
    "![autotest.png](attachment:autotest.png)"
   ]
  },
  {
   "cell_type": "markdown",
   "metadata": {},
   "source": [
    "Ulteriore conferma di un risultato teorico: mantenere esempi già addestrati mitiga il catastrophic forgetting.\n",
    "Nel caso del __continual training__ senza ripetizioni, si ha una costante diminuzione dell'accuracy su S17 che è sintomo di catastrophic forgetting, mentre il __sum training__ suppongo vada in overfitting per i troppi dati. __Replay__, d'altro canto, si comporta al pari del __total training__, pur mantenendo di coppia in coppia solo il 25% dei dati dei soggetti precedenti. Provo a diminuire questa percentuale, portandola a 10% ottenendo:\n",
    "\n",
    "`Media numero epoche: 39.43\n",
    "Deviazione standard numero epoche: 43.51\n",
    "Media tempo di addestramento: 542.36 s\n",
    "Accuracy: [0.7002398371696472, 0.6211031079292297, 0.5767385959625244, 0.5959232449531555, 0.5887290239334106, 0.6678656935691833, 0.5347721576690674] %\n",
    "Media accuracy: 61.22 %\n",
    "Deviazione standard accuracy: 5.21 %`\n",
    "\n",
    "Per stasera lancio un'altra gridsearch con il nuovo dataset, per vedere se trova un modello migliore.\n",
    "\n",
    "`Best: 1.000000 using {'units': 28, 'layers': 1, 'kernel_regularizer': 0.0001, 'bias_regularizer': 0.0001, 'activity_regularizer': 0.0001}`"
   ]
  },
  {
   "cell_type": "markdown",
   "metadata": {},
   "source": [
    "#### 29 Giugno 2021\n",
    "\n",
    "L'auto search con il nuovo modello ha dato risultati peggiori:\n",
    "\n",
    "`TOTAL TRAINING\n",
    "Numero epoche: 19.0\n",
    "Media tempo di addestramento: 166.16 s\n",
    "Accuracy: 57.43 %`\n",
    "\n",
    "`CONTINUAL TRAINING\n",
    "Media numero epoche: 42.14\n",
    "Deviazione standard numero epoche: 36.42\n",
    "Media tempo di addestramento: 296.63 s\n",
    "Accuracy: [0.5959232449531555, 0.6270983219146729, 0.5491606593132019, 0.5563549399375916, 0.6247002482414246, 0.541966438293457, 0.46882495284080505] %\n",
    "Media accuracy: 56.63 %\n",
    "Deviazione standard accuracy: 5.14 %`\n",
    "\n",
    "`SUM TRAINING\n",
    "Media numero epoche: 17.86\n",
    "Deviazione standard numero epoche: 10.68\n",
    "Media tempo di addestramento: 628.42 s\n",
    "Accuracy: [0.6630695462226868, 0.5995203852653503, 0.5611510872840881, 0.5719424486160278, 0.5839328765869141, 0.5671463012695312, 0.5635491609573364] %\n",
    "Media accuracy: 58.72 %\n",
    "Deviazione standard accuracy: 3.34 %`\n",
    "\n",
    "`REPLAY TRAINING\n",
    "Media numero epoche: 31.57\n",
    "Deviazione standard numero epoche: 15.17\n",
    "Media tempo di addestramento: 315.78 s\n",
    "Accuracy: [0.6151078939437866, 0.5875299572944641, 0.5587530136108398, 0.564748227596283, 0.577937662601471, 0.5239807963371277, 0.5635491609573364] %\n",
    "Media accuracy: 57.02 %\n",
    "Deviazione standard accuracy: 2.6 %`"
   ]
  },
  {
   "attachments": {
    "autotest.png": {
     "image/png": "[encoded data removed]"
    }
   },
   "cell_type": "markdown",
   "metadata": {},
   "source": [
    "![autotest.png](attachment:autotest.png)"
   ]
  },
  {
   "cell_type": "markdown",
   "metadata": {},
   "source": [
    "Per cui ho deciso di lasciare il modello con un singolo layer GRU da 30 neuroni.\n",
    "\n",
    "Ora studio un po' diverse tecniche di replay, con la rete da un solo layer GRU a 30 unità (+ output Dense con 4 unità softmax)\n",
    "\n",
    "__Baseline__: quella usata fin'ora, ma mantengo solo il 10%\n",
    "\n",
    "`Media numero epoche: 58.43\n",
    "Deviazione standard numero epoche: 35.66\n",
    "Media tempo di addestramento: 391.29 s\n",
    "Accuracy: [0.6127098202705383, 0.6115108132362366, 0.5695443749427795, 0.3824940025806427, 0.5083932876586914, 0.5155875086784363, 0.4076738655567169] %\n",
    "Media accuracy: 51.54 %\n",
    "Deviazione standard accuracy: 8.53 %`\n",
    "\n",
    "__25%__ del trset mantenuto:\n",
    "\n",
    "`Media numero epoche: 42.71\n",
    "Deviazione standard numero epoche: 39.88\n",
    "Media tempo di addestramento: 356.65 s\n",
    "Accuracy: [0.6067146062850952, 0.5527577996253967, 0.5623500943183899, 0.568345308303833, 0.6954436302185059, 0.5011990666389465, 0.41127097606658936] %\n",
    "Media accuracy: 55.69 %\n",
    "Deviazione standard accuracy: 8.12 %`\n",
    "\n",
    "__Mantengo $m = 50$ esempi per ogni label__:\n",
    "\n",
    "`Media numero epoche: 45.43\n",
    "Deviazione standard numero epoche: 41.74\n",
    "Media tempo di addestramento: 347.46 s\n",
    "Accuracy: [0.6306954622268677, 0.577937662601471, 0.6151078939437866, 0.5563549399375916, 0.49040767550468445, 0.5383692979812622, 0.5431654453277588] %\n",
    "Media accuracy: 56.46 %\n",
    "Deviazione standard accuracy: 4.44 %`\n",
    "\n",
    "__Mantengo $m = 50$ predizioni di ogni label__:\n",
    "\n",
    "`Media numero epoche: 23.0\n",
    "Deviazione standard numero epoche: 32.16\n",
    "Media tempo di addestramento: 205.55 s\n",
    "Accuracy: [0.6378896832466125, 0.6438848972320557, 0.5719424486160278, 0.5995203852653503, 0.5335731506347656, 0.5455635786056519, 0.45803356170654297] %\n",
    "Media accuracy: 57.01 %\n",
    "Deviazione standard accuracy: 6.02 %`\n",
    "\n",
    "Proviamo il solito test ma con un layer LSTM\n",
    "\n",
    "__Baseline__ 10%\n",
    "\n",
    "`Media numero epoche: 26.71\n",
    "Deviazione standard numero epoche: 25.63\n",
    "Media tempo di addestramento: 214.22 s\n",
    "Accuracy: [0.6582733988761902, 0.564748227596283, 0.5527577996253967, 0.5467625856399536, 0.5743405222892761, 0.5083932876586914, 0.3225419521331787] %\n",
    "Media accuracy: 53.25 %\n",
    "Deviazione standard accuracy: 9.55 %`\n",
    "\n",
    "__25%__ del trset mantenuto:\n",
    "\n",
    "`Media numero epoche: 51.57\n",
    "Deviazione standard numero epoche: 40.31\n",
    "Media tempo di addestramento: 434.67 s\n",
    "Accuracy: [0.7266187071800232, 0.5803357362747192, 0.5563549399375916, 0.5719424486160278, 0.7110311985015869, 0.623501181602478, 0.5239807963371277] %\n",
    "Media accuracy: 61.34 %\n",
    "Deviazione standard accuracy: 7.22 %`\n",
    "\n",
    "__Mantengo $m = 50$ esempi per ogni label__:\n",
    "\n",
    "`Media numero epoche: 24.0\n",
    "Deviazione standard numero epoche: 17.74\n",
    "Media tempo di addestramento: 233.8 s\n",
    "Accuracy: [0.6007194519042969, 0.49040767550468445, 0.5767385959625244, 0.6618704795837402, 0.6019184589385986, 0.6702637672424316, 0.7829736471176147] %\n",
    "Media accuracy: 62.63 %\n",
    "Deviazione standard accuracy: 8.44 %`\n",
    "\n",
    "__Mantengo $m = 50$ predizioni di ogni label__:\n",
    "\n",
    "`Media numero epoche: 40.43\n",
    "Deviazione standard numero epoche: 34.5\n",
    "Media tempo di addestramento: 326.79 s\n",
    "Accuracy: [0.6534771919250488, 0.564748227596283, 0.5383692979812622, 0.5359712243080139, 0.5947242379188538, 0.5299760103225708, 0.3908872902393341] %\n",
    "Media accuracy: 54.40 %\n",
    "Deviazione standard accuracy: 7.44 %`"
   ]
  },
  {
   "cell_type": "markdown",
   "metadata": {},
   "source": [
    "#### 30 Giugno 2021\n",
    "\n",
    "Autotest con LSTM\n",
    "\n",
    "`TOTAL TRAINING\n",
    "Numero epoche: 19.0\n",
    "Media tempo di addestramento: 178.08 s\n",
    "Accuracy: 69.42 %`\n",
    "\n",
    "`CONTINUAL TRAINING\n",
    "Media numero epoche: 37.43\n",
    "Deviazione standard numero epoche: 33.77\n",
    "Media tempo di addestramento: 280.99 s\n",
    "Accuracy: [0.5671463012695312, 0.46043166518211365, 0.5443645119667053, 0.568345308303833, 0.568345308303833, 0.6294963955879211, 0.6067146062850952] %\n",
    "Media accuracy: 56.35 %\n",
    "Deviazione standard accuracy: 4.97 %`\n",
    "\n",
    "`CUMULATIVE TRAINING\n",
    "Media numero epoche: 28.14\n",
    "Deviazione standard numero epoche: 30.79\n",
    "Media tempo di addestramento: 672.7 s\n",
    "Accuracy: [0.6187050342559814, 0.5959232449531555, 0.5707433819770813, 0.5443645119667053, 0.5935251712799072, 0.5731415152549744, 0.541966438293457] %\n",
    "Media accuracy: 57.69 %\n",
    "Deviazione standard accuracy: 2.6 %`\n",
    "\n",
    "`REPLAY TRAINING\n",
    "Media numero epoche: 19.43\n",
    "Deviazione standard numero epoche: 16.92\n",
    "Media tempo di addestramento: 222.84 s\n",
    "Accuracy: [0.6546762585639954, 0.5587530136108398, 0.5515587329864502, 0.5527577996253967, 0.5899280309677124, 0.6163069605827332, 0.41127097606658936] %\n",
    "Media accuracy: 56.220000000000006 %\n",
    "Deviazione standard accuracy: 7.1 %`\n",
    "\n",
    "`EPISODIC TRAINING\n",
    "Media numero epoche: 20.71\n",
    "Deviazione standard numero epoche: 32.69\n",
    "Media tempo di addestramento: 183.8 s\n",
    "Accuracy: [0.5887290239334106, 0.4208633005619049, 0.564748227596283, 0.46522781252861023, 0.577937662601471, 0.5731415152549744, 0.4724220633506775] %\n",
    "Media accuracy: 52.33 %\n",
    "Deviazione standard accuracy: 6.32 %`\n",
    "\n",
    "Autotest con GRU\n",
    "\n",
    "`TOTAL TRAINING\n",
    "Numero epoche: 16.0\n",
    "Media tempo di addestramento: 147.92 s\n",
    "Accuracy: 47.24 %`\n",
    "\n",
    "`CONTINUAL TRAINING\n",
    "Media numero epoche: 86.14\n",
    "Deviazione standard numero epoche: 33.94\n",
    "Media tempo di addestramento: 500.73 s\n",
    "Accuracy: [0.6031175255775452, 0.5851318836212158, 0.5575539469718933, 0.5671463012695312, 0.48441246151924133, 0.5731415152549744, 0.3956834673881531] %\n",
    "Media accuracy: 53.800000000000004 %\n",
    "Deviazione standard accuracy: 6.77 %`\n",
    "\n",
    "`CUMULATIVE TRAINING\n",
    "Media numero epoche: 27.43\n",
    "Deviazione standard numero epoche: 33.12\n",
    "Media tempo di addestramento: 617.59 s\n",
    "Accuracy: [0.6378896832466125, 0.61031174659729, 0.6067146062850952, 0.6079136729240417, 0.5659472346305847, 0.577937662601471, 0.5755395889282227] %\n",
    "Media accuracy: 59.75 %\n",
    "Deviazione standard accuracy: 2.35 %`\n",
    "\n",
    "`REPLAY TRAINING\n",
    "Media numero epoche: 39.14\n",
    "Deviazione standard numero epoche: 34.27\n",
    "Media tempo di addestramento: 325.98 s\n",
    "Accuracy: [0.6258992552757263, 0.785371720790863, 0.6115108132362366, 0.6115108132362366, 0.6151078939437866, 0.5395683646202087, 0.4976019263267517] %\n",
    "Media accuracy: 61.24000000000001 %\n",
    "Deviazione standard accuracy: 8.33 %`\n",
    "\n",
    "`EPISODIC TRAINING\n",
    "Media numero epoche: 41.14\n",
    "Deviazione standard numero epoche: 37.23\n",
    "Media tempo di addestramento: 316.2 s\n",
    "Accuracy: [0.6474820375442505, 0.597122311592102, 0.5911270976066589, 0.5443645119667053, 0.7002398371696472, 0.37889689207077026, 0.3141486942768097] %\n",
    "Media accuracy: 53.910000000000004 %\n",
    "Deviazione standard accuracy: 13.100000000000001 %`\n",
    "\n",
    "Le strategie \"continual\" si comportano meglio con GRU, mentre LSTM funziona meglio sul training offline.\n",
    "\n",
    "Il prossimo test è vedere come cambia il training episodico al variare di $m$: proverò valori da 30 a 70 a ritmi di 10.\n",
    "\n",
    "$m = 30$\n",
    "\n",
    "`Media numero epoche: 54.0\n",
    "Deviazione standard numero epoche: 40.07\n",
    "Media tempo di addestramento: 395.54 s\n",
    "Accuracy: [0.6019184589385986, 0.5203837156295776, 0.5803357362747192, 0.5791366696357727, 0.5899280309677124, 0.47122302651405334, 0.37889689207077026] %\n",
    "Media accuracy: 53.169999999999995 %\n",
    "Deviazione standard accuracy: 7.57 %`\n",
    "\n",
    "$m = 40$\n",
    "\n",
    "`Media numero epoche: 61.14\n",
    "Deviazione standard numero epoche: 44.2\n",
    "Media tempo di addestramento: 403.0 s\n",
    "Accuracy: [0.6115108132362366, 0.5827338099479675, 0.5995203852653503, 0.5827338099479675, 0.7553957104682922, 0.6019184589385986, 0.6127098202705383] %\n",
    "Media accuracy: 62.09 %\n",
    "Deviazione standard accuracy: 5.6000000000000005 %`\n",
    "\n",
    "$m = 50$\n",
    "\n",
    "`Media numero epoche: 39.14\n",
    "Deviazione standard numero epoche: 42.8\n",
    "Media tempo di addestramento: 274.43 s\n",
    "Accuracy: [0.6678656935691833, 0.6258992552757263, 0.7002398371696472, 0.5059952139854431, 0.43884891271591187, 0.45443645119667053, 0.35971224308013916] %\n",
    "Media accuracy: 53.61 %\n",
    "Deviazione standard accuracy: 11.98 %`\n",
    "\n",
    "$m = 60$\n",
    "\n",
    "`Media numero epoche: 66.57\n",
    "Deviazione standard numero epoche: 33.97\n",
    "Media tempo di addestramento: 470.2 s\n",
    "Accuracy: [0.5611510872840881, 0.5611510872840881, 0.5623500943183899, 0.5707433819770813, 0.5095923542976379, 0.44364508986473083, 0.3549160659313202] %\n",
    "Media accuracy: 50.91 %\n",
    "Deviazione standard accuracy: 7.57 %`\n",
    "\n",
    "$m = 70$\n",
    "\n",
    "`Media numero epoche: 43.14\n",
    "Deviazione standard numero epoche: 40.35\n",
    "Media tempo di addestramento: 330.76 s\n",
    "Accuracy: [0.6067146062850952, 0.6007194519042969, 0.5767385959625244, 0.730215847492218, 0.6834532618522644, 0.6067146062850952, 0.5743405222892761] %\n",
    "Media accuracy: 62.56 %\n",
    "Deviazione standard accuracy: 5.43 %`"
   ]
  },
  {
   "attachments": {
    "episodic_m_test.png": {
     "image/png": "[encoded data removed]"
    }
   },
   "cell_type": "markdown",
   "metadata": {},
   "source": [
    "![episodic_m_test.png](attachment:episodic_m_test.png)"
   ]
  },
  {
   "cell_type": "markdown",
   "metadata": {},
   "source": [
    "#### 1 Luglio 2021\n",
    "\n",
    "Ho provato a implementare le metriche di misurazione dell'accuracy, forward transfer e backward transfer specificate in <a href=\"https://proceedings.neurips.cc/paper/2017/file/f87522788a2be2d171666752f97ddebb-Paper.pdf\">questo paper</a>\n",
    "\n",
    "In particolare, ho diviso il test set per task:"
   ]
  },
  {
   "cell_type": "code",
   "execution_count": null,
   "metadata": {},
   "outputs": [],
   "source": [
    "Xts = pickle.load(open(\"/home/fexed/ML/datasets/WESAD/splitted/XS17_disarli.pkl\", 'rb'), encoding='latin1')\n",
    "yts = pickle.load(open(\"/home/fexed/ML/datasets/WESAD/splitted/yS17_disarli.pkl\", 'rb'), encoding='latin1')\n",
    "\n",
    "Xts_1, Xts_2, Xts_3, Xts_4, yts_1, yts_2, yts_3, yts_4 = [], [], [], [], [], [], [], []\n",
    "idx_1 = [i for i, x in enumerate(yts) if x[0] == 1]\n",
    "for i in idx_1:\n",
    "    Xts_1.append(Xts[i])\n",
    "    yts_1.append([1., 0., 0., 0.])\n",
    "Xts_1, yts_1 = np.array(Xts_1), np.array(yts_1)\n",
    "idx_2 = [i for i, x in enumerate(yts) if x[1] == 1]\n",
    "for i in idx_2:\n",
    "    Xts_2.append(Xts[i])\n",
    "    yts_2.append([0., 1., 0., 0.])\n",
    "Xts_2, yts_2 = np.array(Xts_2), np.array(yts_2)\n",
    "idx_3 = [i for i, x in enumerate(yts) if x[2] == 1]\n",
    "for i in idx_3:\n",
    "    Xts_3.append(Xts[i])\n",
    "    yts_3.append([0., 0., 1., 0.])\n",
    "Xts_3, yts_3 = np.array(Xts_3), np.array(yts_3)\n",
    "idx_4 = [i for i, x in enumerate(yts) if x[3] == 1]\n",
    "for i in idx_4:\n",
    "    Xts_4.append(Xts[i])\n",
    "    yts_4.append([0., 0., 0., 1.])\n",
    "Xts_4, yts_4 = np.array(Xts_4), np.array(yts_4)"
   ]
  },
  {
   "cell_type": "markdown",
   "metadata": {},
   "source": [
    "Subito dopo il `model.compile()`, ho creato la matrice R, il vettore di valutazioni iniziali b e inizializzato T, ACC, BWT e FWT:"
   ]
  },
  {
   "cell_type": "code",
   "execution_count": null,
   "metadata": {},
   "outputs": [],
   "source": [
    "R = []\n",
    "T = 4\n",
    "b = [model.evaluate(Xts_1, yts_1, verbose = 0)[1], model.evaluate(Xts_2, yts_2, verbose = 0)[1], model.evaluate(Xts_3, yts_3, verbose = 0)[1], model.evaluate(Xts_4, yts_4, verbose = 0)[1]]\n",
    "ACC, BWT, FWT = 0, 0, 0"
   ]
  },
  {
   "cell_type": "markdown",
   "metadata": {},
   "source": [
    "Durante il continual training, quindi all'interno del `for`, ho valutato oltre che su tutto il test set anche sui test set per task:"
   ]
  },
  {
   "cell_type": "code",
   "execution_count": null,
   "metadata": {},
   "outputs": [],
   "source": [
    "R.append([model.evaluate(Xts_1, yts_1, verbose = 0)[1], model.evaluate(Xts_2, yts_2, verbose = 0)[1], model.evaluate(Xts_3, yts_3, verbose = 0)[1], model.evaluate(Xts_4, yts_4, verbose = 0)[1]])"
   ]
  },
  {
   "cell_type": "markdown",
   "metadata": {},
   "source": [
    "Prima del precedente codice per popolare le memorie episodiche per task ($m = 70$ dai test di ieri).\n",
    "\n",
    "Finito il training, calcolo e stampo le tre metriche:"
   ]
  },
  {
   "cell_type": "code",
   "execution_count": null,
   "metadata": {},
   "outputs": [],
   "source": [
    "t = 0\n",
    "for i in range(T):\n",
    "        t += R[T-1][i]\n",
    "ACC = t/T\n",
    "\n",
    "t = 0\n",
    "for i in range(T-1):\n",
    "        t += (R[T-1][i] - R[i][i])\n",
    "BWT = t/(T-1)\n",
    "\n",
    "t = 0\n",
    "for i in range(1, T):\n",
    "        t += (R[i-1][i] - b[i])\n",
    "FWT = t/(T-1)\n",
    "\n",
    "\n",
    "print('ACC\\t', np.around(ACC, 4))\n",
    "print('BWT\\t', np.around(BWT, 4))\n",
    "print('FWT\\t', np.around(FWT, 4))"
   ]
  },
  {
   "cell_type": "markdown",
   "metadata": {},
   "source": [
    "Un rapido test sull'episodic training, con un layer GRU da 30 unità e $m = 70$, fornisce:\n",
    "\n",
    "`Media numero epoche: 20.29\n",
    "Deviazione standard numero epoche: 16.21\n",
    "Media tempo di addestramento: 194.99 s\n",
    "Accuracy: [0.6570743322372437, 0.7050359845161438, 0.5695443749427795, 0.5527577996253967, 0.5767385959625244, 0.6079136729240417, 0.5179855823516846] %\n",
    "Media accuracy: 59.81999999999999 %\n",
    "Deviazione standard accuracy: 5.949999999999999 %\n",
    "ACC      0.4665\n",
    "BWT      -0.0202\n",
    "FWT      0.4069`\n",
    "\n",
    "Mentre sul replay training al 10% ottengo:\n",
    "\n",
    "`Media numero epoche: 46.14\n",
    "Deviazione standard numero epoche: 42.93\n",
    "Media tempo di addestramento: 373.96 s\n",
    "Accuracy: [0.646282970905304, 0.8429256677627563, 0.5959232449531555, 0.5599520206451416, 0.6031175255775452, 0.5887290239334106, 0.3333333432674408] %\n",
    "Media accuracy: 59.58 %\n",
    "Deviazione standard accuracy: 13.83 %\n",
    "ACC      0.4745\n",
    "BWT      -0.1617\n",
    "FWT      0.532`\n",
    "\n",
    "e sul continual training classico:\n",
    "\n",
    "`Media numero epoche: 48.29\n",
    "Deviazione standard numero epoche: 37.38\n",
    "Media tempo di addestramento: 589.17 s\n",
    "Accuracy: [0.6055155992507935, 0.27697840332984924, 0.5071942210197449, 0.5563549399375916, 0.35371702909469604, 0.5539568066596985, 0.3968825042247772] %\n",
    "Media accuracy: 46.44 %\n",
    "Deviazione standard accuracy: 11.35 %\n",
    "ACC      0.4813\n",
    "BWT      -0.0242\n",
    "FWT      0.0481`"
   ]
  },
  {
   "attachments": {
    "accbwtfwt.png": {
     "image/png": "[encoded data removed]"
    }
   },
   "cell_type": "markdown",
   "metadata": {},
   "source": [
    "![accbwtfwt.png](attachment:accbwtfwt.png)"
   ]
  },
  {
   "cell_type": "markdown",
   "metadata": {},
   "source": [
    "Proviamo il tutto ma imparando una classe alla volta.\n",
    "\n",
    "`TOTAL TRAINING\n",
    "Numero epoche: 18.0\n",
    "Media tempo di addestramento: 171.14 s\n",
    "Accuracy: 53.239999999999995 %`\n",
    "\n",
    "`CONTINUAL TRAINING\n",
    "Media numero epoche: 99.25\n",
    "Deviazione standard numero epoche: 1.3\n",
    "Media tempo di addestramento: 553.84 s\n",
    "Accuracy: [0.4532374143600464, 0.44964027404785156, 0.14268584549427032, 0.13309352099895477] %\n",
    "Media accuracy: 29.470000000000002 %\n",
    "Deviazione standard accuracy: 15.68 %\n",
    "ACC      0.257\n",
    "BWT      -0.9907\n",
    "FWT      -0.0935`\n",
    "\n",
    "`CUMULATIVE TRAINING\n",
    "Media numero epoche: 99.25\n",
    "Deviazione standard numero epoche: 1.3\n",
    "Media tempo di addestramento: 558.1 s\n",
    "Accuracy: [0.568345308303833, 0.3992805778980255, 0.20863309502601624, 0.12949639558792114] %\n",
    "Media accuracy: 32.64 %\n",
    "Deviazione standard accuracy: 17.07 %\n",
    "ACC      0.2507\n",
    "BWT      -0.9991\n",
    "FWT      -0.3965`\n",
    "\n",
    "`REPLAY TRAINING 25%\n",
    "Media numero epoche: 99.0\n",
    "Deviazione standard numero epoche: 1.73\n",
    "Media tempo di addestramento: 563.53 s\n",
    "Accuracy: [0.47122302651405334, 0.35971224308013916, 0.21462829411029816, 0.20383693277835846] %\n",
    "Media accuracy: 31.240000000000002 %\n",
    "Deviazione standard accuracy: 11.05 %\n",
    "ACC      0.2918\n",
    "BWT      -0.9443\n",
    "FWT      -0.3756`\n",
    "\n",
    "`EPISODIC TRAINING m = 70\n",
    "Media numero epoche: 39.5\n",
    "Deviazione standard numero epoche: 36.13\n",
    "Media tempo di addestramento: 329.7 s\n",
    "Accuracy: [0.45203837752342224, 0.6402877569198608, 0.5899280309677124, 0.577937662601471] %\n",
    "Media accuracy: 56.49999999999999 %\n",
    "Deviazione standard accuracy: 6.93 %\n",
    "ACC      0.4938\n",
    "BWT      -0.6509\n",
    "FWT      -0.3595`\n",
    "\n",
    "Un confronto con l'autotest per coppia di soggetti\n",
    "\n",
    "`TOTAL TRAINING\n",
    "Numero epoche: 13.0\n",
    "Media tempo di addestramento: 130.07 s\n",
    "Accuracy: 59.95 %`\n",
    "\n",
    "`CONTINUAL TRAINING\n",
    "Media numero epoche: 70.0\n",
    "Deviazione standard numero epoche: 37.04\n",
    "Media tempo di addestramento: 419.44 s\n",
    "Accuracy: [0.6258992552757263, 0.5251798629760742, 0.44724220037460327, 0.5599520206451416, 0.4748201370239258, 0.5503597259521484, 0.5239807963371277] %\n",
    "Media accuracy: 52.959999999999994 %\n",
    "Deviazione standard accuracy: 5.41 %\n",
    "ACC      0.4712\n",
    "BWT      -0.0042\n",
    "FWT      0.0844`\n",
    "\n",
    "`CUMULATIVE TRAINING\n",
    "Media numero epoche: 24.71\n",
    "Deviazione standard numero epoche: 27.54\n",
    "Media tempo di addestramento: 547.2 s\n",
    "Accuracy: [0.6007194519042969, 0.824940025806427, 0.5839328765869141, 0.5743405222892761, 0.5671463012695312, 0.5887290239334106, 0.5215827226638794] %\n",
    "Media accuracy: 60.88 %\n",
    "Deviazione standard accuracy: 9.13 %\n",
    "ACC      0.4837\n",
    "BWT      -0.1369\n",
    "FWT      0.3752`\n",
    "\n",
    "`25% REPLAY TRAINING\n",
    "Media numero epoche: 49.14\n",
    "Deviazione standard numero epoche: 35.97\n",
    "Media tempo di addestramento: 385.25 s\n",
    "Accuracy: [0.7482014298439026, 0.5563549399375916, 0.5911270976066589, 0.5731415152549744, 0.7422062158584595, 0.6606714725494385, 0.5239807963371277] %\n",
    "Media accuracy: 62.8 %\n",
    "Deviazione standard accuracy: 8.36 %\n",
    "ACC      0.4835\n",
    "BWT      -0.0399\n",
    "FWT      0.4332`\n",
    "\n",
    "`EPISODIC TRAINING m = 70\n",
    "Media numero epoche: 56.29\n",
    "Deviazione standard numero epoche: 35.27\n",
    "Media tempo di addestramento: 367.09 s\n",
    "Accuracy: [0.7026379108428955, 0.5755395889282227, 0.5719424486160278, 0.5827338099479675, 0.6498801112174988, 0.6223021745681763, 0.5119904279708862] %\n",
    "Media accuracy: 60.24 %\n",
    "Deviazione standard accuracy: 5.72 %\n",
    "ACC      0.4942\n",
    "BWT      -0.0502\n",
    "FWT      0.3903`"
   ]
  },
  {
   "attachments": {
    "autotest_GRU.png": {
     "image/png": "[encoded data removed]"
    },
    "autotest_task_GRU.png": {
     "image/png": "[encoded data removed]"
    }
   },
   "cell_type": "markdown",
   "metadata": {},
   "source": [
    "![autotest_task_GRU.png](attachment:autotest_task_GRU.png)![autotest_GRU.png](attachment:autotest_GRU.png)"
   ]
  },
  {
   "cell_type": "markdown",
   "metadata": {},
   "source": [
    "#### 2 Luglio 2021\n",
    "\n",
    "##### Un po' di somme\n",
    "Dopo un mesetto di test mi fermo un secondo e tiro qualche somma rivedendo i dati.\n",
    "\n",
    "Partendo da un layer GRU da 29 unità seguito da un layer output Dense da 4 unità softmax, ho innanzitutto provato tre tecniche:\n",
    "- __Total training__: tutti i soggetti (escluso S17) sono stati uniti in un unico dataset e il modello è stato addestrato offline e testato su S17.\n",
    "- __Continual training__: i soggetti sono stati divisi a coppie, escluso S17, e il modello è stato addestrato coppia per coppia testando su S17 dopo ogni coppia.\n",
    "- __Cumulative training__: il training è stato eseguito coppia per coppia, ma le coppie precedentemente usate sono state mantenute anche nei training set successivi (quindi a con l'ultima coppia il training set equivaleva al dataset completo escluso S17)\n",
    "\n",
    "Ho poi provato un modello con due layer GRU da 30 unità e un layer output Dense da 4 unità softmax sui primi due scenari di training, ottenendo fondamentalmente gli stessi risultati. Temendo overfitting, ho rifatto il dataset prendendo tutti i datapoint di ogni soggetto invece che solo una parte. Con quest'ultimo modello, sul dataset nuovo, ho ottenuto risultati migliori raggiungendo un 56% di accuratezza sul training offline e un 53% su quello continual.\n",
    "\n",
    "Quindi ho provato un modello con due layer LSTM da 30 unità e un layer output Dense da 4 unità softmax, ottenendo risultati ancora migliori sui tre scenari. Ho aggiunto un nuovo scenario:\n",
    "- __Replay training__: dopo aver usato una coppia, ne mantengo il 25% (default) dai dati da usare nel training assieme alla coppia successiva. Fornisce risultati a metà strada tra il continual e il cumulative.\n",
    "\n",
    "Con la nuova tecnica, ho provato diversi modelli sia GRU che LSTM con un numero di unità tra i 30 e i 15. Ho concluso che il modello con un singolo layer LSTM da 30 unità e quello con un singolo layer GRU da 30 unità sono i migliori, procedendo a comparare le varie tecniche sul singolo layer GRU. Ottengo un comportamento del replay al 25% comparabile al training offline, seppur oscillante tra l'85% e il 55% (con l'offline che si attesta sul 65%). Il cumulative è molto più stabile, intorno al 60% con una deviazione standard del 2%.\n",
    "\n",
    "Giudicando ottime le tecniche di replay, ne ho provate diverse:\n",
    "- __Replay 10%__\n",
    "- __Replay 25%__\n",
    "- __Episodica $m = 50$__ istanze\n",
    "- __Episodica $m = 50$__ predizioni\n",
    "\n",
    "Con il replay al 25% e l'episodico sulle istanze con i comportamenti migliori. Ho provato anche con un layer LSTM da 30 unità e un layer output Dense da 4 unità softmax, ottenendo risultati simili ma migliori.\n",
    "\n",
    "Ho confrontato i due modelli, ottenendo un risultato migliore su LSTM per il training offline, mentre le strategie continual si comportano meglio con GRU. Va però in contrasto con quanto osservato fin'ora.\n",
    "\n",
    "Confrontando vari valori di $m$, ho trovato in $m = 70$ il comportamento migliore. Andrebbe fatta un'altra ricerca in quell'intorno, magari tra 60 e 100.\n",
    "\n",
    "Successivamente ho studiato diverse metriche (ACC, BWT e FWT) che confermano l'episodic come la tecnica migliore: finendo con un'ACC comparabile al replay al 10%, ha però un catastrophic forgetting di quasi 10 volte inferiore.\n",
    "\n",
    "Ho anche comparato l'apprendere task per task invece che coppia per coppia, ottenendo però accuratezze molto basse su continual, cumulative e replay, nonostante l'offline (dove il dataset non cambia) e l'episodic mantengano grossomodo le stesse capacità."
   ]
  },
  {
   "cell_type": "markdown",
   "metadata": {},
   "source": [
    "`TOTAL TRAINING (GRU)\n",
    "Numero epoche: 31.0\n",
    "Media tempo di addestramento: 228.87 s\n",
    "Accuracy: 57.07 %`\n",
    "\n",
    "`CONTINUAL TRAINING (GRU)\n",
    "Media numero epoche: 86.0\n",
    "Deviazione standard numero epoche: 33.08\n",
    "Media tempo di addestramento: 492.29 s\n",
    "Accuracy: [0.6079136729240417, 0.5335731506347656, 0.5059952139854431, 0.5467625856399536, 0.39808154106140137, 0.5167865753173828, 0.3633093535900116] %\n",
    "Media accuracy: 49.61 %\n",
    "Deviazione standard accuracy: 7.95 %\n",
    "ACC      0.4379\n",
    "BWT      -0.0133\n",
    "FWT      0.0702`\n",
    "\n",
    "`CUMULATIVE TRAINING (GRU)\n",
    "Media numero epoche: 12.57\n",
    "Deviazione standard numero epoche: 9.5\n",
    "Media tempo di addestramento: 429.33 s\n",
    "Accuracy: [0.619904100894928, 0.7098321318626404, 0.6091127395629883, 0.597122311592102, 0.6067146062850952, 0.5023980736732483, 0.5671463012695312] %\n",
    "Media accuracy: 60.17 %\n",
    "Deviazione standard accuracy: 5.75 %\n",
    "ACC      0.5287\n",
    "BWT      -0.0219\n",
    "FWT      0.4732`\n",
    "\n",
    "`25% REPLAY TRAINING (GRU)\n",
    "Media numero epoche: 49.43\n",
    "Deviazione standard numero epoche: 33.97\n",
    "Media tempo di addestramento: 452.58 s\n",
    "Accuracy: [0.6438848972320557, 0.7637889981269836, 0.581534743309021, 0.5731415152549744, 0.5851318836212158, 0.5767385959625244, 0.5983213186264038] %\n",
    "Media accuracy: 61.75000000000001 %\n",
    "Deviazione standard accuracy: 6.370000000000001 %\n",
    "ACC      0.486\n",
    "BWT      -0.1744\n",
    "FWT      0.3707`\n",
    "\n",
    "`EPISODIC TRAINING (m = 70) (GRU)\n",
    "Training        ended\n",
    "Media numero epoche: 42.43\n",
    "Deviazione standard numero epoche: 39.91\n",
    "Media tempo di addestramento: 341.32 s\n",
    "Accuracy: [0.7817745804786682, 0.5695443749427795, 0.5671463012695312, 0.526378870010376, 0.5695443749427795, 0.5587530136108398, 0.22781774401664734] %\n",
    "Media accuracy: 54.300000000000004 %\n",
    "Deviazione standard accuracy: 15.07 %\n",
    "ACC      0.4501\n",
    "BWT      -0.0573\n",
    "FWT      0.5017`\n",
    "\n",
    "`TOTAL TRAINING (LSTM)\n",
    "Numero epoche: 25.0\n",
    "Media tempo di addestramento: 189.37 s\n",
    "Accuracy: 50.6 %`\n",
    "\n",
    "`CONTINUAL TRAINING (LSTM)\n",
    "Media numero epoche: 65.14\n",
    "Deviazione standard numero epoche: 37.06\n",
    "Media tempo di addestramento: 431.68 s\n",
    "Accuracy: [0.5803357362747192, 0.4076738655567169, 0.47122302651405334, 0.6474820375442505, 0.6139088869094849, 0.5239807963371277, 0.29136690497398376] %\n",
    "Media accuracy: 50.51 %\n",
    "Deviazione standard accuracy: 11.62 %\n",
    "ACC      0.5555\n",
    "BWT      0.1009\n",
    "FWT      0.1348`\n",
    "\n",
    "`CUMULATIVE TRAINING (LSTM)\n",
    "Media numero epoche: 14.0\n",
    "Deviazione standard numero epoche: 9.83\n",
    "Media tempo di addestramento: 452.7 s\n",
    "Accuracy: [0.5059952139854431, 0.6067146062850952, 0.5599520206451416, 0.581534743309021, 0.6438848972320557, 0.555155873298645, 0.5431654453277588] %\n",
    "Media accuracy: 57.089999999999996 %\n",
    "Deviazione standard accuracy: 4.15 %\n",
    "ACC      0.5026\n",
    "BWT      -0.0568\n",
    "FWT      0.197`\n",
    "\n",
    "`25% REPLAY TRAINING (LSTM)\n",
    "Media numero epoche: 8.0\n",
    "Deviazione standard numero epoche: 4.17\n",
    "Media tempo di addestramento: 116.93 s\n",
    "Accuracy: [0.7817745804786682, 0.7242206335067749, 0.5755395889282227, 0.568345308303833, 0.6223021745681763, 0.6402877569198608, 0.6318944692611694] %\n",
    "Media accuracy: 64.92 %\n",
    "Deviazione standard accuracy: 7.199999999999999 %\n",
    "ACC      0.4893\n",
    "BWT      -0.2733\n",
    "FWT      0.459`\n",
    "\n",
    "`EPISODIC TRAINING (m = 70) (LSTM)\n",
    "Media numero epoche: 15.0\n",
    "Deviazione standard numero epoche: 10.32\n",
    "Media tempo di addestramento: 149.23 s\n",
    "Accuracy: [0.6822541952133179, 0.6570743322372437, 0.4892086386680603, 0.5107913613319397, 0.6151078939437866, 0.49640288949012756, 0.4772182106971741] %\n",
    "Media accuracy: 56.120000000000005 %\n",
    "Deviazione standard accuracy: 8.08 %\n",
    "ACC      0.4055\n",
    "BWT      -0.055\n",
    "FWT      0.0749`"
   ]
  },
  {
   "attachments": {
    "autotestv.png": {
     "image/png": "[encoded data removed]"
    }
   },
   "cell_type": "markdown",
   "metadata": {},
   "source": [
    "![autotestv.png](attachment:autotestv.png)"
   ]
  },
  {
   "attachments": {
    "autotestv_accbwtfwt.png": {
     "image/png": "[encoded data removed]"
    }
   },
   "cell_type": "markdown",
   "metadata": {},
   "source": [
    "![autotestv_accbwtfwt.png](attachment:autotestv_accbwtfwt.png)"
   ]
  },
  {
   "cell_type": "markdown",
   "metadata": {},
   "source": [
    "#### 3 Luglio 2021\n",
    "\n",
    "Ho pensato di aver sistemato male i dati, e aggiornato `data.py` calcolando media e deviazione standard sull'intero dataset invece di standardizzare soggetto per soggetto. Fatto sta che il training offline supera a malapena il 25% di accuratezza su S17 così facendo, per cui sono tornato al dataset precedente.\n",
    "\n",
    "##### CLEAR\n",
    "_Continual Learning with Experience and Replay_\n",
    "\n",
    "_As read <a href=\"https://arxiv.org/pdf/1811.11682.pdf\">here</a>_\n",
    "- __Stability-Plasticity dilemma__: contrapposizione di due vincoli, cioè del mantenere la vecchia conoscenza sapendosi adattate al nuovo\n",
    "- __Catastrophic Forgetting__: nuova conoscenza soppianta la vecchia (alta plasticità ma bassa stabilità)\n",
    "\n",
    "CLEAR unisce learning on-policy da nuove esperienze (plasticità) e learning off-policy da esperienze in replay (stabilità). Per stabilità aggiuntiva, si introduce behavioral cloning tra policy attuale e sé stesso del passato.\n",
    "- Stabilità e plasticità, quasi eliminando il catastrophic forgetting. Si comporta meglio di EWC e Progress&Compress.\n",
    "- Semplicità, e può essere combinato con altri approcci\n",
    "- Non si basa sull'identità del task o sui confini tra task, risultando applicabile laddove i task sono sconosciuti o non discreti.\n",
    "\n",
    "##### Brain inspired replay\n",
    "_As read <a href=\"https://www.nature.com/articles/s41467-020-17866-2\">here</a>_\n",
    "\n",
    "Valuto l'idea di creare un modello generativo per il replay. Semplice semplice: lo alleno \"al contrario\" (passando i label come dato e le 14 features come target) e vediamo come si comporta. Parto da un layer Dense con 30 neuroni input e un layer output da 14 neuroni senza attivazione."
   ]
  },
  {
   "cell_type": "code",
   "execution_count": null,
   "metadata": {},
   "outputs": [],
   "source": [
    "model = tf.keras.models.Sequential()\n",
    "model.add(tf.keras.layers.Dense(30))\n",
    "model.add(tf.keras.layers.Dense(14,\n",
    "                  kernel_regularizer = tf.keras.regularizers.l1_l2(l1 = 1e-6, l2 = 1e-6),\n",
    "                  bias_regularizer = tf.keras.regularizers.l1_l2(l1 = 1e-4, l2 = 1e-4),\n",
    "                  activity_regularizer = tf.keras.regularizers.l1_l2(l1 = 1e-4, l2 = 1e-4)))\n",
    "opt = tf.keras.optimizers.Adam(learning_rate = 0.005, beta_1 = 0.85, beta_2 = 0.999)\n",
    "model.compile(loss = 'mse', optimizer = opt)"
   ]
  },
  {
   "cell_type": "markdown",
   "metadata": {},
   "source": [
    "Allenato sull'intero dataset WESAD a disposizione con batch di 512 elementi, e testato su S17 con una loss di 0.9588.\n",
    "\n",
    "Un velocissimo test　(`genvclas.py`)"
   ]
  },
  {
   "cell_type": "code",
   "execution_count": null,
   "metadata": {},
   "outputs": [],
   "source": [
    "import os\n",
    "os.environ['TF_CPP_MIN_LOG_LEVEL'] = '3'\n",
    "import tensorflow as tf\n",
    "import numpy as np\n",
    "\n",
    "\n",
    "generator = tf.keras.models.load_model('/home/fexed/ML/models/wesad_generative.h5')\n",
    "classificator = tf.keras.models.load_model('/home/fexed/ML/models/autotest/episodicGRU')\n",
    "first, second, third, fourth = [], [], [], []\n",
    "for i in range(100):\n",
    "    first.append(generator.predict(np.array([[1., 0., 0., 0.]]))[0])\n",
    "    second.append(generator.predict(np.array([[0., 1., 0., 0.]]))[0])\n",
    "    third.append(generator.predict(np.array([[0., 0., 1., 0.]]))[0])\n",
    "    fourth.append(generator.predict(np.array([[0., 0., 0., 1.]]))[0])\n",
    "\n",
    "first = np.array(first).reshape(-1, 100, 14)\n",
    "second = np.array(second).reshape(-1, 100, 14)\n",
    "third = np.array(third).reshape(-1, 100, 14)\n",
    "fourth = np.array(fourth).reshape(-1, 100, 14)\n",
    "\n",
    "print(classificator.predict(first))\n",
    "print(classificator.predict(second))\n",
    "print(classificator.predict(third))\n",
    "print(classificator.predict(fourth))"
   ]
  },
  {
   "cell_type": "markdown",
   "metadata": {},
   "source": [
    "Produce risultati confortanti\n",
    "\n",
    "`[[9.9999845e-01 5.4661302e-07 6.5005071e-07 2.8123785e-07]]\n",
    "[[9.4253558e-08 9.9999928e-01 1.1999366e-07 4.3563784e-07]]\n",
    "[[1.9276902e-06 1.3294758e-07 9.9997914e-01 1.8861941e-05]]\n",
    "[[1.3735850e-07 1.3718072e-07 7.1482100e-07 9.9999905e-01]]`\n",
    "\n",
    "Quindi ho prodotto uno script che lavora come l'episodic ma si avvale del generatore per poter creare le etichette \"replay\". Provo una volta generando le etichette solo all'inizio, poi proverò rigenerando ogni volta le etichette."
   ]
  },
  {
   "cell_type": "code",
   "execution_count": null,
   "metadata": {},
   "outputs": [],
   "source": [
    "print(\"Opening generator\")\n",
    "generator = tf.keras.models.load_model('/home/fexed/ML/models/wesad_generative.h5')\n",
    "print(\"Generating\")\n",
    "for i in range(m):\n",
    "    print(\"m = \" + str(i*100), end=\"\\r\")\n",
    "    f, s, t, g = [], [], [], []\n",
    "    for i in range(100):\n",
    "        f.append(generator.predict(np.array([[1., 0., 0., 0.]]))[0])\n",
    "        s.append(generator.predict(np.array([[0., 1., 0., 0.]]))[0])\n",
    "        t.append(generator.predict(np.array([[0., 0., 1., 0.]]))[0])\n",
    "        g.append(generator.predict(np.array([[0., 0., 0., 1.]]))[0])\n",
    "    X_1.append(f)\n",
    "    y_1.append([1., 0., 0., 0.])\n",
    "    X_2.append(s)\n",
    "    y_2.append([0., 1., 0., 0.])\n",
    "    X_3.append(t)\n",
    "    y_3.append([0., 0., 1., 0.])\n",
    "    X_4.append(g)\n",
    "    y_4.append([0., 0., 0., 1.])\n",
    "\n",
    "X_gen = np.concatenate([X_1, X_2, X_3, X_4], axis = 0)\n",
    "y_gen = np.concatenate([y_1, y_2, y_3, y_4], axis = 0)\n",
    "\n",
    "for S in [(\"S2\", \"S3\"), (\"S4\", \"S5\"), (\"S6\", \"S7\"), (\"S8\", \"S9\"), (\"S10\", \"S11\"), (\"S13\", \"S14\"), (\"S15\", \"S16\")]:\n",
    "    print(\"Subjects \" + S[0] + \" and \" + S[1])\n",
    "    Xa = pickle.load(open(\"/home/fexed/ML/datasets/WESAD/splitted/X\" + S[0] + \"_disarli.pkl\", 'rb'), encoding='latin1')\n",
    "    ya = pickle.load(open(\"/home/fexed/ML/datasets/WESAD/splitted/y\" + S[0] + \"_disarli.pkl\", 'rb'), encoding='latin1')\n",
    "    Xb = pickle.load(open(\"/home/fexed/ML/datasets/WESAD/splitted/X\" + S[1] + \"_disarli.pkl\", 'rb'), encoding='latin1')\n",
    "    yb = pickle.load(open(\"/home/fexed/ML/datasets/WESAD/splitted/y\" + S[1] + \"_disarli.pkl\", 'rb'), encoding='latin1')\n",
    "\n",
    "    X = np.concatenate([X_gen, Xa, Xb], axis = 0)\n",
    "    y = np.concatenate([y_gen, ya, yb], axis = 0)\n",
    "    \n",
    "    # Training..."
   ]
  },
  {
   "cell_type": "markdown",
   "metadata": {},
   "source": [
    "Il risultato generando il test una sola volta è:\n",
    "\n",
    "`Media numero epoche: 76.29\n",
    "Deviazione standard numero epoche: 37.95\n",
    "Media tempo di addestramento: 538.37 s\n",
    "Accuracy: [0.6954436302185059, 0.6546762585639954, 0.5431654453277588, 0.6247002482414246, 0.4184652268886566, 0.4976019263267517, 0.46882495284080505] %\n",
    "Media accuracy: 55.76 %\n",
    "Deviazione standard accuracy: 9.56 %\n",
    "ACC      0.5594\n",
    "BWT      -0.0482\n",
    "FWT      0.2269`\n",
    "\n",
    "Generando di volta in volta:\n",
    "\n",
    "`Media numero epoche: 60.14\n",
    "Deviazione standard numero epoche: 44.95\n",
    "Media tempo di addestramento: 574.32 s\n",
    "Accuracy: [0.619904100894928, 0.633093535900116, 0.568345308303833, 0.6606714725494385, 0.4424460530281067, 0.44724220037460327, 0.33453238010406494] %\n",
    "Media accuracy: 52.949999999999996 %\n",
    "Deviazione standard accuracy: 11.34 %\n",
    "ACC      0.5646\n",
    "BWT      0.0117\n",
    "FWT      -0.024`"
   ]
  },
  {
   "cell_type": "markdown",
   "metadata": {},
   "source": [
    "#### 5 Luglio 2021\n",
    "\n",
    "Ho sistemato il progetto su Overleaf e mandato una mail ai relatori.\n",
    "\n",
    "Provo a generare un \"test set\" artificiale col generatore e valutare la performance di un modello su di esso: la loss è di `0.0003301` e l'accuracy misurata è del 100%\n",
    "\n",
    "- __On-Policy__: algoritmi che valutano e migliorano la stessa _policy_ che viene usata per scegliere l'azione da eseguire. Target policy $=$ behavior policy.\n",
    "- __Off-Policy__: algoritmi che valutano e migliorano una _policy_ diversa da quella usata per selezionare l'azione. Target policy $\\neq$ behavior policy.\n",
    "- policy sarebbe la probabilità che un'azione _a_ sia intrapresa in uno stato _s_\n",
    "\n",
    "Provo la <a href=\"https://github.com/gallicch/DeepRC-TF\">Deep Reservoir Echo State Network</a>. Script semplice semplice per provarla, allenamento offline (da `totaltrain.py`) con il modello costruito tramite `DeepRC.SimpleDeepESNClassifier(num_classes = 4, units = 30, layers = 1)`, il risultato è un 58.39% di accuratezza dopo 22 epoche (e 1h 20m di tempo).\n",
    "\n",
    "Provo con 2 layers ed in 22 epoche raggiunge il 53.24% di accuratezza.\n",
    "\n",
    "Provo con 1 layer da 15 unità: 31 epoche per 44%. Domani proverò con 25, 35 e 40 unità. La mattinata, praticamente."
   ]
  },
  {
   "cell_type": "markdown",
   "metadata": {},
   "source": [
    "#### 6 Luglio 2021\n",
    "\n",
    "Proviamo un layer da 25 unità: 12 epoche per 40.53%\n",
    "\n",
    "Un layer da 35 unità: 20 epoche per 59.96%\n",
    "\n",
    "Un layer da 40 unità: 17 epoche per 53.6%\n",
    "\n",
    "Un layer da 37 unità: 10 epoche per 67.99%\n",
    "\n",
    "Un layer da 38 unità: 12 Epoche per 46.36%\n",
    "\n",
    "Riprovo 37 unità: 65.47% in 23 epoche. Direi che va bene. Provo questo modello (un layer da 37 unità) con il replay episodico con $m = 70$\n",
    "\n",
    "`Media numero epoche: 53.43\n",
    "Deviazione standard numero epoche: 22.35\n",
    "Media tempo di addestramento: 1894.45 s\n",
    "Accuracy: [0.5743405222892761, 0.5851318836212158, 0.45443645119667053, 0.541966438293457, 0.6618704795837402, 0.5563549399375916, 0.30215826630592346] %\n",
    "Media accuracy: 52.52 %\n",
    "Deviazione standard accuracy: 10.74 %\n",
    "ACC      0.4652\n",
    "BWT      -0.0468\n",
    "FWT      -0.0308`"
   ]
  },
  {
   "cell_type": "markdown",
   "metadata": {},
   "source": [
    "#### 7 Luglio 2021\n",
    "\n",
    "13h di elaborazione per l'autotest con il Reservoir.\n",
    "\n",
    "`TOTAL TRAINING\n",
    "Numero epoche: 35.0\n",
    "Media tempo di addestramento: 1256.66 s\n",
    "Accuracy: 66.31 %`\n",
    "\n",
    "`CONTINUAL TRAINING\n",
    "Media numero epoche: 73.29\n",
    "Deviazione standard numero epoche: 25.97\n",
    "Media tempo di addestramento: 2066.87 s\n",
    "Accuracy: [0.5491606593132019, 0.49040767550468445, 0.44724220037460327, 0.5383692979812622, 0.5323740839958191, 0.5515587329864502, 0.4040767252445221] %\n",
    "Media accuracy: 50.19 %\n",
    "Deviazione standard accuracy: 5.3 %\n",
    "ACC      0.4651\n",
    "BWT      -0.0173\n",
    "FWT      -0.0873`\n",
    "\n",
    "`CUMULATIVE TRAINING\n",
    "Media numero epoche: 19.71\n",
    "Deviazione standard numero epoche: 10.82\n",
    "Media tempo di addestramento: 2612.8 s\n",
    "Accuracy: [0.6486810445785522, 0.623501181602478, 0.5947242379188538, 0.6378896832466125, 0.6402877569198608, 0.6618704795837402, 0.6726618409156799] %\n",
    "Media accuracy: 63.99 %\n",
    "Deviazione standard accuracy: 2.37 %\n",
    "ACC      0.5465\n",
    "BWT      0.0196\n",
    "FWT      0.0829`\n",
    "\n",
    "`25% REPLAY TRAINING\n",
    "Media numero epoche: 33.43\n",
    "Deviazione standard numero epoche: 17.12\n",
    "Media tempo di addestramento: 1337.93 s\n",
    "Accuracy: [0.678657054901123, 0.4976019263267517, 0.1558752954006195, 0.5539568066596985, 0.5467625856399536, 0.5875299572944641, 0.19904077053070068] %\n",
    "Media accuracy: 45.99 %\n",
    "Deviazione standard accuracy: 18.61 %\n",
    "ACC      0.4658\n",
    "BWT      -0.0089\n",
    "FWT      0.4862`\n",
    "\n",
    "`EPISODIC TRAINING (m = 70)\n",
    "Media numero epoche: 36.71\n",
    "Deviazione standard numero epoche: 15.53\n",
    "Media tempo di addestramento: 1426.2 s\n",
    "Accuracy: [0.6306954622268677, 0.7026379108428955, 0.4724220633506775, 0.36690646409988403, 0.5071942210197449, 0.5503597259521484, 0.6175059676170349] %\n",
    "Media accuracy: 54.97 %\n",
    "Deviazione standard accuracy: 10.4 %\n",
    "ACC      0.3661\n",
    "BWT      -0.247\n",
    "FWT      0.4371`"
   ]
  },
  {
   "cell_type": "markdown",
   "metadata": {},
   "source": [
    "#### 8 Luglio 2021\n",
    "##### Call con Gallicchio e Lomonaco\n",
    "https://teaching-gitlab.di.unipi.it/f.matteoni\n",
    "\n",
    "- un soggetto per volta, partendo da zero sul cumulative (pesi random), verifica offline per numero di epoche ma uso early stopping e va già abbastanza bene.\n",
    "- Continual learning applicato a human state monitoring\n",
    "- Call con Gallicchio per vedere di risolvere lentezza Reservoir\n",
    "- Altri dataset\n",
    "\n",
    "Quindi opzioni sono\n",
    "- irrobustire con dataset e scenari e altri metodi replay\n",
    "- lato strategie, più originale\n",
    "- provare su device vero, jetson nano\n",
    "\n",
    "Quindi\n",
    "- misurare tempi e memoria oltre le varie metriche\n",
    "- consolidare con altri dataset (ASCERTAIN)\n",
    "\n",
    "`0 = arousal > 3 & valence > 0,\n",
    "1 = arousal > 3 & valence <= 0,\n",
    "2 = arousal <= 3 & valence > 0,\n",
    "3 = arousal <= 3 & valence <= 0.`\n",
    "\n",
    "- altra strategia (EWC, LWF, altre simili)\n",
    "\n",
    "##### Misurare memoria\n",
    "https://pypi.org/project/memory-profiler/\n",
    "\n",
    "https://www.pluralsight.com/blog/tutorials/how-to-profile-memory-usage-in-python `guppy`\n",
    "\n",
    "https://stackoverflow.com/questions/276052/how-to-get-current-cpu-and-ram-usage-in-python `psutil`"
   ]
  },
  {
   "cell_type": "markdown",
   "metadata": {},
   "source": [
    "#### 9 Luglio 2021\n",
    "\n",
    "Ho fatto uno script che monitora la RAM usata da un processo in base al PID. Lo \"aggancio\" ai processi di training per misurare l'utilizzo di RAM e salvo i risultati."
   ]
  },
  {
   "cell_type": "code",
   "execution_count": null,
   "metadata": {},
   "outputs": [],
   "source": [
    "import threading\n",
    "import os\n",
    "import psutil\n",
    "import signal\n",
    "import sys\n",
    "\n",
    "\n",
    "def signal_handler(sig, frame):\n",
    "    import matplotlib.pyplot as plot\n",
    "    plot.plot(data)\n",
    "    plot.savefig(\"/home/fexed/ML/scripts/continual/plots/mem\" + str(PID) + \".png\")\n",
    "    sys.exit(0)\n",
    "\n",
    "\n",
    "def printit():\n",
    "    threading.Timer(1.0, printit).start()\n",
    "    try:\n",
    "        mem = process.memory_info()[0]/1024/1024\n",
    "        data.append(mem)\n",
    "        print(mem)\n",
    "    except FileNotFoundException:\n",
    "        print(\"Processo concluso\")\n",
    "\n",
    "\n",
    "data = []\n",
    "signal.signal(signal.SIGINT, signal_handler)\n",
    "PID = int(sys.argv[1])\n",
    "process = psutil.Process(PID)\n",
    "printit()"
   ]
  },
  {
   "cell_type": "markdown",
   "metadata": {},
   "source": [
    "Training offline"
   ]
  },
  {
   "attachments": {
    "memtotal.png": {
     "image/png": "[encoded data removed]"
    }
   },
   "cell_type": "markdown",
   "metadata": {},
   "source": [
    "![memtotal.png](attachment:memtotal.png)"
   ]
  },
  {
   "cell_type": "markdown",
   "metadata": {},
   "source": [
    "Continual training"
   ]
  },
  {
   "attachments": {
    "memcontinual.png": {
     "image/png": "[encoded data removed]"
    }
   },
   "cell_type": "markdown",
   "metadata": {},
   "source": [
    "![memcontinual.png](attachment:memcontinual.png)"
   ]
  },
  {
   "cell_type": "markdown",
   "metadata": {},
   "source": [
    "Cumulative training"
   ]
  },
  {
   "attachments": {
    "memsum.png": {
     "image/png": "[encoded data removed]"
    }
   },
   "cell_type": "markdown",
   "metadata": {},
   "source": [
    "![memsum.png](attachment:memsum.png)"
   ]
  },
  {
   "cell_type": "markdown",
   "metadata": {},
   "source": [
    "Replay training"
   ]
  },
  {
   "attachments": {
    "memreplay.png": {
     "image/png": "[encoded data removed]"
    }
   },
   "cell_type": "markdown",
   "metadata": {},
   "source": [
    "![memreplay.png](attachment:memreplay.png)"
   ]
  },
  {
   "cell_type": "markdown",
   "metadata": {},
   "source": [
    "Episodic training"
   ]
  },
  {
   "attachments": {
    "memepisodic.png": {
     "image/png": "[encoded data removed]"
    }
   },
   "cell_type": "markdown",
   "metadata": {},
   "source": [
    "![memepisodic.png](attachment:memepisodic.png)"
   ]
  },
  {
   "cell_type": "markdown",
   "metadata": {},
   "source": [
    "#### 10 Luglio 2021\n",
    "\n",
    "##### Elastic Weight Consolidation\n",
    "_As seen <a href=\"https://seanmoriarity.com/2020/10/18/continual-learning-with-ewc/\">here</a>_\n",
    "\n",
    "Ho implementato usando il codice specificato sopra e riadattandolo a WESAD (`ewc_train.py`). Ho anche richiesto l'accesso per il dataset ASCERTAIN, sperando rispondano entro pochi giorni (in caso contrario sentirò i relatori).\n",
    "\n",
    "Per EWC ho fatto sia un continual normale sia un episodic, domani scrivo anche il replay e testo. Lunedì passo a implementare l'altra strategia."
   ]
  },
  {
   "cell_type": "markdown",
   "metadata": {},
   "source": [
    "#### 11 Luglio 2021\n",
    "\n",
    "`EWC Continual\n",
    "Media tempo di addestramento: 978.14 s\n",
    "Accuracy: [0.675059974193573, 0.5671463012695312, 0.5575539469718933, 0.5503597259521484, 0.6954436302185059, 0.5923261642456055, 0.4040767252445221] %\n",
    "Media accuracy: 57.74 %\n",
    "Deviazione standard accuracy: 8.86 %\n",
    "ACC      0.4684\n",
    "BWT      -0.0473\n",
    "FWT      0.0531`\n",
    "\n",
    "`EWC Episodic\n",
    "Media tempo di addestramento: 1077.42 s\n",
    "Accuracy: [0.6187050342559814, 0.7002398371696472, 0.6055155992507935, 0.6294963955879211, 0.61031174659729, 0.7374100685119629, 0.6019184589385986] %\n",
    "Media accuracy: 64.34 %\n",
    "Deviazione standard accuracy: 4.95 %\n",
    "ACC      0.5994\n",
    "BWT      0.0476\n",
    "FWT      0.6155`\n",
    "\n",
    "`EWC Replay\n",
    "Media tempo di addestramento: 1252.83 s\n",
    "Accuracy: [0.6127098202705383, 0.6990407705307007, 0.5791366696357727, 0.5719424486160278, 0.5851318836212158, 0.5743405222892761, 0.4940047860145569] %\n",
    "Media accuracy: 58.8 %\n",
    "Deviazione standard accuracy: 5.65 %\n",
    "ACC      0.4811\n",
    "BWT      0.0012\n",
    "FWT      -0.1693`\n",
    "\n",
    "Un'altra run di replay da\n",
    "\n",
    "`Media tempo di addestramento: 1184.21 s\n",
    "Accuracy: [0.6270983219146729, 0.7817745804786682, 0.5755395889282227, 0.7314148545265198, 0.623501181602478, 0.5695443749427795, 0.564748227596283] %\n",
    "Media accuracy: 63.91 %\n",
    "Deviazione standard accuracy: 7.9 %\n",
    "ACC      0.6277\n",
    "BWT      0.0018\n",
    "FWT      0.1613`"
   ]
  },
  {
   "cell_type": "markdown",
   "metadata": {},
   "source": [
    "#### 12 Luglio 2021\n",
    "\n",
    "Seguendo il paper relativo, <a href=\"https://arxiv.org/pdf/1606.09282.pdf\">questo</a>, ho implementato LWF in una versione iniziale sicuramente problematica.\n",
    "\n",
    "`Media tempo di addestramento: 3724.16 s\n",
    "Accuracy: [0.6510791182518005, 0.5479616522789001, 0.5719424486160278, 0.6834532618522644, 0.44124701619148254, 0.633093535900116, 0.3033573031425476] %\n",
    "Media accuracy: 54.74 %\n",
    "Deviazione standard accuracy: 12.42 %\n",
    "ACC      0.581\n",
    "BWT      0.1284\n",
    "FWT      0.0131`"
   ]
  },
  {
   "cell_type": "markdown",
   "metadata": {},
   "source": [
    "#### 13 Luglio 2021\n",
    "\n",
    "Ho sistemato l'early stopping sia in LWF che in EWC\n",
    "\n",
    "`LWF\n",
    "Media numero epoche: 86.71\n",
    "Deviazione standard numero epoche: 21.61\n",
    "Media tempo di addestramento: 2976.62 s\n",
    "Accuracy: [0.6163069605827332, 0.5911270976066589, 0.5503597259521484, 0.6474820375442505, 0.5875299572944641, 0.6151078939437866, 0.29136690497398376] %\n",
    "Media accuracy: 55.7 %\n",
    "Deviazione standard accuracy: 11.200000000000001 %\n",
    "ACC      0.5585\n",
    "BWT      0.0722\n",
    "FWT      -0.1078`"
   ]
  },
  {
   "attachments": {
    "memlwf3339.png": {
     "image/png": "[encoded data removed]"
    }
   },
   "cell_type": "markdown",
   "metadata": {},
   "source": [
    "![memlwf3339.png](attachment:memlwf3339.png)"
   ]
  },
  {
   "cell_type": "markdown",
   "metadata": {},
   "source": [
    "`EWC\n",
    "Media numero epoche: 58.0\n",
    "Deviazione standard numero epoche: 43.38\n",
    "Media tempo di addestramento: 753.98 s\n",
    "Accuracy: [0.6870503425598145, 0.5983213186264038, 0.5107913613319397, 0.3800959289073944, 0.2781774699687958, 0.555155873298645, 0.5035971403121948] %\n",
    "Media accuracy: 50.19 %\n",
    "Deviazione standard accuracy: 12.61 %\n",
    "ACC      0.3646\n",
    "BWT      -0.195\n",
    "FWT      0.1902`"
   ]
  },
  {
   "attachments": {
    "memewc20236.png": {
     "image/png": "[encoded data removed]"
    }
   },
   "cell_type": "markdown",
   "metadata": {},
   "source": [
    "![memewc20236.png](attachment:memewc20236.png)"
   ]
  },
  {
   "cell_type": "markdown",
   "metadata": {},
   "source": [
    "Nel frattempo mi hanno autorizzato l'accesso al dataset ASCERTAIN e ho scaricato i dati. Domani provvederò a sistemarlo."
   ]
  },
  {
   "cell_type": "markdown",
   "metadata": {},
   "source": [
    "#### 14 Luglio 2021\n",
    "\n",
    "Ho preparato il dataset ASCERTAIN, con questo codice (`ascertain_data.py`) preso dal solito notebook di Disarli"
   ]
  },
  {
   "cell_type": "code",
   "execution_count": null,
   "metadata": {},
   "outputs": [],
   "source": [
    "import numpy as np\n",
    "import tensorflow as tf\n",
    "import scipy.io\n",
    "import scipy.signal\n",
    "import pickle\n",
    "\n",
    "ds_ECG, ds_EEG, ds_GSR = {}, {}, {}\n",
    "arousal, valence = [], []\n",
    "#Removing subjects with missing data\n",
    "excluded_subjects = [44, 52]\n",
    "#Excluding subjects data with poor accuracy & many nan values\n",
    "\n",
    "print(\"Loading subjects...\", end=\" \")\n",
    "for i in range(37, 57):\n",
    "    if(i not in excluded_subjects):\n",
    "        clips_ECG = {}\n",
    "        for j in range(1, 37):\n",
    "            clips_ECG[('n_' + str(j))] = scipy.io.loadmat('/home/fexed/ML/datasets/ASCERTAIN/ECGData/Movie_P' + str(i) + '/ECG_Clip' + str(j))['Data_ECG'][:,1:]\n",
    "        ds_ECG[('S' + str(i))] = clips_ECG\n",
    "        arousal.append(scipy.io.loadmat('/home/fexed/ML/datasets/ASCERTAIN/Dt_SelfReports.mat')['Ratings'][0][i])\n",
    "        valence.append(scipy.io.loadmat('/home/fexed/ML/datasets/ASCERTAIN/Dt_SelfReports.mat')['Ratings'][1][i])\n",
    "        clips_EEG = {}\n",
    "        for j in range(1, 37):\n",
    "            clips_EEG[('n_' + str(j))] = np.transpose(scipy.io.loadmat('/home/fexed/ML/datasets/ASCERTAIN/EEGData/Movie_P' + str(i) + '/EEG_Clip' + str(j))['ThisEEG'][:,1:])\n",
    "        ds_EEG[('S' + str(i))] = clips_EEG\n",
    "        clips_GSR = {}\n",
    "        for j in range(1, 37):\n",
    "            clips_GSR[('n_' + str(j))] = scipy.io.loadmat('/home/fexed/ML/datasets/ASCERTAIN/GSRData/Movie_P' + str(i) + '/GSR_Clip' + str(j))['Data_GSR'][:,1:]\n",
    "        ds_GSR[('S' + str(i))] = clips_GSR\n",
    "print(\"done\")\n",
    "\n",
    "#4 classes:\n",
    "#0 = arousal > 3 & valence > 0\n",
    "#1 = arousal > 3 & valence <= 0\n",
    "#2 = arousal <= 3 & valence > 0\n",
    "#3 = arousal <= 3 & valence <= 0\n",
    "print(\"Loading targets...\", end=\" \")\n",
    "Y = []\n",
    "for i in range(0, len(arousal)):\n",
    "    for j in range(0, len(arousal[i])):\n",
    "        if(arousal[i][j] > 3):\n",
    "            if(valence[i][j]> 0):\n",
    "                Y.append(0)\n",
    "            elif(valence[i][j] <= 0):\n",
    "                Y.append(1)\n",
    "        elif(arousal[i][j] <= 3):\n",
    "            if(valence[i][j] > 0):\n",
    "                Y.append(2)\n",
    "            elif(valence[i][j] <= 0):\n",
    "                Y.append(3)\n",
    "print(\"done\")\n",
    "\n",
    "print(\"Removing NaNs...\", end=\" \")\n",
    "#Removing rows containing nan values\n",
    "for s in ds_ECG.keys():\n",
    "    for clip in ds_ECG[s].keys():\n",
    "        ds_ECG[s][clip] = ds_ECG[s][clip][~np.isnan(ds_ECG[s][clip]).any(axis = 1)]\n",
    "        ds_EEG[s][clip] = ds_EEG[s][clip][~np.isnan(ds_EEG[s][clip]).any(axis = 1)]\n",
    "        ds_GSR[s][clip] = ds_GSR[s][clip][~np.isnan(ds_GSR[s][clip]).any(axis = 1)]\n",
    "print(\"done\")\n",
    "\n",
    "print(\"Resampling...\", end=\" \")\n",
    "#Resampling data to lower freq, 32 Hz\n",
    "for s in ds_ECG.keys():\n",
    "    for clip in ds_ECG[s].keys():\n",
    "        ds_ECG[s][clip] = scipy.signal.resample(ds_ECG[s][clip], len(ds_EEG[s][clip]))\n",
    "        ds_GSR[s][clip]= scipy.signal.resample(ds_GSR[s][clip], len(ds_EEG[s][clip]))\n",
    "print(\"done\")\n",
    "\n",
    "#Merging features\n",
    "ds = {}\n",
    "i = 0\n",
    "for s in ds_ECG.keys():\n",
    "    clips = {}\n",
    "    j = 0\n",
    "    for clip in ds_ECG[s].keys():\n",
    "        clips['Clip' + str(j)] = np.concatenate([\n",
    "        ds_ECG[s][clip],\n",
    "        ds_EEG[s][clip],\n",
    "        ds_GSR[s][clip],\n",
    "        ], axis = 1)\n",
    "        j += 1\n",
    "    ds['S' + str(i)] = clips\n",
    "    i += 1\n",
    "Y = (np.array(Y, dtype = np.float32)).reshape(-1, 36)\n",
    "\n",
    "#Creating X and Y list of subsequences, length = 100 (3 seconds)\n",
    "SubsequencesX, SubsequencesY = [], []\n",
    "#Avoiding sampling bias\n",
    "count_0, count_1, count_2, count_3 = 0, 0, 0, 0\n",
    "i = 0\n",
    "for s in ds.keys():\n",
    "    j = 0\n",
    "    for clip in ds[s].keys():\n",
    "        if(((Y[i][j] == 0) & (count_0 < 84)) or ((Y[i][j] == 1) & (count_1 < 84)) or ((Y[i][j] == 2) & (count_2 < 84)) or ((Y[i][j] == 3) & (count_3 < 84))):\n",
    "           length = len(ds[s][clip])\n",
    "           k = 0\n",
    "           while (length - (100*(k+1))) > 0:\n",
    "               SubsequencesX.append(ds[s][clip][length-(100*(k+1)):length-(100*k),:])\n",
    "               if (Y[i][j] == 0):\n",
    "                    SubsequencesY.append(0)\n",
    "               elif (Y[i][j] == 1):\n",
    "                    count_1 += 1\n",
    "                    SubsequencesY.append(1)\n",
    "               elif (Y[i][j] == 2):\n",
    "                    count_2 += 1\n",
    "                    SubsequencesY.append(2)\n",
    "               elif (Y[i][j] == 3):\n",
    "                    count_3 += 1\n",
    "                    SubsequencesY.append(3)\n",
    "               k += 1\n",
    "        j += 1\n",
    "    Xs = (np.array(SubsequencesX, dtype = np.float64)).reshape(-1, 100, 17)\n",
    "    ys = tf.keras.utils.to_categorical(np.array(SubsequencesY, dtype = np.float32), num_classes = 4)\n",
    "    print(\"Shape of X\" + s + \":\", Xs.shape)\n",
    "    print(\"Shape of y\" + s + \":\", ys.shape)\n",
    "\n",
    "    with open(\"/home/fexed/ML/datasets/ASCERTAIN/splitted/X\" + s + \".pkl\", 'wb') as handle:\n",
    "        pickle.dump(Xs, handle, protocol=pickle.HIGHEST_PROTOCOL)\n",
    "    with open(\"/home/fexed/ML/datasets/ASCERTAIN/splitted/y\" + s + \".pkl\", 'wb') as handle:\n",
    "        pickle.dump(ys, handle, protocol=pickle.HIGHEST_PROTOCOL)\n",
    "    SubsequencesX, SubsequencesY = [], []\n",
    "    i += 1"
   ]
  },
  {
   "cell_type": "markdown",
   "metadata": {},
   "source": [
    "Un primo test col training offline dà:\n",
    "\n",
    "`Media numero epoche: 13.0\n",
    "Media tempo di addestramento: 226.05 s\n",
    "Media accuracy: 100.0 %`"
   ]
  },
  {
   "attachments": {
    "memascertaintotal9549.png": {
     "image/png": "[encoded data removed]"
    }
   },
   "cell_type": "markdown",
   "metadata": {},
   "source": [
    "![memascertaintotal9549.png](attachment:memascertaintotal9549.png)"
   ]
  },
  {
   "cell_type": "markdown",
   "metadata": {},
   "source": [
    "Mi sono reso conto di un errore nella preparazione del dataset: prendeva solo elementi della prima classe (ecco perché accuratezza del 100%). Codice aggiornato:"
   ]
  },
  {
   "cell_type": "code",
   "execution_count": null,
   "metadata": {},
   "outputs": [],
   "source": [
    "import numpy as np\n",
    "import tensorflow as tf\n",
    "import scipy.io\n",
    "import scipy.signal\n",
    "import pickle\n",
    "\n",
    "ds_ECG, ds_EEG, ds_GSR = {}, {}, {}\n",
    "arousal, valence = [], []\n",
    "#Removing subjects with missing data\n",
    "excluded_subjects = [44, 52]\n",
    "#Excluding subjects data with poor accuracy & many nan values\n",
    "\n",
    "print(\"Loading subjects...\", end=\" \")\n",
    "for i in range(37, 57):\n",
    "    if(i not in excluded_subjects):\n",
    "        clips_ECG = {}\n",
    "        for j in range(1, 37):\n",
    "            clips_ECG[('n_' + str(j))] = scipy.io.loadmat('/home/fexed/ML/datasets/ASCERTAIN/ECGData/Movie_P' + str(i) + '/ECG_Clip' + str(j))['Data_ECG'][:,1:]\n",
    "        ds_ECG[('S' + str(i))] = clips_ECG\n",
    "        arousal.append(scipy.io.loadmat('/home/fexed/ML/datasets/ASCERTAIN/Dt_SelfReports.mat')['Ratings'][0][i])\n",
    "        valence.append(scipy.io.loadmat('/home/fexed/ML/datasets/ASCERTAIN/Dt_SelfReports.mat')['Ratings'][1][i])\n",
    "        clips_EEG = {}\n",
    "        for j in range(1, 37):\n",
    "            clips_EEG[('n_' + str(j))] = np.transpose(scipy.io.loadmat('/home/fexed/ML/datasets/ASCERTAIN/EEGData/Movie_P' + str(i) + '/EEG_Clip' + str(j))['ThisEEG'][:,1:])\n",
    "        ds_EEG[('S' + str(i))] = clips_EEG\n",
    "        clips_GSR = {}\n",
    "        for j in range(1, 37):\n",
    "            clips_GSR[('n_' + str(j))] = scipy.io.loadmat('/home/fexed/ML/datasets/ASCERTAIN/GSRData/Movie_P' + str(i) + '/GSR_Clip' + str(j))['Data_GSR'][:,1:]\n",
    "        ds_GSR[('S' + str(i))] = clips_GSR\n",
    "print(\"done\")\n",
    "\n",
    "#4 classes:\n",
    "#0 = arousal > 3 & valence > 0\n",
    "#1 = arousal > 3 & valence <= 0\n",
    "#2 = arousal <= 3 & valence > 0\n",
    "#3 = arousal <= 3 & valence <= 0\n",
    "print(\"Loading targets...\", end=\" \")\n",
    "Y = []\n",
    "for i in range(0, len(arousal)):\n",
    "    for j in range(0, len(arousal[i])):\n",
    "        if(arousal[i][j] > 3):\n",
    "            if(valence[i][j]> 0):\n",
    "                Y.append(0)\n",
    "            elif(valence[i][j] <= 0):\n",
    "                Y.append(1)\n",
    "        elif(arousal[i][j] <= 3):\n",
    "            if(valence[i][j] > 0):\n",
    "                Y.append(2)\n",
    "            elif(valence[i][j] <= 0):\n",
    "                Y.append(3)\n",
    "print(\"done\")\n",
    "\n",
    "print(\"Removing NaNs...\", end=\" \")\n",
    "#Removing rows containing nan values\n",
    "for s in ds_ECG.keys():\n",
    "    for clip in ds_ECG[s].keys():\n",
    "        ds_ECG[s][clip] = ds_ECG[s][clip][~np.isnan(ds_ECG[s][clip]).any(axis = 1)]\n",
    "        ds_EEG[s][clip] = ds_EEG[s][clip][~np.isnan(ds_EEG[s][clip]).any(axis = 1)]\n",
    "        ds_GSR[s][clip] = ds_GSR[s][clip][~np.isnan(ds_GSR[s][clip]).any(axis = 1)]\n",
    "print(\"done\")\n",
    "\n",
    "print(\"Resampling...\", end=\" \")\n",
    "#Resampling data to lower freq, 32 Hz\n",
    "for s in ds_ECG.keys():\n",
    "    for clip in ds_ECG[s].keys():\n",
    "        ds_ECG[s][clip] = scipy.signal.resample(ds_ECG[s][clip], len(ds_EEG[s][clip]))\n",
    "        ds_GSR[s][clip]= scipy.signal.resample(ds_GSR[s][clip], len(ds_EEG[s][clip]))\n",
    "print(\"done\")\n",
    "\n",
    "#Merging features\n",
    "ds = {}\n",
    "i = 0\n",
    "for s in ds_ECG.keys():\n",
    "    clips = {}\n",
    "    j = 0\n",
    "    for clip in ds_ECG[s].keys():\n",
    "        clips['Clip' + str(j)] = np.concatenate([\n",
    "        ds_ECG[s][clip],\n",
    "        ds_EEG[s][clip],\n",
    "        ds_GSR[s][clip],\n",
    "        ], axis = 1)\n",
    "        j += 1\n",
    "    ds['S' + str(i)] = clips\n",
    "    i += 1\n",
    "Y = (np.array(Y, dtype = np.float32)).reshape(-1, 36)\n",
    "\n",
    "#Creating X and Y list of subsequences, length = 100 (3 seconds)\n",
    "SubsequencesX, SubsequencesY = [], []\n",
    "#Avoiding sampling bias\n",
    "count_0, count_1, count_2, count_3 = 0, 0, 0, 0\n",
    "i = 0\n",
    "for s in ds.keys():\n",
    "    j = 0\n",
    "    for clip in ds[s].keys():\n",
    "        #if(((Y[i][j] == 0) & (count_0 < 84)) or ((Y[i][j] == 1) & (count_1 < 84)) or ((Y[i][j] == 2) & (count_2 < 84)) or ((Y[i][j] == 3) & (count_3 < 84))):\n",
    "       length = len(ds[s][clip])\n",
    "       k = 0\n",
    "       while (length - (100*(k+1))) > 0:\n",
    "           SubsequencesX.append(ds[s][clip][length-(100*(k+1)):length-(100*k),:])\n",
    "           if (Y[i][j] == 0):\n",
    "                SubsequencesY.append(0)\n",
    "           elif (Y[i][j] == 1):\n",
    "                count_1 += 1\n",
    "                SubsequencesY.append(1)\n",
    "           elif (Y[i][j] == 2):\n",
    "                count_2 += 1\n",
    "                SubsequencesY.append(2)\n",
    "           elif (Y[i][j] == 3):\n",
    "                count_3 += 1\n",
    "                SubsequencesY.append(3)\n",
    "           k += 1\n",
    "           print(Y[i][j])\n",
    "       j += 1\n",
    "    i += 1\n",
    "    Xs = (np.array(SubsequencesX, dtype = np.float64)).reshape(-1, 100, 17)\n",
    "    ys = tf.keras.utils.to_categorical(np.array(SubsequencesY, dtype = np.float32), num_classes = 4)\n",
    "    print(\"Shape of X\" + s + \":\", Xs.shape)\n",
    "    print(\"Shape of y\" + s + \":\", ys.shape)\n",
    "\n",
    "    with open(\"/home/fexed/ML/datasets/ASCERTAIN/splitted/X\" + s + \".pkl\", 'wb') as handle:\n",
    "        pickle.dump(Xs, handle, protocol=pickle.HIGHEST_PROTOCOL)\n",
    "    with open(\"/home/fexed/ML/datasets/ASCERTAIN/splitted/y\" + s + \".pkl\", 'wb') as handle:\n",
    "        pickle.dump(ys, handle, protocol=pickle.HIGHEST_PROTOCOL)\n",
    "    SubsequencesX, SubsequencesY = [], []\n"
   ]
  },
  {
   "cell_type": "markdown",
   "metadata": {},
   "source": [
    "Rilancio il training offline, provando che un GRU da 30 non è sufficiente\n",
    "\n",
    "`Media numero epoche: 10.0\n",
    "Media tempo di addestramento: 560.08 s\n",
    "Media accuracy: 34.760000000000005 %`"
   ]
  },
  {
   "attachments": {
    "memascertaintotal11226.png": {
     "image/png": "[encoded data removed]"
    }
   },
   "cell_type": "markdown",
   "metadata": {},
   "source": [
    "![memascertaintotal11226.png](attachment:memascertaintotal11226.png)"
   ]
  },
  {
   "cell_type": "markdown",
   "metadata": {},
   "source": [
    "Dimostrato anche dal continual\n",
    "\n",
    "`Media numero epoche: 19.25\n",
    "Deviazione standard numero epoche: 8.41\n",
    "Media tempo di addestramento: 745.77 s\n",
    "Accuracy: [0.31960150599479675, 0.281637042760849, 0.37049004435539246, 0.2522886395454407, 0.27948305010795593, 0.4224555790424347, 0.4208400547504425, 0.41707053780555725] %\n",
    "Media accuracy: 34.55 %\n",
    "Deviazione standard accuracy: 6.63 %\n",
    "ACC      0.2215\n",
    "BWT      0.1222\n",
    "FWT      0.0008`"
   ]
  },
  {
   "attachments": {
    "memascertaincontinual14156.png": {
     "image/png": "[encoded data removed]"
    }
   },
   "cell_type": "markdown",
   "metadata": {},
   "source": [
    "![memascertaincontinual14156.png](attachment:memascertaincontinual14156.png)"
   ]
  },
  {
   "cell_type": "markdown",
   "metadata": {},
   "source": [
    "Provo la ricerca"
   ]
  },
  {
   "cell_type": "markdown",
   "metadata": {},
   "source": [
    "#### 15 Luglio 2021\n",
    "\n",
    "Dopo aver fatto una ricerca praticamente infruttuosa, ho lanciato il training offline ASCERTAIN con due layer GRU da 16 unità, come indicato da Disarli. Risultati pessimi (`2694`):\n",
    "\n",
    "`Media numero epoche: 42.0\n",
    "Media tempo di addestramento: 2286.64 s\n",
    "Media accuracy: 29.24 %`"
   ]
  },
  {
   "attachments": {
    "memascertaintotal2694.png": {
     "image/png": "[encoded data removed]"
    }
   },
   "cell_type": "markdown",
   "metadata": {},
   "source": [
    "![memascertaintotal2694.png](attachment:memascertaintotal2694.png)"
   ]
  },
  {
   "cell_type": "markdown",
   "metadata": {},
   "source": [
    "Provo un layer da 24 di nuovo, per ora da i risultati migliori (`14353`):\n",
    "\n",
    "`Media numero epoche: 4.0\n",
    "Media tempo di addestramento: 420.74 s\n",
    "Media accuracy: 31.5 %`"
   ]
  },
  {
   "attachments": {
    "memascertaintotal14353.png": {
     "image/png": "[encoded data removed]"
    }
   },
   "cell_type": "markdown",
   "metadata": {},
   "source": [
    "![memascertaintotal14353.png](attachment:memascertaintotal14353.png)"
   ]
  },
  {
   "cell_type": "markdown",
   "metadata": {},
   "source": [
    "#### 16 Luglio 2021\n",
    "\n",
    "Mi sono accorto di non aver standardizzato i dati ASCERTAIN, ho provveduto e rilanciato il training offline ma non sembra ottenere risultati molto migliori (GRU) (`ascertaintotal_1l_24u 30173`)\n",
    "\n",
    "`Media numero epoche: 6.0\n",
    "Media tempo di addestramento: 453.91 s\n",
    "Media accuracy: 32.77 %`\n",
    "\n",
    "Mentre con `ascertaintotal_2l_16u 32562`, sempre GRU\n",
    "\n",
    "`Media numero epoche: 7.0\n",
    "Media tempo di addestramento: 808.72 s\n",
    "Media accuracy: 34.25 %`\n",
    "\n",
    "Provo a vedere con sequenze da 160 com'era originalmente (`ascertaintotal_2l_16u 4325`, GRU)\n",
    "\n",
    "`Media numero epoche: 8.0\n",
    "Media tempo di addestramento: 757.13 s\n",
    "Media accuracy: 35.88 %`\n",
    "\n",
    "Mentre con un layer GRU da 24 (`ascertaintotal_1l_24u 8241`)\n",
    "\n",
    "`Media numero epoche: 6.0\n",
    "Media tempo di addestramento: 379.81 s\n",
    "Media accuracy: 33.46 %`\n",
    "\n",
    "Due layer GRU da 24 (`ascertaintotal_2l_24u 10259`)\n",
    "\n",
    "`Media numero epoche: 4.0\n",
    "Media tempo di addestramento: 619.61 s\n",
    "Media accuracy: 39.37 %`\n",
    "\n",
    "Provo il seguente modello (`ascertaintotal_lstm_1l_20u 13873`)"
   ]
  },
  {
   "cell_type": "code",
   "execution_count": null,
   "metadata": {},
   "outputs": [],
   "source": [
    "model = tf.keras.models.Sequential()\n",
    "model.add(tf.keras.layers.LSTM(20, input_shape=(160, 17)))\n",
    "model.add(tf.keras.layers.Dense(4, activation = 'softmax',\n",
    "                  kernel_regularizer = tf.keras.regularizers.l1_l2(l1 = 1e-6, l2 = 1e-6),\n",
    "                  bias_regularizer = tf.keras.regularizers.l1_l2(l1 = 1e-6, l2 = 1e-6),\n",
    "                  activity_regularizer = tf.keras.regularizers.l1_l2(l1 = 1e-6, l2 = 1e-6)))\n",
    "opt = tf.keras.optimizers.Adam(learning_rate = 0.005, beta_1 = 0.99, beta_2 = 0.98)\n",
    "model.compile(loss = 'categorical_crossentropy', optimizer = opt, metrics = ['accuracy'])"
   ]
  },
  {
   "cell_type": "markdown",
   "metadata": {},
   "source": [
    "`Media numero epoche: 12.0\n",
    "Media tempo di addestramento: 515.02 s\n",
    "Media accuracy: 35.96 %`\n",
    "\n",
    "Mentre con 5 layer LSTM da 8 unità (`ascertaintotal_lstm_5l_8u 18722`)"
   ]
  },
  {
   "cell_type": "code",
   "execution_count": null,
   "metadata": {},
   "outputs": [],
   "source": [
    "model = tf.keras.models.Sequential()\n",
    "model.add(tf.keras.layers.LSTM(8, return_sequences=True, input_shape=(160, 17)))\n",
    "model.add(tf.keras.layers.LSTM(8, return_sequences=True))\n",
    "model.add(tf.keras.layers.LSTM(8, return_sequences=True))\n",
    "model.add(tf.keras.layers.LSTM(8, return_sequences=True))\n",
    "model.add(tf.keras.layers.LSTM(8,))\n",
    "model.add(tf.keras.layers.Dense(4, activation = 'softmax',\n",
    "                  kernel_regularizer = tf.keras.regularizers.l1_l2(l1 = 1e-5, l2 = 1e-5),\n",
    "                  bias_regularizer = tf.keras.regularizers.l1_l2(l1 = 1e-6, l2 = 1e-6),\n",
    "                  activity_regularizer = tf.keras.regularizers.l1_l2(l1 = 1e-6, l2 = 1e-6)))\n",
    "opt = tf.keras.optimizers.Adam(learning_rate = 0.001, beta_1 = 0.9, beta_2 = 0.999)\n",
    "model.compile(loss = 'categorical_crossentropy', optimizer = opt, metrics = ['accuracy'])"
   ]
  },
  {
   "cell_type": "markdown",
   "metadata": {},
   "source": [
    "#### 17 Luglio 2021\n",
    "\n",
    "Ieri sera c'è stato un blackout quindi non ha concluso il training, iniziato alle 17, dell'ultimo modello. Ho deciso che ora riprovo con il seguente modello single layer scelto da Disarli (`ascertaintotal_gru_2l_16u 987`):"
   ]
  },
  {
   "cell_type": "code",
   "execution_count": null,
   "metadata": {},
   "outputs": [],
   "source": [
    "model = tf.keras.models.Sequential()\n",
    "model.add(tf.keras.layers.GRU(16, return_sequences=True, input_shape=(160, 17)))\n",
    "model.add(tf.keras.layers.GRU(16))\n",
    "model.add(tf.keras.layers.Dense(4, activation = 'softmax',\n",
    "                  kernel_regularizer = tf.keras.regularizers.l1_l2(l1 = 1e-5, l2 = 1e-5),\n",
    "                  bias_regularizer = tf.keras.regularizers.l1_l2(l1 = 1e-4, l2 = 1e-4),\n",
    "                  activity_regularizer = tf.keras.regularizers.l1_l2(l1 = 1e-6, l2 = 1e-6)))\n",
    "opt = tf.keras.optimizers.Adam(learning_rate = 0.01, beta_1 = 0.95, beta_2 = 0.999)\n",
    "model.compile(loss = 'categorical_crossentropy', optimizer = opt, metrics = ['accuracy'])"
   ]
  },
  {
   "cell_type": "markdown",
   "metadata": {},
   "source": [
    "`Media numero epoche: 10.0\n",
    "Media tempo di addestramento: 884.81 s\n",
    "Media accuracy: 32.30 %`\n",
    "\n",
    "Mentre riprovando il singolo layer LSTM da 20 indicato sopra (`ascertaintotal_lstm_1l_20u 5575`):\n",
    "\n",
    "`Media numero epoche: 7.0\n",
    "Media tempo di addestramento: 392.29 s\n",
    "Media accuracy: 35.58 %`\n",
    "\n",
    "Un layer LSTM da 30 (`ascertaintotal_lstm_1l_30u 7657`):\n",
    "\n",
    "`Media numero epoche: 4.0\n",
    "Media tempo di addestramento: 327.46 s\n",
    "Media accuracy: 35.32 %`\n",
    "\n",
    "Un LSTM da 40 (`ascertaintotal_lstm_1l_40u 9399`):\n",
    "\n",
    "`Media numero epoche: 4.0\n",
    "Media tempo di addestramento: 371.11 s\n",
    "Media accuracy: 34.54 %`\n",
    "\n",
    "Un LSTM da 35 (`ascertaintotal_lstm_1l_35u 11361`):\n",
    "\n",
    "`Media numero epoche: 6.0\n",
    "Media tempo di addestramento: 432.97 s\n",
    "Media accuracy: 36.09 %`\n",
    "\n",
    "`ascertaintotal_lstm_1l_38u 13634`:\n",
    "\n",
    "`Media numero epoche: 5.0\n",
    "Media tempo di addestramento: 391.12 s\n",
    "Media accuracy: 35.32 %`"
   ]
  },
  {
   "attachments": {
    "ascertain_GRU.png": {
     "image/png": "[encoded data removed]"
    },
    "ascertain_LSTM.png": {
     "image/png": "[encoded data removed]"
    }
   },
   "cell_type": "markdown",
   "metadata": {},
   "source": [
    "![ascertain_GRU.png](attachment:ascertain_GRU.png)![ascertain_LSTM.png](attachment:ascertain_LSTM.png)"
   ]
  },
  {
   "cell_type": "markdown",
   "metadata": {},
   "source": [
    "Ho quindi fatto l'autotest con GRU 2l 24u\n",
    "\n",
    "`TOTAL TRAINING\n",
    "Model... created\n",
    "Dataset... loaded and splitted\n",
    "Training in progress... and done\n",
    "Numero epoche: 14.0\n",
    "Media tempo di addestramento: 983.9 s\n",
    "Accuracy: 35.27 %\n",
    "Total model... saved`\n",
    "\n",
    "`CONTINUAL TRAINING\n",
    "Model... created\n",
    "Training        started\n",
    "Training        ended\n",
    "Media numero epoche: 6.25\n",
    "Deviazione standard numero epoche: 2.05\n",
    "Media tempo di addestramento: 657.52 s\n",
    "Accuracy: [0.2889176309108734, 0.29064252972602844, 0.35618799924850464, 0.3048727810382843, 0.35834410786628723, 0.4200086295604706, 0.38852953910827637, 0.3859422206878662] %\n",
    "Media accuracy: 34.92 %\n",
    "Deviazione standard accuracy: 4.62 %\n",
    "ACC      0.2001\n",
    "BWT      0.0042\n",
    "FWT      -0.0044\n",
    "Continual model... saved`\n",
    "\n",
    "`CUMULATIVE TRAINING\n",
    "Model... created\n",
    "Training        started\n",
    "Training        ended\n",
    "Media numero epoche: 7.0\n",
    "Deviazione standard numero epoche: 6.65\n",
    "Media tempo di addestramento: 3163.95 s\n",
    "Accuracy: [0.28331178426742554, 0.2902112901210785, 0.2988356947898865, 0.2712376117706299, 0.2889176309108734, 0.3247089385986328, 0.3436826169490814, 0.3742992579936981] %\n",
    "Media accuracy: 30.94 %\n",
    "Deviazione standard accuracy: 3.29 %\n",
    "ACC      0.2001\n",
    "BWT      0.0019\n",
    "FWT      -0.0222\n",
    "Cumulative model... saved`"
   ]
  },
  {
   "cell_type": "markdown",
   "metadata": {},
   "source": [
    "#### 19 Luglio 2021\n",
    "\n",
    "Voglio concludere l'autotest su ASCERTAIN, quindi ora lo rilancio ma facendolo direttamente partire dal replay training\n",
    "\n",
    "`25% REPLAY TRAINING\n",
    "Model... created\n",
    "Training        started\n",
    "Training        ended\n",
    "Media numero epoche: 5.25\n",
    "Deviazione standard numero epoche: 2.86\n",
    "Media tempo di addestramento: 1001.82 s\n",
    "Accuracy: [0.3005605936050415, 0.29150494933128357, 0.3363518714904785, 0.3091849982738495, 0.3574816584587097, 0.4156964123249054, 0.39068564772605896, 0.34842604398727417] %\n",
    "Media accuracy: 34.37 %\n",
    "Deviazione standard accuracy: 4.1000000000000005 %\n",
    "ACC      0.249\n",
    "BWT      0.0067\n",
    "FWT      -0.0202`\n",
    "\n",
    "`EPISODIC TRAINING\n",
    "Media numero epoche: 6.5\n",
    "Deviazione standard numero epoche: 2.78\n",
    "Media tempo di addestramento: 916.44 s\n",
    "Accuracy: [0.2923673987388611, 0.28719276189804077, 0.29581716656684875, 0.31263476610183716, 0.3290211260318756, 0.41483399271965027, 0.4122466444969177, 0.34023284912109375] %\n",
    "Media accuracy: 33.550000000000004 %\n",
    "Deviazione standard accuracy: 4.81 %\n",
    "ACC      0.2098\n",
    "BWT      -0.0311\n",
    "FWT      0.0301`\n",
    "\n",
    "`ascertain_lwf_gru_2l_24u 1373`\n",
    "\n",
    "`Media numero epoche: 13.5\n",
    "Deviazione standard numero epoche: 1.41\n",
    "Media tempo di addestramento: 2217.32 s\n",
    "Accuracy: [0.2880551815032959, 0.3061664402484894, 0.35618799924850464, 0.30659767985343933, 0.3501509130001068, 0.39801639318466187, 0.3863734304904938, 0.390254408121109] %\n",
    "Media accuracy: 34.77 %\n",
    "Deviazione standard accuracy: 4.01 %\n",
    "ACC      0.2077\n",
    "BWT      0.0278\n",
    "FWT      -0.0316`"
   ]
  },
  {
   "attachments": {
    "memascertain_lwf_gru_2l_24u1373.png": {
     "image/png": "[encoded data removed]"
    }
   },
   "cell_type": "markdown",
   "metadata": {},
   "source": [
    "![memascertain_lwf_gru_2l_24u1373.png](attachment:memascertain_lwf_gru_2l_24u1373.png)"
   ]
  },
  {
   "cell_type": "markdown",
   "metadata": {},
   "source": [
    "`ascertain_ewc_gru_2l_24u 13909`\n",
    "\n",
    "`Media numero epoche: 28.88\n",
    "Deviazione standard numero epoche: 14.72\n",
    "Media tempo di addestramento: 3370.28 s\n",
    "Accuracy: [0.299698144197464, 0.30099180340766907, 0.3605002164840698, 0.31090986728668213, 0.3311772346496582, 0.41310909390449524, 0.3859422206878662, 0.373436838388443] %\n",
    "Media accuracy: 34.699999999999996 %\n",
    "Deviazione standard accuracy: 3.9800000000000004 %\n",
    "ACC      0.2327\n",
    "BWT      0.0473\n",
    "FWT      -0.0206`"
   ]
  },
  {
   "attachments": {
    "memascertain_ewc_gru_2l_24u13909.png": {
     "image/png": "[encoded data removed]"
    }
   },
   "cell_type": "markdown",
   "metadata": {},
   "source": [
    "![memascertain_ewc_gru_2l_24u13909.png](attachment:memascertain_ewc_gru_2l_24u13909.png)"
   ]
  },
  {
   "cell_type": "markdown",
   "metadata": {},
   "source": [
    "#### 20 Luglio 2021\n",
    "\n",
    "Ho addestrato il modello generativo per ASCERTAIN, con il solito modello di WESAD (riadattato ovviamente):"
   ]
  },
  {
   "cell_type": "code",
   "execution_count": null,
   "metadata": {},
   "outputs": [],
   "source": [
    "model = tf.keras.models.Sequential()\n",
    "model.add(tf.keras.layers.Dense(30))\n",
    "model.add(tf.keras.layers.Dense(17,\n",
    "                  kernel_regularizer = tf.keras.regularizers.l1_l2(l1 = 1e-6, l2 = 1e-6),\n",
    "                  bias_regularizer = tf.keras.regularizers.l1_l2(l1 = 1e-4, l2 = 1e-4),\n",
    "                  activity_regularizer = tf.keras.regularizers.l1_l2(l1 = 1e-4, l2 = 1e-4)))\n",
    "opt = tf.keras.optimizers.Adam(learning_rate = 0.005, beta_1 = 0.85, beta_2 = 0.999)\n",
    "model.compile(loss = 'mse', optimizer = opt)"
   ]
  },
  {
   "cell_type": "markdown",
   "metadata": {},
   "source": [
    "e testandolo su un episodicGRU ha un'accuratezza del 25%, praticamente tira a caso.\n",
    "\n",
    "Non volendo fare test a caso, ho raccolto __tutti__ i dati e compilato un <a href=\"https://docs.google.com/spreadsheets/d/1R-9iHnZLY-RvmS832B8gsKtio-NnxwZhSks13LAc408/edit#gid=919304856\">foglio di calcolo</a>"
   ]
  },
  {
   "cell_type": "markdown",
   "metadata": {},
   "source": [
    "#### 21 Luglio 2021\n",
    "\n",
    "Inizio a fare gli esperimenti mancanti o di cui non ho tutte le misurazioni."
   ]
  },
  {
   "cell_type": "markdown",
   "metadata": {},
   "source": [
    "#### 22 Luglio 2021\n",
    "\n",
    "Come ieri ma oggi tocca ad ASCERTAIN"
   ]
  },
  {
   "cell_type": "markdown",
   "metadata": {},
   "source": [
    "#### 23 Luglio 2021\n",
    "\n",
    "Finisco gli ultimi due training di ASCERTAIN, aggiorno l'Overleaf e parto con un layer LSTM da 30 per WESAD"
   ]
  },
  {
   "cell_type": "markdown",
   "metadata": {},
   "source": [
    "#### 24 Luglio 2021\n",
    "\n",
    "Finisco l'LWF per il layer LSTM da 30 per WESAD e inizio a cercare un modello LSTM per ASCERTAIN"
   ]
  },
  {
   "cell_type": "markdown",
   "metadata": {},
   "source": [
    "#### 25 Luglio 2021\n",
    "\n",
    "Continuo la ricerca di un modello LSTM performante per ASCERTAIN. Mi attesto su un layer LSTM da 35 e inizio i vari esperimenti"
   ]
  },
  {
   "cell_type": "markdown",
   "metadata": {},
   "source": [
    "#### 26 Luglio 2021\n",
    "\n",
    "Ultimi esperimenti con LSTM da 35 per ASCERTAIN"
   ]
  },
  {
   "cell_type": "markdown",
   "metadata": {},
   "source": [
    "#### 28 Luglio 2021\n",
    "##### Call w/ Lomonaco\n",
    "\n",
    "- sistemare accuratezze\n",
    "- partire con codice pari pari di Di Sarli\n",
    "- ridimensionare dataset per vedere se migliora accuratezza\n",
    "- verificare distribuzione classi\n",
    "- verificare riproducibilità codice e pulirlo, commentare e tutto\n",
    "- tesi latex dropbox/overleaf\n",
    "\n",
    "Sono partito da WESAD, testando con l'attuale dataset e poi rifacendo sul dataset più snello con risultati simili o peggiori (ma io testo su S17). Ho avviato una `total_search`, dando come risultato `Best: 0.943820 using {'units': 29, 'layers': 3, 'kernel_regularizer': 1e-05, 'bias_regularizer': 1e-05, 'activity_regularizer': 0.0001}`\n",
    "\n",
    "Ho quindi modificato il modello"
   ]
  },
  {
   "cell_type": "code",
   "execution_count": null,
   "metadata": {},
   "outputs": [],
   "source": [
    "model = tf.keras.models.Sequential()\n",
    "model.add(tf.keras.layers.GRU(29, return_sequences=True, input_shape=(100, 14)))\n",
    "model.add(tf.keras.layers.GRU(29, return_sequences=True))\n",
    "model.add(tf.keras.layers.GRU(29))\n",
    "model.add(tf.keras.layers.Dense(4, activation = 'softmax',\n",
    "                  kernel_regularizer = tf.keras.regularizers.l1_l2(l1 = 1e-5, l2 = 1e-5),\n",
    "                  bias_regularizer = tf.keras.regularizers.l1_l2(l1 = 1e-5, l2 = 1e-5),\n",
    "                  activity_regularizer = tf.keras.regularizers.l1_l2(l1 = 0.0001, l2 = 0.0001)))\n",
    "opt = tf.keras.optimizers.Adam(learning_rate = 0.005, beta_1 = 0.85, beta_2 = 0.999)\n",
    "model.compile(loss = 'categorical_crossentropy', optimizer = opt, metrics = ['accuracy'])"
   ]
  },
  {
   "cell_type": "markdown",
   "metadata": {},
   "source": [
    "Ma niente di buono. Altro modello da provare domani `0.872881 using {'units': 26, 'layers': 3, 'kernel_regularizer': 1e-05, 'bias_regularizer': 1e-05, 'activity_regularizer': 0.0001}`"
   ]
  },
  {
   "cell_type": "markdown",
   "metadata": {},
   "source": [
    "#### 29 Luglio 2021\n",
    "\n",
    "Nuovo modello"
   ]
  },
  {
   "cell_type": "code",
   "execution_count": null,
   "metadata": {},
   "outputs": [],
   "source": [
    "model = tf.keras.models.Sequential()\n",
    "model.add(tf.keras.layers.GRU(26, return_sequences=True, input_shape=(100, 14)))\n",
    "model.add(tf.keras.layers.GRU(26, return_sequences=True))\n",
    "model.add(tf.keras.layers.GRU(26))\n",
    "model.add(tf.keras.layers.Dense(4, activation = 'softmax',\n",
    "                  kernel_regularizer = tf.keras.regularizers.l1_l2(l1 = 1e-05, l2 = 1e-05),\n",
    "                  bias_regularizer = tf.keras.regularizers.l1_l2(l1 = 1e-05, l2 = 1e-05),\n",
    "                  activity_regularizer = tf.keras.regularizers.l1_l2(l1 = 0.0001, l2 = 0.0001)))\n",
    "opt = tf.keras.optimizers.Adam(learning_rate = 0.005, beta_1 = 0.85, beta_2 = 0.999)\n",
    "model.compile(loss = 'categorical_crossentropy', optimizer = opt, metrics = ['accuracy'])"
   ]
  },
  {
   "cell_type": "markdown",
   "metadata": {},
   "source": [
    "Ma neanche questo dà buoni risultati, provo"
   ]
  },
  {
   "cell_type": "code",
   "execution_count": null,
   "metadata": {},
   "outputs": [],
   "source": [
    "model = tf.keras.models.Sequential()\n",
    "model.add(tf.keras.layers.GRU(18, return_sequences=True, input_shape=(100, 14)))\n",
    "model.add(tf.keras.layers.GRU(18))\n",
    "model.add(tf.keras.layers.Dense(4, activation = 'softmax',\n",
    "                  kernel_regularizer = tf.keras.regularizers.l1_l2(l1 = 1e-05, l2 = 1e-05),\n",
    "                  bias_regularizer = tf.keras.regularizers.l1_l2(l1 = 1e-05, l2 = 1e-05),\n",
    "                  activity_regularizer = tf.keras.regularizers.l1_l2(l1 = 1e-06, l2 = 1e-06)))\n",
    "opt = tf.keras.optimizers.Adam(learning_rate = 0.008, beta_1 = 0.95, beta_2 = 0.999)\n",
    "model.compile(loss = 'categorical_crossentropy', optimizer = opt, metrics = ['accuracy'])"
   ]
  },
  {
   "cell_type": "markdown",
   "metadata": {},
   "source": [
    "Dopo varie search ecco che sbuca un altro modello"
   ]
  },
  {
   "cell_type": "code",
   "execution_count": null,
   "metadata": {},
   "outputs": [],
   "source": [
    "model = tf.keras.models.Sequential()\n",
    "model.add(tf.keras.layers.GRU(30, return_sequences=True, input_shape=(100, 14)))\n",
    "model.add(tf.keras.layers.GRU(30))\n",
    "model.add(tf.keras.layers.Dense(4, activation = 'softmax',\n",
    "                  kernel_regularizer = tf.keras.regularizers.l1_l2(l1 = 1e-06, l2 = 1e-06),\n",
    "                  bias_regularizer = tf.keras.regularizers.l1_l2(l1 = 1e-04, l2 = 1e-04),\n",
    "                  activity_regularizer = tf.keras.regularizers.l1_l2(l1 = 1e-06, l2 = 1e-06)))\n",
    "opt = tf.keras.optimizers.Adam(learning_rate = 0.001, beta_2 = 0.98, beta_1 = 0.9)\n",
    "model.compile(loss = 'categorical_crossentropy', optimizer = opt, metrics = ['accuracy'])"
   ]
  },
  {
   "cell_type": "markdown",
   "metadata": {},
   "source": [
    "Con il nuovo metodo di preparazione del dataset, ho `{(1.0, 0.0, 0.0, 0.0): 16, (0.0, 0.0, 1.0, 0.0): 16, (0.0, 0.0, 0.0, 1.0): 16, (0.0, 1.0, 0.0, 0.0): 16}` mentre col vecchio avevo `{(1.0, 0.0, 0.0, 0.0): 377, (0.0, 1.0, 0.0, 0.0): 231, (0.0, 0.0, 1.0, 0.0): 119, (0.0, 0.0, 0.0, 1.0): 107}`\n",
    "\n",
    "Con un po' di fatica ho bilanciato meglio le classi, prendendo 100 esempi per ogni classe per ogni soggetto. Ora riprovo le ricerche.\n",
    "\n",
    "Viene fuori il seguente modello:"
   ]
  },
  {
   "cell_type": "code",
   "execution_count": null,
   "metadata": {},
   "outputs": [],
   "source": [
    "model = tf.keras.models.Sequential()\n",
    "model.add(tf.keras.layers.GRU(18, return_sequences=True, input_shape=(100, 14)))\n",
    "model.add(tf.keras.layers.GRU(18, return_sequences=True))\n",
    "model.add(tf.keras.layers.GRU(18))\n",
    "model.add(tf.keras.layers.Dense(4, activation = 'softmax',\n",
    "                  kernel_regularizer = tf.keras.regularizers.l1_l2(l1 = 1e-05, l2 = 1e-05),\n",
    "                  bias_regularizer = tf.keras.regularizers.l1_l2(l1 = 1e-06, l2 = 1e-06),\n",
    "                  activity_regularizer = tf.keras.regularizers.l1_l2(l1 = 1e-06, l2 = 1e-06)))\n",
    "opt = tf.keras.optimizers.Adam(learning_rate = 0.008, beta_1 = 0.9, beta_2 = 0.999)\n",
    "model.compile(loss = 'categorical_crossentropy', optimizer = opt, metrics = ['accuracy'])"
   ]
  },
  {
   "cell_type": "markdown",
   "metadata": {},
   "source": [
    "#### 30 Luglio 2021\n",
    "\n",
    "Ieri non sono riuscito a trovare un modello con risultati soddisfacenti, oggi proseguo questa strada.\n",
    "\n",
    "La mia conclusione è che la difficoltà sta nel classificare i dati di un solo soggetto invece di prendere dati dai soggetti precedenti. Mi spiego meglio: se uso solo S17 come soggetto di test, e il training lo eseguo sui soggetti precedenti, non riesco a classificare bene S17 perché è una persona nuova, diversa, con parametri diversi per le classi.\n",
    "\n",
    "Potrei provare evitando la standardizzazione dei dati e vedere come si comporta così, cioè usando direttamente i dati \"crudi\" invece di standardizzarli.\n",
    "\n",
    "`{'learning_rate': 0.005, 'beta_2': 0.99, 'beta_1': 0.99}`"
   ]
  },
  {
   "cell_type": "markdown",
   "metadata": {},
   "source": [
    "#### 31 Luglio 2021\n",
    "\n",
    "14.5h di ricerca, il risultato è `{'units': 15, 'layers': 3, 'kernel_regularizer': 0.0001, 'bias_regularizer': 0.0001, 'activity_regularizer': 0.0001}`"
   ]
  },
  {
   "cell_type": "markdown",
   "metadata": {},
   "source": [
    "#### 1 Agosto 2021\n",
    "\n",
    "Ho provato altri modelli ma ancora nessun risultato soddisfacente. Rimango della mia idea, ma vedo se riesco a combinare qualcosa.\n",
    "\n",
    "In serata, ho bilanciato ASCERTAIN. Domani provvedo a trovare modelli anche per lui"
   ]
  },
  {
   "cell_type": "markdown",
   "metadata": {},
   "source": [
    "#### 2 Agosto 2021\n",
    "\n",
    "Ho avviato la ricerca di layer e unità per ASCERTAIN con regolarizzatori = 0.0001, lr = 0.005 e entrambi i beta = 0.99\n",
    "\n",
    "`Best: 0.416667 using {'units': 19, 'layers': 1}`\n",
    "\n",
    "Risultati pessimi provo con regolarizzatori a 1-e06\n",
    "\n",
    "Soluzione del problema suggerita da Lomonaco: usare come test set una partizione dell'intero dataset nel caso offline e S17 nei casi continual. Domani provvedo ai test, con le nuove impostazioni di training dovrei fare in una giornata."
   ]
  },
  {
   "cell_type": "markdown",
   "metadata": {},
   "source": [
    "#### 3 Agosto 2021\n",
    "\n",
    "Avevo interpretato male la soluzione di Lomonaco. Quindi necessitando di un test set fisso ma che è partizione di tutti i soggetti, dovrei generare un test set in fase di preparazione del dataset e rimuovere dai vari soggetti i dati che vengono poi inseriti nel test set\n"
   ]
  },
  {
   "cell_type": "code",
   "execution_count": null,
   "metadata": {},
   "outputs": [],
   "source": [
    "import pickle\n",
    "import numpy as np\n",
    "import copy\n",
    "from collections import Counter\n",
    "from sklearn.model_selection import train_test_split\n",
    "\n",
    "\n",
    "X, y = None, None\n",
    "for S in [\"S2\", \"S3\", \"S4\", \"S5\", \"S6\", \"S7\", \"S8\", \"S9\", \"S10\", \"S11\", \"S13\", \"S14\", \"S15\", \"S16\", \"S17\"]:\n",
    "    Xs = pickle.load(open(\"/home/fexed/ML/datasets/WESAD/splitted/X\" + S + \"_disarli.pkl\", 'rb'), encoding='latin1')\n",
    "    ys = pickle.load(open(\"/home/fexed/ML/datasets/WESAD/splitted/y\" + S + \"_disarli.pkl\", 'rb'), encoding='latin1')\n",
    "\n",
    "    if (X is None):\n",
    "        X = copy.deepcopy(Xs)\n",
    "        y = copy.deepcopy(ys)\n",
    "    else:\n",
    "        X = np.concatenate([X, Xs], axis = 0)\n",
    "        y = np.concatenate([y, ys], axis = 0)\n",
    "    del Xs\n",
    "    del ys\n",
    "    print(\"Loaded \" + S)\n",
    "\n",
    "print(\"Dataset loaded\")\n",
    "\n",
    "print(str(X.shape) + \" \" + str(y.shape), end = \" \")\n",
    "_, Xts, _, yts = train_test_split(X, y, test_size = 0.25, train_size = 0.75, random_state=42)\n",
    "print(str(Xts.shape) + \" \" + str(yts.shape))\n",
    "with open(\"/home/fexed/ML/datasets/WESAD/splitted/Xts.pkl\", 'wb') as handle:\n",
    "    pickle.dump(Xts, handle, protocol=pickle.HIGHEST_PROTOCOL)\n",
    "with open(\"/home/fexed/ML/datasets/WESAD/splitted/yts.pkl\", 'wb') as handle:\n",
    "    pickle.dump(yts, handle, protocol=pickle.HIGHEST_PROTOCOL)\n",
    "\n",
    "for S in [\"S2\", \"S3\", \"S4\", \"S5\", \"S6\", \"S7\", \"S8\", \"S9\", \"S10\", \"S11\", \"S13\", \"S14\", \"S15\", \"S16\", \"S17\"]:\n",
    "    Xs = pickle.load(open(\"/home/fexed/ML/datasets/WESAD/splitted/X\" + S + \"_disarli.pkl\", 'rb'), encoding='latin1')\n",
    "    ys = pickle.load(open(\"/home/fexed/ML/datasets/WESAD/splitted/y\" + S + \"_disarli.pkl\", 'rb'), encoding='latin1')\n",
    "    print(S + \" \" + str(Xs.shape) + \" \" + str(ys.shape), end = \" -> \")\n",
    "    j = []\n",
    "    for xts in Xts:\n",
    "        for i, xs in enumerate(Xs):\n",
    "            if (xts == xs).all():\n",
    "                j.append(i)\n",
    "\n",
    "    Xs = np.delete(Xs, j, axis = 0)\n",
    "    ys = np.delete(ys, j, axis = 0)\n",
    "\n",
    "    print(str(Xs.shape) + \" \" + str(ys.shape))\n",
    "    with open(\"/home/fexed/ML/datasets/WESAD/splitted/X\" + S + \"_disarli.pkl\", 'wb') as handle:\n",
    "        pickle.dump(Xs, handle, protocol=pickle.HIGHEST_PROTOCOL)\n",
    "    with open(\"/home/fexed/ML/datasets/WESAD/splitted/y\" + S + \"_disarli.pkl\", 'wb') as handle:\n",
    "        pickle.dump(ys, handle, protocol=pickle.HIGHEST_PROTOCOL)\n"
   ]
  },
  {
   "cell_type": "markdown",
   "metadata": {},
   "source": [
    "Per __WESAD__:\n",
    "\n",
    "`S2 (400, 100, 14) (400, 4) -> (287, 100, 14) (287, 4)\n",
    "S3 (400, 100, 14) (400, 4) -> (287, 100, 14) (287, 4)\n",
    "S4 (400, 100, 14) (400, 4) -> (298, 100, 14) (298, 4)\n",
    "S5 (400, 100, 14) (400, 4) -> (298, 100, 14) (298, 4)\n",
    "S6 (400, 100, 14) (400, 4) -> (297, 100, 14) (297, 4)\n",
    "S7 (400, 100, 14) (400, 4) -> (303, 100, 14) (303, 4)\n",
    "S8 (400, 100, 14) (400, 4) -> (309, 100, 14) (309, 4)\n",
    "S9 (400, 100, 14) (400, 4) -> (292, 100, 14) (292, 4)\n",
    "S10 (400, 100, 14) (400, 4) -> (313, 100, 14) (313, 4)\n",
    "S11 (400, 100, 14) (400, 4) -> (292, 100, 14) (292, 4)\n",
    "S13 (400, 100, 14) (400, 4) -> (308, 100, 14) (308, 4)\n",
    "S14 (400, 100, 14) (400, 4) -> (297, 100, 14) (297, 4)\n",
    "S15 (400, 100, 14) (400, 4) -> (305, 100, 14) (305, 4)\n",
    "S16 (400, 100, 14) (400, 4) -> (313, 100, 14) (313, 4)\n",
    "S17 (400, 100, 14) (400, 4) -> (301, 100, 14) (301, 4)`"
   ]
  },
  {
   "cell_type": "code",
   "execution_count": null,
   "metadata": {},
   "outputs": [],
   "source": [
    "import pickle\n",
    "import numpy as np\n",
    "import copy\n",
    "from collections import Counter\n",
    "from sklearn.model_selection import train_test_split\n",
    "\n",
    "\n",
    "X, y = None, None\n",
    "for S in [\"S0\", \"S1\", \"S2\", \"S3\", \"S4\", \"S5\", \"S6\", \"S7\", \"S8\", \"S9\", \"S10\", \"S11\", \"S12\", \"S13\", \"S14\", \"S15\", \"S16\", \"S17\"]:\n",
    "    Xs = pickle.load(open(\"/home/fexed/ML/datasets/ASCERTAIN/splitted/X\" + S + \".pkl\", 'rb'), encoding='latin1')\n",
    "    ys = pickle.load(open(\"/home/fexed/ML/datasets/ASCERTAIN/splitted/y\" + S + \".pkl\", 'rb'), encoding='latin1')\n",
    "\n",
    "    if (X is None):\n",
    "        X = copy.deepcopy(Xs)\n",
    "        y = copy.deepcopy(ys)\n",
    "    else:\n",
    "        X = np.concatenate([X, Xs], axis = 0)\n",
    "        y = np.concatenate([y, ys], axis = 0)\n",
    "    del Xs\n",
    "    del ys\n",
    "    print(\"Loaded \" + S)\n",
    "\n",
    "print(\"Dataset loaded\")\n",
    "\n",
    "print(str(X.shape) + \" \" + str(y.shape), end = \" \")\n",
    "_, Xts, _, yts = train_test_split(X, y, test_size = 0.25, train_size = 0.75, random_state=42)\n",
    "print(str(Xts.shape) + \" \" + str(yts.shape))\n",
    "with open(\"/home/fexed/ML/datasets/ASCERTAIN/splitted/Xts.pkl\", 'wb') as handle:\n",
    "    pickle.dump(Xts, handle, protocol=pickle.HIGHEST_PROTOCOL)\n",
    "with open(\"/home/fexed/ML/datasets/ASCERTAIN/splitted/yts.pkl\", 'wb') as handle:\n",
    "    pickle.dump(yts, handle, protocol=pickle.HIGHEST_PROTOCOL)\n",
    "\n",
    "for S in [\"S0\", \"S1\", \"S2\", \"S3\", \"S4\", \"S5\", \"S6\", \"S7\", \"S8\", \"S9\", \"S10\", \"S11\", \"S12\", \"S13\", \"S14\", \"S15\", \"S16\", \"S17\"]:\n",
    "    Xs = pickle.load(open(\"/home/fexed/ML/datasets/ASCERTAIN/splitted/X\" + S + \".pkl\", 'rb'), encoding='latin1')\n",
    "    ys = pickle.load(open(\"/home/fexed/ML/datasets/ASCERTAIN/splitted/y\" + S + \".pkl\", 'rb'), encoding='latin1')\n",
    "    print(S + \" \" + str(Xs.shape) + \" \" + str(ys.shape), end = \" -> \")\n",
    "    j = []\n",
    "    for xts in Xts:\n",
    "        for i, xs in enumerate(Xs):\n",
    "            if (xts == xs).all():\n",
    "                j.append(i)\n",
    "\n",
    "    Xs = np.delete(Xs, j, axis = 0)\n",
    "    ys = np.delete(ys, j, axis = 0)\n",
    "\n",
    "    print(str(Xs.shape) + \" \" + str(ys.shape))\n",
    "    with open(\"/home/fexed/ML/datasets/ASCERTAIN/splitted/X\" + S + \".pkl\", 'wb') as handle:\n",
    "        pickle.dump(Xs, handle, protocol=pickle.HIGHEST_PROTOCOL)\n",
    "    with open(\"/home/fexed/ML/datasets/ASCERTAIN/splitted/y\" + S + \".pkl\", 'wb') as handle:\n",
    "        pickle.dump(ys, handle, protocol=pickle.HIGHEST_PROTOCOL)\n"
   ]
  },
  {
   "cell_type": "markdown",
   "metadata": {},
   "source": [
    "Per __ASCERTAIN__:\n",
    "\n",
    "`S0 (336, 160, 17) (336, 4) -> (239, 160, 17) (239, 4)\n",
    "S1 (252, 160, 17) (252, 4) -> (184, 160, 17) (184, 4)\n",
    "S2 (336, 160, 17) (336, 4) -> (248, 160, 17) (248, 4)\n",
    "S3 (336, 160, 17) (336, 4) -> (249, 160, 17) (249, 4)\n",
    "S4 (336, 160, 17) (336, 4) -> (252, 160, 17) (252, 4)\n",
    "S5 (336, 160, 17) (336, 4) -> (258, 160, 17) (258, 4)\n",
    "S6 (336, 160, 17) (336, 4) -> (257, 160, 17) (257, 4)\n",
    "S7 (336, 160, 17) (336, 4) -> (254, 160, 17) (254, 4)\n",
    "S8 (336, 160, 17) (336, 4) -> (251, 160, 17) (251, 4)\n",
    "S9 (336, 160, 17) (336, 4) -> (256, 160, 17) (256, 4)\n",
    "S10 (324, 160, 17) (324, 4) -> (253, 160, 17) (253, 4)\n",
    "S11 (240, 160, 17) (240, 4) -> (183, 160, 17) (183, 4)\n",
    "S12 (336, 160, 17) (336, 4) -> (263, 160, 17) (263, 4)\n",
    "S13 (336, 160, 17) (336, 4) -> (256, 160, 17) (256, 4)\n",
    "S14 (336, 160, 17) (336, 4) -> (245, 160, 17) (245, 4)\n",
    "S15 (336, 160, 17) (336, 4) -> (250, 160, 17) (250, 4)\n",
    "S16 (336, 160, 17) (336, 4) -> (252, 160, 17) (252, 4)\n",
    "S17 (300, 160, 17) (300, 4) -> (215, 160, 17) (215, 4)`\n",
    "\n",
    "`Best: 0.287973 using {'learning_rate': 0.001, 'beta_2': 0.99, 'beta_1': 0.99}`"
   ]
  },
  {
   "cell_type": "markdown",
   "metadata": {},
   "source": [
    "#### 4 Agosto 2021\n",
    "\n",
    "Le ricerche hanno prodotto questo modello, per ASCERTAIN:"
   ]
  },
  {
   "cell_type": "code",
   "execution_count": null,
   "metadata": {},
   "outputs": [],
   "source": [
    "model = tf.keras.models.Sequential()\n",
    "model.add(tf.keras.layers.GRU(27, return_sequences=True, input_shape=(160, 17)))\n",
    "model.add(tf.keras.layers.GRU(27, return_sequences=True))\n",
    "model.add(tf.keras.layers.GRU(27, return_sequences=True))\n",
    "model.add(tf.keras.layers.GRU(27))\n",
    "model.add(tf.keras.layers.Dense(4, activation = 'softmax',\n",
    "                  kernel_regularizer = tf.keras.regularizers.l1_l2(l1 = 1e-4, l2 = 1e-4),\n",
    "                  bias_regularizer = tf.keras.regularizers.l1_l2(l1 = 1e-4, l2 = 1e-4),\n",
    "                  activity_regularizer = tf.keras.regularizers.l1_l2(l1 = 1e-4, l2 = 1e-4)))\n",
    "opt = tf.keras.optimizers.Adam(learning_rate = 0.001, beta_1 = 0.99, beta_2 = 0.99)\n",
    "model.compile(loss = 'categorical_crossentropy', optimizer = opt, metrics = ['accuracy'])"
   ]
  },
  {
   "cell_type": "markdown",
   "metadata": {},
   "source": [
    "Esasperato dai pessimi risultati su ASCERTAIN, ho controllato ancora una volta i dati e mi sono accorto di una gestione sbagliata delle label (prendevo fondamentalmente sempre le stesse per ogni soggetto)."
   ]
  },
  {
   "cell_type": "markdown",
   "metadata": {},
   "source": [
    "#### 5 Agosto 2021\n",
    "\n",
    "Ce l'ho fatta, ASCERTAIN con accuratezza dell'87% circa. Faccio qualche ricerca per un modello migliore, poi dati e scrittura, finalmente.\n",
    "\n",
    "Alla fine Lomonaco ha preferito l'approccio precedente, anche se a minore accuracy, perché non \"mischio\" i soggetti."
   ]
  },
  {
   "cell_type": "markdown",
   "metadata": {},
   "source": [
    "#### 6 Agosto 2021\n",
    "\n",
    "Oggi si inizia a scrivere, per cui mi sa che da ora in poi passerò su Overleaf in pianta stabile."
   ]
  },
  {
   "cell_type": "code",
   "execution_count": null,
   "metadata": {},
   "outputs": [],
   "source": []
  }
 ],
 "metadata": {
  "kernelspec": {
   "display_name": "Python 3",
   "language": "python",
   "name": "python3"
  },
  "language_info": {
   "codemirror_mode": {
    "name": "ipython",
    "version": 3
   },
   "file_extension": ".py",
   "mimetype": "text/x-python",
   "name": "python",
   "nbconvert_exporter": "python",
   "pygments_lexer": "ipython3",
   "version": "3.8.10"
  }
 },
 "nbformat": 4,
 "nbformat_minor": 5
}
